{
 "cells": [
  {
   "cell_type": "code",
   "execution_count": 47,
   "metadata": {},
   "outputs": [
    {
     "name": "stdout",
     "output_type": "stream",
     "text": [
      "/home/purpy-furcat/Documents/Code/New_Endeavours/BTC_ETF_Tracker/backend\n"
     ]
    }
   ],
   "source": [
    "import os\n",
    "fdel = os.path.sep\n",
    "import sys\n",
    "wd = %pwd\n",
    "parent = os.path.dirname(wd)\n",
    "\n",
    "sys.path.append(parent)\n",
    "import altair as alt\n",
    "import pandas as pd\n",
    "print(wd)\n",
    "from backend import btc_etfs\n",
    "\n",
    "# data = etf.btc_etf_data(metric = \"btc_etf_aum\", export_response = True)\n",
    "# data.df\n",
    "#data_2 = etf.btc_etf_data(metric = \"btc_etf_aum_hist\", export_response = True)\n",
    "# data = etf.json_file_io(filename= wd + fdel + \"backend\"+fdel+\"btc_etf_aum_hist_theblock.json\")\n",
    "# data[\"chart\"][\"jsonFile\"][\"Series\"]"
   ]
  },
  {
   "cell_type": "code",
   "execution_count": null,
   "metadata": {},
   "outputs": [],
   "source": [
    "from bs4 import BeautifulSoup\n",
    "import requests\n",
    "\n",
    "def get_html_save(url: str, save_path: str = wd+fdel+'last_request.html', save: bool = True):\n",
    "    r = requests.get(url)\n",
    "    if save:\n",
    "        with open(save_path, 'w') as wp:\n",
    "            wp.write(r.text)\n",
    "    return r.text  \n",
    "\n",
    "#html = get_html_save(\"https://farside.co.uk/?p=997\", save=True)\n",
    "with open(wd+fdel+'last_request.html', 'r') as wp:\n",
    "    html = wp.read()\n",
    "soup = BeautifulSoup(html, features=\"html.parser\"); dumpstr = \"\"\n",
    "\n",
    "tag = soup.table \n",
    "for span in tag.find_all('span'):\n",
    "    dumpstr+=span.get_text().strip()+\"\\n\"\n",
    "liststr = dumpstr.split(\"\\n\")  \n",
    "dropafter = liststr.index(\"Average\")\n",
    "liststr = liststr[:dropafter]\n",
    "index = []; vals = []; colnames = []; notmatched = []; totalcount = 0\n",
    "print(liststr)"
   ]
  },
  {
   "cell_type": "code",
   "execution_count": null,
   "metadata": {},
   "outputs": [
    {
     "data": {
      "text/html": [
       "\n",
       "<style>\n",
       "  #altair-viz-f951119309a449b894f02ca2a60f7eba.vega-embed {\n",
       "    width: 100%;\n",
       "    display: flex;\n",
       "  }\n",
       "\n",
       "  #altair-viz-f951119309a449b894f02ca2a60f7eba.vega-embed details,\n",
       "  #altair-viz-f951119309a449b894f02ca2a60f7eba.vega-embed details summary {\n",
       "    position: relative;\n",
       "  }\n",
       "</style>\n",
       "<div id=\"altair-viz-f951119309a449b894f02ca2a60f7eba\"></div>\n",
       "<script type=\"text/javascript\">\n",
       "  var VEGA_DEBUG = (typeof VEGA_DEBUG == \"undefined\") ? {} : VEGA_DEBUG;\n",
       "  (function(spec, embedOpt){\n",
       "    let outputDiv = document.currentScript.previousElementSibling;\n",
       "    if (outputDiv.id !== \"altair-viz-f951119309a449b894f02ca2a60f7eba\") {\n",
       "      outputDiv = document.getElementById(\"altair-viz-f951119309a449b894f02ca2a60f7eba\");\n",
       "    }\n",
       "    const paths = {\n",
       "      \"vega\": \"https://cdn.jsdelivr.net/npm/vega@5?noext\",\n",
       "      \"vega-lib\": \"https://cdn.jsdelivr.net/npm/vega-lib?noext\",\n",
       "      \"vega-lite\": \"https://cdn.jsdelivr.net/npm/vega-lite@5.16.3?noext\",\n",
       "      \"vega-embed\": \"https://cdn.jsdelivr.net/npm/vega-embed@6?noext\",\n",
       "    };\n",
       "\n",
       "    function maybeLoadScript(lib, version) {\n",
       "      var key = `${lib.replace(\"-\", \"\")}_version`;\n",
       "      return (VEGA_DEBUG[key] == version) ?\n",
       "        Promise.resolve(paths[lib]) :\n",
       "        new Promise(function(resolve, reject) {\n",
       "          var s = document.createElement('script');\n",
       "          document.getElementsByTagName(\"head\")[0].appendChild(s);\n",
       "          s.async = true;\n",
       "          s.onload = () => {\n",
       "            VEGA_DEBUG[key] = version;\n",
       "            return resolve(paths[lib]);\n",
       "          };\n",
       "          s.onerror = () => reject(`Error loading script: ${paths[lib]}`);\n",
       "          s.src = paths[lib];\n",
       "        });\n",
       "    }\n",
       "\n",
       "    function showError(err) {\n",
       "      outputDiv.innerHTML = `<div class=\"error\" style=\"color:red;\">${err}</div>`;\n",
       "      throw err;\n",
       "    }\n",
       "\n",
       "    function displayChart(vegaEmbed) {\n",
       "      vegaEmbed(outputDiv, spec, embedOpt)\n",
       "        .catch(err => showError(`Javascript Error: ${err.message}<br>This usually means there's a typo in your chart specification. See the javascript console for the full traceback.`));\n",
       "    }\n",
       "\n",
       "    if(typeof define === \"function\" && define.amd) {\n",
       "      requirejs.config({paths});\n",
       "      require([\"vega-embed\"], displayChart, err => showError(`Error loading script: ${err.message}`));\n",
       "    } else {\n",
       "      maybeLoadScript(\"vega\", \"5\")\n",
       "        .then(() => maybeLoadScript(\"vega-lite\", \"5.16.3\"))\n",
       "        .then(() => maybeLoadScript(\"vega-embed\", \"6\"))\n",
       "        .catch(showError)\n",
       "        .then(() => displayChart(vegaEmbed));\n",
       "    }\n",
       "  })({\"config\": {\"view\": {\"continuousWidth\": 300, \"continuousHeight\": 300}}, \"data\": {\"name\": \"data-a8ec5a12e98486291392ace8c584cbd7\"}, \"mark\": {\"type\": \"bar\"}, \"encoding\": {\"color\": {\"field\": \"Category\", \"type\": \"nominal\"}, \"x\": {\"axis\": {\"title\": \"Date\"}, \"field\": \"Timestamp\", \"type\": \"temporal\"}, \"y\": {\"field\": \"Values\", \"type\": \"quantitative\"}}, \"params\": [{\"name\": \"param_4\", \"select\": {\"type\": \"interval\", \"encodings\": [\"x\", \"y\"]}, \"bind\": \"scales\"}], \"$schema\": \"https://vega.github.io/schema/vega-lite/v5.16.3.json\", \"datasets\": {\"data-a8ec5a12e98486291392ace8c584cbd7\": [{\"Timestamp\": \"2024-01-11T00:00:00\", \"Category\": \"IBIT\", \"Values\": 122000000}, {\"Timestamp\": \"2024-01-12T00:00:00\", \"Category\": \"IBIT\", \"Values\": 500700000}, {\"Timestamp\": \"2024-01-16T00:00:00\", \"Category\": \"IBIT\", \"Values\": 707000000}, {\"Timestamp\": \"2024-01-17T00:00:00\", \"Category\": \"IBIT\", \"Values\": 1069600000}, {\"Timestamp\": \"2024-01-18T00:00:00\", \"Category\": \"IBIT\", \"Values\": 1171700000}, {\"Timestamp\": \"2024-01-19T00:00:00\", \"Category\": \"IBIT\", \"Values\": 1400800000}, {\"Timestamp\": \"2024-01-22T00:00:00\", \"Category\": \"IBIT\", \"Values\": 1601700000}, {\"Timestamp\": \"2024-01-23T00:00:00\", \"Category\": \"IBIT\", \"Values\": 1726700000}, {\"Timestamp\": \"2024-01-24T00:00:00\", \"Category\": \"IBIT\", \"Values\": 1816400000}, {\"Timestamp\": \"2024-01-25T00:00:00\", \"Category\": \"IBIT\", \"Values\": 1989800000}, {\"Timestamp\": \"2024-01-26T00:00:00\", \"Category\": \"IBIT\", \"Values\": 2185900000}, {\"Timestamp\": \"2024-01-29T00:00:00\", \"Category\": \"IBIT\", \"Values\": 2440400000}, {\"Timestamp\": \"2024-01-30T00:00:00\", \"Category\": \"IBIT\", \"Values\": 2769200000}, {\"Timestamp\": \"2024-01-31T00:00:00\", \"Category\": \"IBIT\", \"Values\": 2836700000}, {\"Timestamp\": \"2024-02-01T00:00:00\", \"Category\": \"IBIT\", \"Values\": 3014300000}, {\"Timestamp\": \"2024-02-02T00:00:00\", \"Category\": \"IBIT\", \"Values\": 3116100000}, {\"Timestamp\": \"2024-02-05T00:00:00\", \"Category\": \"IBIT\", \"Values\": 3212900000}, {\"Timestamp\": \"2024-02-06T00:00:00\", \"Category\": \"IBIT\", \"Values\": 3312000000}, {\"Timestamp\": \"2024-02-07T00:00:00\", \"Category\": \"IBIT\", \"Values\": 3435700000}, {\"Timestamp\": \"2024-02-08T00:00:00\", \"Category\": \"IBIT\", \"Values\": 3751700000}, {\"Timestamp\": \"2024-02-09T00:00:00\", \"Category\": \"IBIT\", \"Values\": 3930138000}, {\"Timestamp\": \"2024-02-12T00:00:00\", \"Category\": \"IBIT\", \"Values\": 4387484000}, {\"Timestamp\": \"2024-02-13T00:00:00\", \"Category\": \"IBIT\", \"Values\": 4696402000}, {\"Timestamp\": \"2024-02-14T00:00:00\", \"Category\": \"IBIT\", \"Values\": 5453917000}, {\"Timestamp\": \"2024-02-15T00:00:00\", \"Category\": \"IBIT\", \"Values\": 5683829000}, {\"Timestamp\": \"2024-02-16T00:00:00\", \"Category\": \"IBIT\", \"Values\": 6012870000}, {\"Timestamp\": \"2024-01-11T00:00:00\", \"Category\": \"BITB\", \"Values\": 240000000}, {\"Timestamp\": \"2024-01-12T00:00:00\", \"Category\": \"BITB\", \"Values\": 225500000}, {\"Timestamp\": \"2024-01-16T00:00:00\", \"Category\": \"BITB\", \"Values\": 239800000}, {\"Timestamp\": \"2024-01-17T00:00:00\", \"Category\": \"BITB\", \"Values\": 354500000}, {\"Timestamp\": \"2024-01-18T00:00:00\", \"Category\": \"BITB\", \"Values\": 360200000}, {\"Timestamp\": \"2024-01-19T00:00:00\", \"Category\": \"BITB\", \"Values\": 425400000}, {\"Timestamp\": \"2024-01-22T00:00:00\", \"Category\": \"BITB\", \"Values\": 448800000}, {\"Timestamp\": \"2024-01-23T00:00:00\", \"Category\": \"BITB\", \"Values\": 465300000}, {\"Timestamp\": \"2024-01-24T00:00:00\", \"Category\": \"BITB\", \"Values\": 490700000}, {\"Timestamp\": \"2024-01-25T00:00:00\", \"Category\": \"BITB\", \"Values\": 511500000}, {\"Timestamp\": \"2024-01-26T00:00:00\", \"Category\": \"BITB\", \"Values\": 570400000}, {\"Timestamp\": \"2024-01-29T00:00:00\", \"Category\": \"BITB\", \"Values\": 605000000}, {\"Timestamp\": \"2024-01-30T00:00:00\", \"Category\": \"BITB\", \"Values\": 634200000}, {\"Timestamp\": \"2024-01-31T00:00:00\", \"Category\": \"BITB\", \"Values\": 640800000}, {\"Timestamp\": \"2024-02-01T00:00:00\", \"Category\": \"BITB\", \"Values\": 648200000}, {\"Timestamp\": \"2024-02-02T00:00:00\", \"Category\": \"BITB\", \"Values\": 658800000}, {\"Timestamp\": \"2024-02-05T00:00:00\", \"Category\": \"BITB\", \"Values\": 650200000}, {\"Timestamp\": \"2024-02-06T00:00:00\", \"Category\": \"BITB\", \"Values\": 672400000}, {\"Timestamp\": \"2024-02-07T00:00:00\", \"Category\": \"BITB\", \"Values\": 707500000}, {\"Timestamp\": \"2024-02-08T00:00:00\", \"Category\": \"BITB\", \"Values\": 791000000}, {\"Timestamp\": \"2024-02-09T00:00:00\", \"Category\": \"BITB\", \"Values\": 857746000}, {\"Timestamp\": \"2024-02-12T00:00:00\", \"Category\": \"BITB\", \"Values\": 933119000}, {\"Timestamp\": \"2024-02-13T00:00:00\", \"Category\": \"BITB\", \"Values\": 930978000}, {\"Timestamp\": \"2024-02-14T00:00:00\", \"Category\": \"BITB\", \"Values\": 1025580000}, {\"Timestamp\": \"2024-02-15T00:00:00\", \"Category\": \"BITB\", \"Values\": 1167326636}, {\"Timestamp\": \"2024-02-16T00:00:00\", \"Category\": \"BITB\", \"Values\": 1167328000}, {\"Timestamp\": \"2024-01-11T00:00:00\", \"Category\": \"ARKB\", \"Values\": 76000000}, {\"Timestamp\": \"2024-01-12T00:00:00\", \"Category\": \"ARKB\", \"Values\": 111000000}, {\"Timestamp\": \"2024-01-16T00:00:00\", \"Category\": \"ARKB\", \"Values\": 231800000}, {\"Timestamp\": \"2024-01-17T00:00:00\", \"Category\": \"ARKB\", \"Values\": 279300000}, {\"Timestamp\": \"2024-01-18T00:00:00\", \"Category\": \"ARKB\", \"Values\": 309700000}, {\"Timestamp\": \"2024-01-19T00:00:00\", \"Category\": \"ARKB\", \"Values\": 379600000}, {\"Timestamp\": \"2024-01-22T00:00:00\", \"Category\": \"ARKB\", \"Values\": 428400000}, {\"Timestamp\": \"2024-01-23T00:00:00\", \"Category\": \"ARKB\", \"Values\": 480900000}, {\"Timestamp\": \"2024-01-24T00:00:00\", \"Category\": \"ARKB\", \"Values\": 512300000}, {\"Timestamp\": \"2024-01-25T00:00:00\", \"Category\": \"ARKB\", \"Values\": 529200000}, {\"Timestamp\": \"2024-01-26T00:00:00\", \"Category\": \"ARKB\", \"Values\": 604600000}, {\"Timestamp\": \"2024-01-29T00:00:00\", \"Category\": \"ARKB\", \"Values\": 637400000}, {\"Timestamp\": \"2024-01-30T00:00:00\", \"Category\": \"ARKB\", \"Values\": 661900000}, {\"Timestamp\": \"2024-01-31T00:00:00\", \"Category\": \"ARKB\", \"Values\": 665000000}, {\"Timestamp\": \"2024-02-01T00:00:00\", \"Category\": \"ARKB\", \"Values\": 684200000}, {\"Timestamp\": \"2024-02-02T00:00:00\", \"Category\": \"ARKB\", \"Values\": 705800000}, {\"Timestamp\": \"2024-02-05T00:00:00\", \"Category\": \"ARKB\", \"Values\": 696700000}, {\"Timestamp\": \"2024-02-06T00:00:00\", \"Category\": \"ARKB\", \"Values\": 717000000}, {\"Timestamp\": \"2024-02-07T00:00:00\", \"Category\": \"ARKB\", \"Values\": 734900000}, {\"Timestamp\": \"2024-02-08T00:00:00\", \"Category\": \"ARKB\", \"Values\": 845200000}, {\"Timestamp\": \"2024-02-09T00:00:00\", \"Category\": \"ARKB\", \"Values\": 1021887000}, {\"Timestamp\": \"2024-02-12T00:00:00\", \"Category\": \"ARKB\", \"Values\": 1112381000}, {\"Timestamp\": \"2024-02-13T00:00:00\", \"Category\": \"ARKB\", \"Values\": 1132000000}, {\"Timestamp\": \"2024-02-14T00:00:00\", \"Category\": \"ARKB\", \"Values\": 1291207000}, {\"Timestamp\": \"2024-02-15T00:00:00\", \"Category\": \"ARKB\", \"Values\": 1381379425}, {\"Timestamp\": \"2024-02-16T00:00:00\", \"Category\": \"ARKB\", \"Values\": 1520927000}, {\"Timestamp\": \"2024-01-11T00:00:00\", \"Category\": \"EZBC\", \"Values\": 53000000}, {\"Timestamp\": \"2024-01-12T00:00:00\", \"Category\": \"EZBC\", \"Values\": 49500000}, {\"Timestamp\": \"2024-01-16T00:00:00\", \"Category\": \"EZBC\", \"Values\": 48900000}, {\"Timestamp\": \"2024-01-17T00:00:00\", \"Category\": \"EZBC\", \"Values\": 49500000}, {\"Timestamp\": \"2024-01-18T00:00:00\", \"Category\": \"EZBC\", \"Values\": 47500000}, {\"Timestamp\": \"2024-01-19T00:00:00\", \"Category\": \"EZBC\", \"Values\": 48600000}, {\"Timestamp\": \"2024-01-22T00:00:00\", \"Category\": \"EZBC\", \"Values\": 51200000}, {\"Timestamp\": \"2024-01-23T00:00:00\", \"Category\": \"EZBC\", \"Values\": 51200000}, {\"Timestamp\": \"2024-01-24T00:00:00\", \"Category\": \"EZBC\", \"Values\": 53100000}, {\"Timestamp\": \"2024-01-25T00:00:00\", \"Category\": \"EZBC\", \"Values\": 53100000}, {\"Timestamp\": \"2024-01-26T00:00:00\", \"Category\": \"EZBC\", \"Values\": 57300000}, {\"Timestamp\": \"2024-01-29T00:00:00\", \"Category\": \"EZBC\", \"Values\": 58700000}, {\"Timestamp\": \"2024-01-30T00:00:00\", \"Category\": \"EZBC\", \"Values\": 62000000}, {\"Timestamp\": \"2024-01-31T00:00:00\", \"Category\": \"EZBC\", \"Values\": 60900000}, {\"Timestamp\": \"2024-02-01T00:00:00\", \"Category\": \"EZBC\", \"Values\": 61200000}, {\"Timestamp\": \"2024-02-02T00:00:00\", \"Category\": \"EZBC\", \"Values\": 63600000}, {\"Timestamp\": \"2024-02-05T00:00:00\", \"Category\": \"EZBC\", \"Values\": 62800000}, {\"Timestamp\": \"2024-02-06T00:00:00\", \"Category\": \"EZBC\", \"Values\": 63800000}, {\"Timestamp\": \"2024-02-07T00:00:00\", \"Category\": \"EZBC\", \"Values\": 70200000}, {\"Timestamp\": \"2024-02-08T00:00:00\", \"Category\": \"EZBC\", \"Values\": 69600000}, {\"Timestamp\": \"2024-02-09T00:00:00\", \"Category\": \"EZBC\", \"Values\": 63824000}, {\"Timestamp\": \"2024-02-12T00:00:00\", \"Category\": \"EZBC\", \"Values\": 74824000}, {\"Timestamp\": \"2024-02-13T00:00:00\", \"Category\": \"EZBC\", \"Values\": 80500000}, {\"Timestamp\": \"2024-02-14T00:00:00\", \"Category\": \"EZBC\", \"Values\": 84130000}, {\"Timestamp\": \"2024-02-15T00:00:00\", \"Category\": \"EZBC\", \"Values\": 96245000}, {\"Timestamp\": \"2024-02-16T00:00:00\", \"Category\": \"EZBC\", \"Values\": 96224000}, {\"Timestamp\": \"2024-01-11T00:00:00\", \"Category\": \"BTCW\", \"Values\": 3000000}, {\"Timestamp\": \"2024-01-12T00:00:00\", \"Category\": \"BTCW\", \"Values\": 3300000}, {\"Timestamp\": \"2024-01-16T00:00:00\", \"Category\": \"BTCW\", \"Values\": 3200000}, {\"Timestamp\": \"2024-01-17T00:00:00\", \"Category\": \"BTCW\", \"Values\": 4800000}, {\"Timestamp\": \"2024-01-18T00:00:00\", \"Category\": \"BTCW\", \"Values\": 4600000}, {\"Timestamp\": \"2024-01-19T00:00:00\", \"Category\": \"BTCW\", \"Values\": 7600000}, {\"Timestamp\": \"2024-01-22T00:00:00\", \"Category\": \"BTCW\", \"Values\": 7700000}, {\"Timestamp\": \"2024-01-23T00:00:00\", \"Category\": \"BTCW\", \"Values\": 7500000}, {\"Timestamp\": \"2024-01-24T00:00:00\", \"Category\": \"BTCW\", \"Values\": 8000000}, {\"Timestamp\": \"2024-01-25T00:00:00\", \"Category\": \"BTCW\", \"Values\": 8000000}, {\"Timestamp\": \"2024-01-26T00:00:00\", \"Category\": \"BTCW\", \"Values\": 8500000}, {\"Timestamp\": \"2024-01-29T00:00:00\", \"Category\": \"BTCW\", \"Values\": 9200000}, {\"Timestamp\": \"2024-01-30T00:00:00\", \"Category\": \"BTCW\", \"Values\": 11300000}, {\"Timestamp\": \"2024-01-31T00:00:00\", \"Category\": \"BTCW\", \"Values\": 11200000}, {\"Timestamp\": \"2024-02-01T00:00:00\", \"Category\": \"BTCW\", \"Values\": 11900000}, {\"Timestamp\": \"2024-02-02T00:00:00\", \"Category\": \"BTCW\", \"Values\": 12800000}, {\"Timestamp\": \"2024-02-05T00:00:00\", \"Category\": \"BTCW\", \"Values\": 13300000}, {\"Timestamp\": \"2024-02-06T00:00:00\", \"Category\": \"BTCW\", \"Values\": 14700000}, {\"Timestamp\": \"2024-02-07T00:00:00\", \"Category\": \"BTCW\", \"Values\": 15900000}, {\"Timestamp\": \"2024-02-08T00:00:00\", \"Category\": \"BTCW\", \"Values\": 14900000}, {\"Timestamp\": \"2024-02-09T00:00:00\", \"Category\": \"BTCW\", \"Values\": 18970000}, {\"Timestamp\": \"2024-02-12T00:00:00\", \"Category\": \"BTCW\", \"Values\": 20439000}, {\"Timestamp\": \"2024-02-13T00:00:00\", \"Category\": \"BTCW\", \"Values\": 20156000}, {\"Timestamp\": \"2024-02-14T00:00:00\", \"Category\": \"BTCW\", \"Values\": 22834000}, {\"Timestamp\": \"2024-02-15T00:00:00\", \"Category\": \"BTCW\", \"Values\": 26436000}, {\"Timestamp\": \"2024-02-16T00:00:00\", \"Category\": \"BTCW\", \"Values\": 26429000}, {\"Timestamp\": \"2024-01-11T00:00:00\", \"Category\": \"BTCO\", \"Values\": 22000000}, {\"Timestamp\": \"2024-01-12T00:00:00\", \"Category\": \"BTCO\", \"Values\": 22500000}, {\"Timestamp\": \"2024-01-16T00:00:00\", \"Category\": \"BTCO\", \"Values\": 80900000}, {\"Timestamp\": \"2024-01-17T00:00:00\", \"Category\": \"BTCO\", \"Values\": 137500000}, {\"Timestamp\": \"2024-01-18T00:00:00\", \"Category\": \"BTCO\", \"Values\": 190000000}, {\"Timestamp\": \"2024-01-19T00:00:00\", \"Category\": \"BTCO\", \"Values\": 257400000}, {\"Timestamp\": \"2024-01-22T00:00:00\", \"Category\": \"BTCO\", \"Values\": 254300000}, {\"Timestamp\": \"2024-01-23T00:00:00\", \"Category\": \"BTCO\", \"Values\": 247800000}, {\"Timestamp\": \"2024-01-24T00:00:00\", \"Category\": \"BTCO\", \"Values\": 270000000}, {\"Timestamp\": \"2024-01-25T00:00:00\", \"Category\": \"BTCO\", \"Values\": 272200000}, {\"Timestamp\": \"2024-01-26T00:00:00\", \"Category\": \"BTCO\", \"Values\": 287100000}, {\"Timestamp\": \"2024-01-29T00:00:00\", \"Category\": \"BTCO\", \"Values\": 298200000}, {\"Timestamp\": \"2024-01-30T00:00:00\", \"Category\": \"BTCO\", \"Values\": 307300000}, {\"Timestamp\": \"2024-01-31T00:00:00\", \"Category\": \"BTCO\", \"Values\": 301500000}, {\"Timestamp\": \"2024-02-01T00:00:00\", \"Category\": \"BTCO\", \"Values\": 304900000}, {\"Timestamp\": \"2024-02-02T00:00:00\", \"Category\": \"BTCO\", \"Values\": 304400000}, {\"Timestamp\": \"2024-02-05T00:00:00\", \"Category\": \"BTCO\", \"Values\": 300400000}, {\"Timestamp\": \"2024-02-06T00:00:00\", \"Category\": \"BTCO\", \"Values\": 305500000}, {\"Timestamp\": \"2024-02-07T00:00:00\", \"Category\": \"BTCO\", \"Values\": 321500000}, {\"Timestamp\": \"2024-02-08T00:00:00\", \"Category\": \"BTCO\", \"Values\": 345100000}, {\"Timestamp\": \"2024-02-09T00:00:00\", \"Category\": \"BTCO\", \"Values\": 343106000}, {\"Timestamp\": \"2024-02-12T00:00:00\", \"Category\": \"BTCO\", \"Values\": 341448000}, {\"Timestamp\": \"2024-02-13T00:00:00\", \"Category\": \"BTCO\", \"Values\": 336237000}, {\"Timestamp\": \"2024-02-14T00:00:00\", \"Category\": \"BTCO\", \"Values\": 314349000}, {\"Timestamp\": \"2024-02-15T00:00:00\", \"Category\": \"BTCO\", \"Values\": 315479000}, {\"Timestamp\": \"2024-02-16T00:00:00\", \"Category\": \"BTCO\", \"Values\": 317397000}, {\"Timestamp\": \"2024-01-11T00:00:00\", \"Category\": \"FBTC\", \"Values\": 247000000}, {\"Timestamp\": \"2024-01-12T00:00:00\", \"Category\": \"FBTC\", \"Values\": 427000000}, {\"Timestamp\": \"2024-01-16T00:00:00\", \"Category\": \"FBTC\", \"Values\": 523200000}, {\"Timestamp\": \"2024-01-17T00:00:00\", \"Category\": \"FBTC\", \"Values\": 874600000}, {\"Timestamp\": \"2024-01-18T00:00:00\", \"Category\": \"FBTC\", \"Values\": 1016700000}, {\"Timestamp\": \"2024-01-19T00:00:00\", \"Category\": \"FBTC\", \"Values\": 1262700000}, {\"Timestamp\": \"2024-01-22T00:00:00\", \"Category\": \"FBTC\", \"Values\": 1368900000}, {\"Timestamp\": \"2024-01-23T00:00:00\", \"Category\": \"FBTC\", \"Values\": 1495400000}, {\"Timestamp\": \"2024-01-24T00:00:00\", \"Category\": \"FBTC\", \"Values\": 1638100000}, {\"Timestamp\": \"2024-01-25T00:00:00\", \"Category\": \"FBTC\", \"Values\": 1746700000}, {\"Timestamp\": \"2024-01-26T00:00:00\", \"Category\": \"FBTC\", \"Values\": 1941600000}, {\"Timestamp\": \"2024-01-29T00:00:00\", \"Category\": \"FBTC\", \"Values\": 2201200000}, {\"Timestamp\": \"2024-01-30T00:00:00\", \"Category\": \"FBTC\", \"Values\": 2346600000}, {\"Timestamp\": \"2024-01-31T00:00:00\", \"Category\": \"FBTC\", \"Values\": 2535400000}, {\"Timestamp\": \"2024-02-01T00:00:00\", \"Category\": \"FBTC\", \"Values\": 2585800000}, {\"Timestamp\": \"2024-02-02T00:00:00\", \"Category\": \"FBTC\", \"Values\": 2660700000}, {\"Timestamp\": \"2024-02-05T00:00:00\", \"Category\": \"FBTC\", \"Values\": 2660800000}, {\"Timestamp\": \"2024-02-06T00:00:00\", \"Category\": \"FBTC\", \"Values\": 2745600000}, {\"Timestamp\": \"2024-02-07T00:00:00\", \"Category\": \"FBTC\", \"Values\": 2937100000}, {\"Timestamp\": \"2024-02-08T00:00:00\", \"Category\": \"FBTC\", \"Values\": 3159500000}, {\"Timestamp\": \"2024-02-09T00:00:00\", \"Category\": \"FBTC\", \"Values\": 3306362000}, {\"Timestamp\": \"2024-02-12T00:00:00\", \"Category\": \"FBTC\", \"Values\": 3668692000}, {\"Timestamp\": \"2024-02-13T00:00:00\", \"Category\": \"FBTC\", \"Values\": 3763275000}, {\"Timestamp\": \"2024-02-14T00:00:00\", \"Category\": \"FBTC\", \"Values\": 4131883000}, {\"Timestamp\": \"2024-02-15T00:00:00\", \"Category\": \"FBTC\", \"Values\": 4251655000}, {\"Timestamp\": \"2024-02-16T00:00:00\", \"Category\": \"FBTC\", \"Values\": 4350417000}, {\"Timestamp\": \"2024-01-11T00:00:00\", \"Category\": \"BRRR\", \"Values\": 1000000}, {\"Timestamp\": \"2024-01-12T00:00:00\", \"Category\": \"BRRR\", \"Values\": 500000}, {\"Timestamp\": \"2024-01-16T00:00:00\", \"Category\": \"BRRR\", \"Values\": 47700000}, {\"Timestamp\": \"2024-01-17T00:00:00\", \"Category\": \"BRRR\", \"Values\": 62200000}, {\"Timestamp\": \"2024-01-18T00:00:00\", \"Category\": \"BRRR\", \"Values\": 60800000}, {\"Timestamp\": \"2024-01-19T00:00:00\", \"Category\": \"BRRR\", \"Values\": 71700000}, {\"Timestamp\": \"2024-01-22T00:00:00\", \"Category\": \"BRRR\", \"Values\": 88300000}, {\"Timestamp\": \"2024-01-23T00:00:00\", \"Category\": \"BRRR\", \"Values\": 86400000}, {\"Timestamp\": \"2024-01-24T00:00:00\", \"Category\": \"BRRR\", \"Values\": 96600000}, {\"Timestamp\": \"2024-01-25T00:00:00\", \"Category\": \"BRRR\", \"Values\": 103300000}, {\"Timestamp\": \"2024-01-26T00:00:00\", \"Category\": \"BRRR\", \"Values\": 110700000}, {\"Timestamp\": \"2024-01-29T00:00:00\", \"Category\": \"BRRR\", \"Values\": 113600000}, {\"Timestamp\": \"2024-01-30T00:00:00\", \"Category\": \"BRRR\", \"Values\": 114900000}, {\"Timestamp\": \"2024-01-31T00:00:00\", \"Category\": \"BRRR\", \"Values\": 113500000}, {\"Timestamp\": \"2024-02-01T00:00:00\", \"Category\": \"BRRR\", \"Values\": 114100000}, {\"Timestamp\": \"2024-02-02T00:00:00\", \"Category\": \"BRRR\", \"Values\": 113900000}, {\"Timestamp\": \"2024-02-05T00:00:00\", \"Category\": \"BRRR\", \"Values\": 112400000}, {\"Timestamp\": \"2024-02-06T00:00:00\", \"Category\": \"BRRR\", \"Values\": 114300000}, {\"Timestamp\": \"2024-02-07T00:00:00\", \"Category\": \"BRRR\", \"Values\": 117900000}, {\"Timestamp\": \"2024-02-08T00:00:00\", \"Category\": \"BRRR\", \"Values\": 123700000}, {\"Timestamp\": \"2024-02-09T00:00:00\", \"Category\": \"BRRR\", \"Values\": 129568000}, {\"Timestamp\": \"2024-02-12T00:00:00\", \"Category\": \"BRRR\", \"Values\": 137390000}, {\"Timestamp\": \"2024-02-13T00:00:00\", \"Category\": \"BRRR\", \"Values\": 136540000}, {\"Timestamp\": \"2024-02-14T00:00:00\", \"Category\": \"BRRR\", \"Values\": 143497000}, {\"Timestamp\": \"2024-02-15T00:00:00\", \"Category\": \"BRRR\", \"Values\": 144668000}, {\"Timestamp\": \"2024-02-16T00:00:00\", \"Category\": \"BRRR\", \"Values\": 151973000}, {\"Timestamp\": \"2024-01-11T00:00:00\", \"Category\": \"HODL\", \"Values\": 87000000}, {\"Timestamp\": \"2024-01-12T00:00:00\", \"Category\": \"HODL\", \"Values\": 81700000}, {\"Timestamp\": \"2024-01-16T00:00:00\", \"Category\": \"HODL\", \"Values\": 88000000}, {\"Timestamp\": \"2024-01-17T00:00:00\", \"Category\": \"HODL\", \"Values\": 91700000}, {\"Timestamp\": \"2024-01-18T00:00:00\", \"Category\": \"HODL\", \"Values\": 90300000}, {\"Timestamp\": \"2024-01-19T00:00:00\", \"Category\": \"HODL\", \"Values\": 106700000}, {\"Timestamp\": \"2024-01-22T00:00:00\", \"Category\": \"HODL\", \"Values\": 109000000}, {\"Timestamp\": \"2024-01-23T00:00:00\", \"Category\": \"HODL\", \"Values\": 108800000}, {\"Timestamp\": \"2024-01-24T00:00:00\", \"Category\": \"HODL\", \"Values\": 114800000}, {\"Timestamp\": \"2024-01-25T00:00:00\", \"Category\": \"HODL\", \"Values\": 114900000}, {\"Timestamp\": \"2024-01-26T00:00:00\", \"Category\": \"HODL\", \"Values\": 123600000}, {\"Timestamp\": \"2024-01-29T00:00:00\", \"Category\": \"HODL\", \"Values\": 126800000}, {\"Timestamp\": \"2024-01-30T00:00:00\", \"Category\": \"HODL\", \"Values\": 128300000}, {\"Timestamp\": \"2024-01-31T00:00:00\", \"Category\": \"HODL\", \"Values\": 128500000}, {\"Timestamp\": \"2024-02-01T00:00:00\", \"Category\": \"HODL\", \"Values\": 129100000}, {\"Timestamp\": \"2024-02-02T00:00:00\", \"Category\": \"HODL\", \"Values\": 131400000}, {\"Timestamp\": \"2024-02-05T00:00:00\", \"Category\": \"HODL\", \"Values\": 129700000}, {\"Timestamp\": \"2024-02-06T00:00:00\", \"Category\": \"HODL\", \"Values\": 134300000}, {\"Timestamp\": \"2024-02-07T00:00:00\", \"Category\": \"HODL\", \"Values\": 137000000}, {\"Timestamp\": \"2024-02-08T00:00:00\", \"Category\": \"HODL\", \"Values\": 151800000}, {\"Timestamp\": \"2024-02-09T00:00:00\", \"Category\": \"HODL\", \"Values\": 158960000}, {\"Timestamp\": \"2024-02-12T00:00:00\", \"Category\": \"HODL\", \"Values\": 169633000}, {\"Timestamp\": \"2024-02-13T00:00:00\", \"Category\": \"HODL\", \"Values\": 175676000}, {\"Timestamp\": \"2024-02-14T00:00:00\", \"Category\": \"HODL\", \"Values\": 184621000}, {\"Timestamp\": \"2024-02-15T00:00:00\", \"Category\": \"HODL\", \"Values\": 187735000}, {\"Timestamp\": \"2024-02-16T00:00:00\", \"Category\": \"HODL\", \"Values\": 190609000}]}}, {\"mode\": \"vega-lite\"});\n",
       "</script>"
      ],
      "text/plain": [
       "alt.Chart(...)"
      ]
     },
     "execution_count": 10,
     "metadata": {},
     "output_type": "execute_result"
    }
   ],
   "source": [
    "\n",
    "# data_melted = data.reset_index(drop=False).melt('Timestamp', var_name='Fund', value_name='Net Flow (USD)')\n",
    "# data_melted\n",
    "# Create a bar chart for each column and layer them on top of each other\n",
    "data_melted = aum_data.reset_index().melt('Timestamp', var_name='Category', value_name='Values') \n",
    "data_melted\n",
    "chart = alt.Chart(data_melted).mark_bar().encode(\n",
    "    x=alt.X('Timestamp:T', axis=alt.Axis(title='Date')),\n",
    "    y=alt.Y('Values:Q'),\n",
    "    color='Category:N',\n",
    "    # tooltip=['Category']\n",
    ").interactive()\n",
    "chart\n",
    "# chart = alt.Chart(data).mark_bar().encode(x = 'Timestamp', y = 'GBTC').interactive()\n",
    "# chart"
   ]
  },
  {
   "cell_type": "code",
   "execution_count": 18,
   "metadata": {},
   "outputs": [
    {
     "name": "stdout",
     "output_type": "stream",
     "text": [
      "Requesting data from theblock for etf_flows..\n",
      "200\n",
      "Data successfully retrieved.\n",
      "Dataset:  Spot Bitcoin ETF Flows \n",
      "Start:  2024-01-11 00:00:00 \n",
      "Updated last:  2024-07-29 06:18:04\n"
     ]
    },
    {
     "name": "stderr",
     "output_type": "stream",
     "text": [
      "/home/purpy-furcat/Documents/Code/New_Endeavours/BTC_ETF_Tracker/backend/btc_etfs.py:262: FutureWarning: Downcasting behavior in `replace` is deprecated and will be removed in a future version. To retain the old behavior, explicitly call `result.infer_objects(copy=False)`. To opt-in to the future behavior, set `pd.set_option('future.no_silent_downcasting', True)`\n",
      "  flows_part = flows_part.replace('-', np.nan).replace(\",\", \"\", regex=True)\n"
     ]
    }
   ],
   "source": [
    "#Get data on daily flows ######\n",
    "hybrid_df, last_block_day = btc_etfs.get_hybrid_flows_table()\n",
    "hybrid_df.index.rename('Date', inplace=True)\n",
    "hybrid_df /= 1000000  # Convert to millions of USD\n",
    "net_flow = hybrid_df.sum(axis=1).rename('Net flow total (USD)')\n",
    "net_flow = net_flow.reset_index()"
   ]
  },
  {
   "cell_type": "code",
   "execution_count": 43,
   "metadata": {},
   "outputs": [
    {
     "data": {
      "text/html": [
       "\n",
       "<style>\n",
       "  #altair-viz-c15a79e4a75045d5a6e22c0a963c93ed.vega-embed {\n",
       "    width: 100%;\n",
       "    display: flex;\n",
       "  }\n",
       "\n",
       "  #altair-viz-c15a79e4a75045d5a6e22c0a963c93ed.vega-embed details,\n",
       "  #altair-viz-c15a79e4a75045d5a6e22c0a963c93ed.vega-embed details summary {\n",
       "    position: relative;\n",
       "  }\n",
       "</style>\n",
       "<div id=\"altair-viz-c15a79e4a75045d5a6e22c0a963c93ed\"></div>\n",
       "<script type=\"text/javascript\">\n",
       "  var VEGA_DEBUG = (typeof VEGA_DEBUG == \"undefined\") ? {} : VEGA_DEBUG;\n",
       "  (function(spec, embedOpt){\n",
       "    let outputDiv = document.currentScript.previousElementSibling;\n",
       "    if (outputDiv.id !== \"altair-viz-c15a79e4a75045d5a6e22c0a963c93ed\") {\n",
       "      outputDiv = document.getElementById(\"altair-viz-c15a79e4a75045d5a6e22c0a963c93ed\");\n",
       "    }\n",
       "    const paths = {\n",
       "      \"vega\": \"https://cdn.jsdelivr.net/npm/vega@5?noext\",\n",
       "      \"vega-lib\": \"https://cdn.jsdelivr.net/npm/vega-lib?noext\",\n",
       "      \"vega-lite\": \"https://cdn.jsdelivr.net/npm/vega-lite@5.17.0?noext\",\n",
       "      \"vega-embed\": \"https://cdn.jsdelivr.net/npm/vega-embed@6?noext\",\n",
       "    };\n",
       "\n",
       "    function maybeLoadScript(lib, version) {\n",
       "      var key = `${lib.replace(\"-\", \"\")}_version`;\n",
       "      return (VEGA_DEBUG[key] == version) ?\n",
       "        Promise.resolve(paths[lib]) :\n",
       "        new Promise(function(resolve, reject) {\n",
       "          var s = document.createElement('script');\n",
       "          document.getElementsByTagName(\"head\")[0].appendChild(s);\n",
       "          s.async = true;\n",
       "          s.onload = () => {\n",
       "            VEGA_DEBUG[key] = version;\n",
       "            return resolve(paths[lib]);\n",
       "          };\n",
       "          s.onerror = () => reject(`Error loading script: ${paths[lib]}`);\n",
       "          s.src = paths[lib];\n",
       "        });\n",
       "    }\n",
       "\n",
       "    function showError(err) {\n",
       "      outputDiv.innerHTML = `<div class=\"error\" style=\"color:red;\">${err}</div>`;\n",
       "      throw err;\n",
       "    }\n",
       "\n",
       "    function displayChart(vegaEmbed) {\n",
       "      vegaEmbed(outputDiv, spec, embedOpt)\n",
       "        .catch(err => showError(`Javascript Error: ${err.message}<br>This usually means there's a typo in your chart specification. See the javascript console for the full traceback.`));\n",
       "    }\n",
       "\n",
       "    if(typeof define === \"function\" && define.amd) {\n",
       "      requirejs.config({paths});\n",
       "      require([\"vega-embed\"], displayChart, err => showError(`Error loading script: ${err.message}`));\n",
       "    } else {\n",
       "      maybeLoadScript(\"vega\", \"5\")\n",
       "        .then(() => maybeLoadScript(\"vega-lite\", \"5.17.0\"))\n",
       "        .then(() => maybeLoadScript(\"vega-embed\", \"6\"))\n",
       "        .catch(showError)\n",
       "        .then(() => displayChart(vegaEmbed));\n",
       "    }\n",
       "  })({\"config\": {\"view\": {\"continuousWidth\": 300, \"continuousHeight\": 300}}, \"layer\": [{\"mark\": {\"type\": \"bar\", \"opacity\": 0.8}, \"encoding\": {\"color\": {\"value\": \"skyblue\"}, \"x\": {\"axis\": {\"title\": \"Date\"}, \"field\": \"Date\", \"type\": \"temporal\"}, \"y\": {\"axis\": {\"title\": \"USD (millions)\"}, \"field\": \"Net flow total (USD)\", \"type\": \"quantitative\"}}, \"title\": \"Net Flow and Moving Average\"}, {\"mark\": {\"type\": \"line\"}, \"encoding\": {\"color\": {\"value\": \"red\"}, \"x\": {\"axis\": {\"title\": \"Date\"}, \"field\": \"Date\", \"type\": \"temporal\"}, \"y\": {\"axis\": {\"title\": \"USD (millions)\"}, \"field\": \"20_MA\", \"type\": \"quantitative\"}}, \"title\": \"Net Flow and Moving Average\"}], \"data\": {\"name\": \"data-f78319c429a0894d61aa3100b0d86e65\"}, \"$schema\": \"https://vega.github.io/schema/vega-lite/v5.17.0.json\", \"datasets\": {\"data-f78319c429a0894d61aa3100b0d86e65\": [{\"Date\": \"2024-01-11T00:00:00\", \"Net flow total (USD)\": 655.3000000000001, \"20_MA\": null, \"Type\": \"Net Flow\", \"20_MA_Type\": \"Moving Average\"}, {\"Date\": \"2024-01-12T00:00:00\", \"Net flow total (USD)\": 203.0, \"20_MA\": null, \"Type\": \"Net Flow\", \"20_MA_Type\": \"Moving Average\"}, {\"Date\": \"2024-01-16T00:00:00\", \"Net flow total (USD)\": -52.69999999999998, \"20_MA\": null, \"Type\": \"Net Flow\", \"20_MA_Type\": \"Moving Average\"}, {\"Date\": \"2024-01-17T00:00:00\", \"Net flow total (USD)\": 453.8, \"20_MA\": null, \"Type\": \"Net Flow\", \"20_MA_Type\": \"Moving Average\"}, {\"Date\": \"2024-01-18T00:00:00\", \"Net flow total (USD)\": -126.59999999999995, \"20_MA\": null, \"Type\": \"Net Flow\", \"20_MA_Type\": \"Moving Average\"}, {\"Date\": \"2024-01-19T00:00:00\", \"Net flow total (USD)\": 43.60000000000003, \"20_MA\": null, \"Type\": \"Net Flow\", \"20_MA_Type\": \"Moving Average\"}, {\"Date\": \"2024-01-22T00:00:00\", \"Net flow total (USD)\": -87.39999999999999, \"20_MA\": null, \"Type\": \"Net Flow\", \"20_MA_Type\": \"Moving Average\"}, {\"Date\": \"2024-01-23T00:00:00\", \"Net flow total (USD)\": -106.09999999999994, \"20_MA\": null, \"Type\": \"Net Flow\", \"20_MA_Type\": \"Moving Average\"}, {\"Date\": \"2024-01-24T00:00:00\", \"Net flow total (USD)\": -158.30000000000004, \"20_MA\": null, \"Type\": \"Net Flow\", \"20_MA_Type\": \"Moving Average\"}, {\"Date\": \"2024-01-25T00:00:00\", \"Net flow total (USD)\": -79.80000000000004, \"20_MA\": null, \"Type\": \"Net Flow\", \"20_MA_Type\": \"Moving Average\"}, {\"Date\": \"2024-01-26T00:00:00\", \"Net flow total (USD)\": 14.799999999999992, \"20_MA\": null, \"Type\": \"Net Flow\", \"20_MA_Type\": \"Moving Average\"}, {\"Date\": \"2024-01-29T00:00:00\", \"Net flow total (USD)\": 255.6, \"20_MA\": null, \"Type\": \"Net Flow\", \"20_MA_Type\": \"Moving Average\"}, {\"Date\": \"2024-01-30T00:00:00\", \"Net flow total (USD)\": 247.10000000000002, \"20_MA\": null, \"Type\": \"Net Flow\", \"20_MA_Type\": \"Moving Average\"}, {\"Date\": \"2024-01-31T00:00:00\", \"Net flow total (USD)\": 197.70000000000005, \"20_MA\": null, \"Type\": \"Net Flow\", \"20_MA_Type\": \"Moving Average\"}, {\"Date\": \"2024-02-01T00:00:00\", \"Net flow total (USD)\": 38.50000000000001, \"20_MA\": null, \"Type\": \"Net Flow\", \"20_MA_Type\": \"Moving Average\"}, {\"Date\": \"2024-02-02T00:00:00\", \"Net flow total (USD)\": 80.00000000000003, \"20_MA\": null, \"Type\": \"Net Flow\", \"20_MA_Type\": \"Moving Average\"}, {\"Date\": \"2024-02-05T00:00:00\", \"Net flow total (USD)\": 68.10000000000001, \"20_MA\": null, \"Type\": \"Net Flow\", \"20_MA_Type\": \"Moving Average\"}, {\"Date\": \"2024-02-06T00:00:00\", \"Net flow total (USD)\": 33.60000000000001, \"20_MA\": null, \"Type\": \"Net Flow\", \"20_MA_Type\": \"Moving Average\"}, {\"Date\": \"2024-02-07T00:00:00\", \"Net flow total (USD)\": 145.99999999999997, \"20_MA\": null, \"Type\": \"Net Flow\", \"20_MA_Type\": \"Moving Average\"}, {\"Date\": \"2024-02-08T00:00:00\", \"Net flow total (USD)\": 405.0, \"20_MA\": 111.56000000000002, \"Type\": \"Net Flow\", \"20_MA_Type\": \"Moving Average\"}, {\"Date\": \"2024-02-09T00:00:00\", \"Net flow total (USD)\": 541.5, \"20_MA\": 105.87, \"Type\": \"Net Flow\", \"20_MA_Type\": \"Moving Average\"}, {\"Date\": \"2024-02-12T00:00:00\", \"Net flow total (USD)\": 493.40000000000003, \"20_MA\": 120.39000000000001, \"Type\": \"Net Flow\", \"20_MA_Type\": \"Moving Average\"}, {\"Date\": \"2024-02-13T00:00:00\", \"Net flow total (USD)\": 631.3, \"20_MA\": 154.59, \"Type\": \"Net Flow\", \"20_MA_Type\": \"Moving Average\"}, {\"Date\": \"2024-02-14T00:00:00\", \"Net flow total (USD)\": 339.7, \"20_MA\": 148.88500000000002, \"Type\": \"Net Flow\", \"20_MA_Type\": \"Moving Average\"}, {\"Date\": \"2024-02-15T00:00:00\", \"Net flow total (USD)\": 477.4, \"20_MA\": 179.085, \"Type\": \"Net Flow\", \"20_MA_Type\": \"Moving Average\"}, {\"Date\": \"2024-02-16T00:00:00\", \"Net flow total (USD)\": 331.79999999999995, \"20_MA\": 193.495, \"Type\": \"Net Flow\", \"20_MA_Type\": \"Moving Average\"}, {\"Date\": \"2024-02-20T00:00:00\", \"Net flow total (USD)\": 135.3, \"20_MA\": 204.63000000000002, \"Type\": \"Net Flow\", \"20_MA_Type\": \"Moving Average\"}, {\"Date\": \"2024-02-21T00:00:00\", \"Net flow total (USD)\": -35.60000000000001, \"20_MA\": 208.15499999999997, \"Type\": \"Net Flow\", \"20_MA_Type\": \"Moving Average\"}, {\"Date\": \"2024-02-22T00:00:00\", \"Net flow total (USD)\": 251.4, \"20_MA\": 228.64000000000001, \"Type\": \"Net Flow\", \"20_MA_Type\": \"Moving Average\"}, {\"Date\": \"2024-02-23T00:00:00\", \"Net flow total (USD)\": 232.5, \"20_MA\": 244.25500000000002, \"Type\": \"Net Flow\", \"20_MA_Type\": \"Moving Average\"}, {\"Date\": \"2024-02-26T00:00:00\", \"Net flow total (USD)\": 519.9, \"20_MA\": 269.51, \"Type\": \"Net Flow\", \"20_MA_Type\": \"Moving Average\"}, {\"Date\": \"2024-02-27T00:00:00\", \"Net flow total (USD)\": 576.9000000000001, \"20_MA\": 285.575, \"Type\": \"Net Flow\", \"20_MA_Type\": \"Moving Average\"}, {\"Date\": \"2024-02-28T00:00:00\", \"Net flow total (USD)\": 673.4000000000001, \"20_MA\": 306.89, \"Type\": \"Net Flow\", \"20_MA_Type\": \"Moving Average\"}, {\"Date\": \"2024-02-29T00:00:00\", \"Net flow total (USD)\": 92.3, \"20_MA\": 301.62, \"Type\": \"Net Flow\", \"20_MA_Type\": \"Moving Average\"}, {\"Date\": \"2024-03-01T00:00:00\", \"Net flow total (USD)\": -139.6, \"20_MA\": 292.71500000000003, \"Type\": \"Net Flow\", \"20_MA_Type\": \"Moving Average\"}, {\"Date\": \"2024-03-04T00:00:00\", \"Net flow total (USD)\": 562.6999999999999, \"20_MA\": 316.85, \"Type\": \"Net Flow\", \"20_MA_Type\": \"Moving Average\"}, {\"Date\": \"2024-03-05T00:00:00\", \"Net flow total (USD)\": 648.3000000000001, \"20_MA\": 345.86, \"Type\": \"Net Flow\", \"20_MA_Type\": \"Moving Average\"}, {\"Date\": \"2024-03-06T00:00:00\", \"Net flow total (USD)\": 332.0, \"20_MA\": 360.78000000000003, \"Type\": \"Net Flow\", \"20_MA_Type\": \"Moving Average\"}, {\"Date\": \"2024-03-07T00:00:00\", \"Net flow total (USD)\": 472.49999999999994, \"20_MA\": 377.105, \"Type\": \"Net Flow\", \"20_MA_Type\": \"Moving Average\"}, {\"Date\": \"2024-03-08T00:00:00\", \"Net flow total (USD)\": 222.90000000000006, \"20_MA\": 368.00000000000006, \"Type\": \"Net Flow\", \"20_MA_Type\": \"Moving Average\"}, {\"Date\": \"2024-03-11T00:00:00\", \"Net flow total (USD)\": 505.4, \"20_MA\": 366.195, \"Type\": \"Net Flow\", \"20_MA_Type\": \"Moving Average\"}, {\"Date\": \"2024-03-12T00:00:00\", \"Net flow total (USD)\": 1045.0, \"20_MA\": 393.775, \"Type\": \"Net Flow\", \"20_MA_Type\": \"Moving Average\"}, {\"Date\": \"2024-03-13T00:00:00\", \"Net flow total (USD)\": 683.7, \"20_MA\": 396.395, \"Type\": \"Net Flow\", \"20_MA_Type\": \"Moving Average\"}, {\"Date\": \"2024-03-14T00:00:00\", \"Net flow total (USD)\": 132.69999999999996, \"20_MA\": 386.04499999999996, \"Type\": \"Net Flow\", \"20_MA_Type\": \"Moving Average\"}, {\"Date\": \"2024-03-15T00:00:00\", \"Net flow total (USD)\": 198.8, \"20_MA\": 372.115, \"Type\": \"Net Flow\", \"20_MA_Type\": \"Moving Average\"}, {\"Date\": \"2024-03-18T00:00:00\", \"Net flow total (USD)\": -154.3, \"20_MA\": 347.81, \"Type\": \"Net Flow\", \"20_MA_Type\": \"Moving Average\"}, {\"Date\": \"2024-03-19T00:00:00\", \"Net flow total (USD)\": -326.2, \"20_MA\": 324.735, \"Type\": \"Net Flow\", \"20_MA_Type\": \"Moving Average\"}, {\"Date\": \"2024-03-20T00:00:00\", \"Net flow total (USD)\": -261.5, \"20_MA\": 313.44, \"Type\": \"Net Flow\", \"20_MA_Type\": \"Moving Average\"}, {\"Date\": \"2024-03-21T00:00:00\", \"Net flow total (USD)\": -93.9, \"20_MA\": 296.175, \"Type\": \"Net Flow\", \"20_MA_Type\": \"Moving Average\"}, {\"Date\": \"2024-03-22T00:00:00\", \"Net flow total (USD)\": -51.6, \"20_MA\": 281.96999999999997, \"Type\": \"Net Flow\", \"20_MA_Type\": \"Moving Average\"}, {\"Date\": \"2024-03-25T00:00:00\", \"Net flow total (USD)\": 15.699999999999985, \"20_MA\": 256.76, \"Type\": \"Net Flow\", \"20_MA_Type\": \"Moving Average\"}, {\"Date\": \"2024-03-26T00:00:00\", \"Net flow total (USD)\": 418.0, \"20_MA\": 248.81499999999997, \"Type\": \"Net Flow\", \"20_MA_Type\": \"Moving Average\"}, {\"Date\": \"2024-03-27T00:00:00\", \"Net flow total (USD)\": 243.5, \"20_MA\": 227.32, \"Type\": \"Net Flow\", \"20_MA_Type\": \"Moving Average\"}, {\"Date\": \"2024-03-28T00:00:00\", \"Net flow total (USD)\": 182.79999999999998, \"20_MA\": 231.84499999999997, \"Type\": \"Net Flow\", \"20_MA_Type\": \"Moving Average\"}, {\"Date\": \"2024-04-01T00:00:00\", \"Net flow total (USD)\": -85.70000000000002, \"20_MA\": 234.54000000000002, \"Type\": \"Net Flow\", \"20_MA_Type\": \"Moving Average\"}, {\"Date\": \"2024-04-02T00:00:00\", \"Net flow total (USD)\": 39.49999999999999, \"20_MA\": 208.38000000000002, \"Type\": \"Net Flow\", \"20_MA_Type\": \"Moving Average\"}, {\"Date\": \"2024-04-03T00:00:00\", \"Net flow total (USD)\": 113.5, \"20_MA\": 181.64000000000001, \"Type\": \"Net Flow\", \"20_MA_Type\": \"Moving Average\"}, {\"Date\": \"2024-04-04T00:00:00\", \"Net flow total (USD)\": 213.4, \"20_MA\": 175.71, \"Type\": \"Net Flow\", \"20_MA_Type\": \"Moving Average\"}, {\"Date\": \"2024-04-05T00:00:00\", \"Net flow total (USD)\": 203.0, \"20_MA\": 162.235, \"Type\": \"Net Flow\", \"20_MA_Type\": \"Moving Average\"}, {\"Date\": \"2024-04-08T00:00:00\", \"Net flow total (USD)\": -223.79999999999995, \"20_MA\": 139.9, \"Type\": \"Net Flow\", \"20_MA_Type\": \"Moving Average\"}, {\"Date\": \"2024-04-09T00:00:00\", \"Net flow total (USD)\": -19.400000000000016, \"20_MA\": 113.66, \"Type\": \"Net Flow\", \"20_MA_Type\": \"Moving Average\"}, {\"Date\": \"2024-04-10T00:00:00\", \"Net flow total (USD)\": 123.69999999999999, \"20_MA\": 67.595, \"Type\": \"Net Flow\", \"20_MA_Type\": \"Moving Average\"}, {\"Date\": \"2024-04-11T00:00:00\", \"Net flow total (USD)\": 91.29999999999998, \"20_MA\": 37.975, \"Type\": \"Net Flow\", \"20_MA_Type\": \"Moving Average\"}, {\"Date\": \"2024-04-12T00:00:00\", \"Net flow total (USD)\": -55.099999999999994, \"20_MA\": 28.585, \"Type\": \"Net Flow\", \"20_MA_Type\": \"Moving Average\"}, {\"Date\": \"2024-04-15T00:00:00\", \"Net flow total (USD)\": -36.69999999999999, \"20_MA\": 16.81, \"Type\": \"Net Flow\", \"20_MA_Type\": \"Moving Average\"}, {\"Date\": \"2024-04-16T00:00:00\", \"Net flow total (USD)\": -58.00000000000001, \"20_MA\": 21.625, \"Type\": \"Net Flow\", \"20_MA_Type\": \"Moving Average\"}, {\"Date\": \"2024-04-17T00:00:00\", \"Net flow total (USD)\": -165.0, \"20_MA\": 29.685000000000002, \"Type\": \"Net Flow\", \"20_MA_Type\": \"Moving Average\"}, {\"Date\": \"2024-04-18T00:00:00\", \"Net flow total (USD)\": -4.300000000000003, \"20_MA\": 42.545, \"Type\": \"Net Flow\", \"20_MA_Type\": \"Moving Average\"}, {\"Date\": \"2024-04-19T00:00:00\", \"Net flow total (USD)\": 59.699999999999996, \"20_MA\": 50.225, \"Type\": \"Net Flow\", \"20_MA_Type\": \"Moving Average\"}, {\"Date\": \"2024-04-22T00:00:00\", \"Net flow total (USD)\": 62.2, \"20_MA\": 55.915000000000006, \"Type\": \"Net Flow\", \"20_MA_Type\": \"Moving Average\"}, {\"Date\": \"2024-04-23T00:00:00\", \"Net flow total (USD)\": 31.599999999999987, \"20_MA\": 56.71, \"Type\": \"Net Flow\", \"20_MA_Type\": \"Moving Average\"}, {\"Date\": \"2024-04-24T00:00:00\", \"Net flow total (USD)\": -120.60000000000001, \"20_MA\": 29.78, \"Type\": \"Net Flow\", \"20_MA_Type\": \"Moving Average\"}, {\"Date\": \"2024-04-25T00:00:00\", \"Net flow total (USD)\": -217.6, \"20_MA\": 6.725, \"Type\": \"Net Flow\", \"20_MA_Type\": \"Moving Average\"}, {\"Date\": \"2024-04-26T00:00:00\", \"Net flow total (USD)\": -83.6, \"20_MA\": -6.594999999999999, \"Type\": \"Net Flow\", \"20_MA_Type\": \"Moving Average\"}, {\"Date\": \"2024-04-29T00:00:00\", \"Net flow total (USD)\": -51.60000000000001, \"20_MA\": -4.889999999999999, \"Type\": \"Net Flow\", \"20_MA_Type\": \"Moving Average\"}, {\"Date\": \"2024-04-30T00:00:00\", \"Net flow total (USD)\": -161.6, \"20_MA\": -14.944999999999999, \"Type\": \"Net Flow\", \"20_MA_Type\": \"Moving Average\"}, {\"Date\": \"2024-05-01T00:00:00\", \"Net flow total (USD)\": -563.7, \"20_MA\": -48.805, \"Type\": \"Net Flow\", \"20_MA_Type\": \"Moving Average\"}, {\"Date\": \"2024-05-02T00:00:00\", \"Net flow total (USD)\": -34.4, \"20_MA\": -61.19500000000001, \"Type\": \"Net Flow\", \"20_MA_Type\": \"Moving Average\"}, {\"Date\": \"2024-05-03T00:00:00\", \"Net flow total (USD)\": 378.29999999999995, \"20_MA\": -52.42999999999999, \"Type\": \"Net Flow\", \"20_MA_Type\": \"Moving Average\"}, {\"Date\": \"2024-05-06T00:00:00\", \"Net flow total (USD)\": 217.0, \"20_MA\": -30.390000000000004, \"Type\": \"Net Flow\", \"20_MA_Type\": \"Moving Average\"}, {\"Date\": \"2024-05-07T00:00:00\", \"Net flow total (USD)\": -15.7, \"20_MA\": -30.205000000000005, \"Type\": \"Net Flow\", \"20_MA_Type\": \"Moving Average\"}, {\"Date\": \"2024-05-08T00:00:00\", \"Net flow total (USD)\": 11.5, \"20_MA\": -35.815000000000005, \"Type\": \"Net Flow\", \"20_MA_Type\": \"Moving Average\"}, {\"Date\": \"2024-05-09T00:00:00\", \"Net flow total (USD)\": -11.3, \"20_MA\": -40.94500000000001, \"Type\": \"Net Flow\", \"20_MA_Type\": \"Moving Average\"}, {\"Date\": \"2024-05-10T00:00:00\", \"Net flow total (USD)\": -84.7, \"20_MA\": -42.425000000000004, \"Type\": \"Net Flow\", \"20_MA_Type\": \"Moving Average\"}, {\"Date\": \"2024-05-13T00:00:00\", \"Net flow total (USD)\": 66.0, \"20_MA\": -37.290000000000006, \"Type\": \"Net Flow\", \"20_MA_Type\": \"Moving Average\"}, {\"Date\": \"2024-05-14T00:00:00\", \"Net flow total (USD)\": 100.5, \"20_MA\": -29.365000000000002, \"Type\": \"Net Flow\", \"20_MA_Type\": \"Moving Average\"}, {\"Date\": \"2024-05-15T00:00:00\", \"Net flow total (USD)\": 303.0, \"20_MA\": -5.965000000000001, \"Type\": \"Net Flow\", \"20_MA_Type\": \"Moving Average\"}, {\"Date\": \"2024-05-16T00:00:00\", \"Net flow total (USD)\": 257.3, \"20_MA\": 7.1149999999999975, \"Type\": \"Net Flow\", \"20_MA_Type\": \"Moving Average\"}, {\"Date\": \"2024-05-17T00:00:00\", \"Net flow total (USD)\": 221.50000000000003, \"20_MA\": 15.205000000000002, \"Type\": \"Net Flow\", \"20_MA_Type\": \"Moving Average\"}, {\"Date\": \"2024-05-20T00:00:00\", \"Net flow total (USD)\": 237.2, \"20_MA\": 23.955000000000002, \"Type\": \"Net Flow\", \"20_MA_Type\": \"Moving Average\"}, {\"Date\": \"2024-05-21T00:00:00\", \"Net flow total (USD)\": 305.70000000000005, \"20_MA\": 37.660000000000004, \"Type\": \"Net Flow\", \"20_MA_Type\": \"Moving Average\"}, {\"Date\": \"2024-05-22T00:00:00\", \"Net flow total (USD)\": 154.0, \"20_MA\": 51.39000000000001, \"Type\": \"Net Flow\", \"20_MA_Type\": \"Moving Average\"}, {\"Date\": \"2024-05-23T00:00:00\", \"Net flow total (USD)\": 107.9, \"20_MA\": 67.66499999999999, \"Type\": \"Net Flow\", \"20_MA_Type\": \"Moving Average\"}, {\"Date\": \"2024-05-24T00:00:00\", \"Net flow total (USD)\": 251.9, \"20_MA\": 84.44000000000001, \"Type\": \"Net Flow\", \"20_MA_Type\": \"Moving Average\"}, {\"Date\": \"2024-05-28T00:00:00\", \"Net flow total (USD)\": 44.99999999999999, \"20_MA\": 89.27000000000001, \"Type\": \"Net Flow\", \"20_MA_Type\": \"Moving Average\"}, {\"Date\": \"2024-05-29T00:00:00\", \"Net flow total (USD)\": 28.3, \"20_MA\": 98.765, \"Type\": \"Net Flow\", \"20_MA_Type\": \"Moving Average\"}, {\"Date\": \"2024-05-30T00:00:00\", \"Net flow total (USD)\": 48.79999999999998, \"20_MA\": 129.39000000000001, \"Type\": \"Net Flow\", \"20_MA_Type\": \"Moving Average\"}, {\"Date\": \"2024-05-31T00:00:00\", \"Net flow total (USD)\": 48.8, \"20_MA\": 133.55, \"Type\": \"Net Flow\", \"20_MA_Type\": \"Moving Average\"}, {\"Date\": \"2024-06-03T00:00:00\", \"Net flow total (USD)\": 105.1, \"20_MA\": 119.88999999999999, \"Type\": \"Net Flow\", \"20_MA_Type\": \"Moving Average\"}, {\"Date\": \"2024-06-04T00:00:00\", \"Net flow total (USD)\": 886.6, \"20_MA\": 153.37000000000003, \"Type\": \"Net Flow\", \"20_MA_Type\": \"Moving Average\"}, {\"Date\": \"2024-06-05T00:00:00\", \"Net flow total (USD)\": 488.1, \"20_MA\": 178.56, \"Type\": \"Net Flow\", \"20_MA_Type\": \"Moving Average\"}, {\"Date\": \"2024-06-06T00:00:00\", \"Net flow total (USD)\": 217.7, \"20_MA\": 188.87, \"Type\": \"Net Flow\", \"20_MA_Type\": \"Moving Average\"}, {\"Date\": \"2024-06-07T00:00:00\", \"Net flow total (USD)\": 131.0, \"20_MA\": 195.98499999999999, \"Type\": \"Net Flow\", \"20_MA_Type\": \"Moving Average\"}, {\"Date\": \"2024-06-10T00:00:00\", \"Net flow total (USD)\": -64.9, \"20_MA\": 196.975, \"Type\": \"Net Flow\", \"20_MA_Type\": \"Moving Average\"}, {\"Date\": \"2024-06-11T00:00:00\", \"Net flow total (USD)\": -200.4, \"20_MA\": 183.65500000000003, \"Type\": \"Net Flow\", \"20_MA_Type\": \"Moving Average\"}, {\"Date\": \"2024-06-12T00:00:00\", \"Net flow total (USD)\": 100.8, \"20_MA\": 183.67000000000002, \"Type\": \"Net Flow\", \"20_MA_Type\": \"Moving Average\"}, {\"Date\": \"2024-06-13T00:00:00\", \"Net flow total (USD)\": -226.2, \"20_MA\": 157.21, \"Type\": \"Net Flow\", \"20_MA_Type\": \"Moving Average\"}, {\"Date\": \"2024-06-14T00:00:00\", \"Net flow total (USD)\": -189.89999999999998, \"20_MA\": 134.85, \"Type\": \"Net Flow\", \"20_MA_Type\": \"Moving Average\"}, {\"Date\": \"2024-06-17T00:00:00\", \"Net flow total (USD)\": -145.9, \"20_MA\": 116.47999999999999, \"Type\": \"Net Flow\", \"20_MA_Type\": \"Moving Average\"}, {\"Date\": \"2024-06-18T00:00:00\", \"Net flow total (USD)\": -152.39999999999998, \"20_MA\": 97.00000000000001, \"Type\": \"Net Flow\", \"20_MA_Type\": \"Moving Average\"}, {\"Date\": \"2024-06-20T00:00:00\", \"Net flow total (USD)\": -139.89999999999998, \"20_MA\": 74.72, \"Type\": \"Net Flow\", \"20_MA_Type\": \"Moving Average\"}, {\"Date\": \"2024-06-21T00:00:00\", \"Net flow total (USD)\": -105.89999999999999, \"20_MA\": 61.72500000000001, \"Type\": \"Net Flow\", \"20_MA_Type\": \"Moving Average\"}, {\"Date\": \"2024-06-24T00:00:00\", \"Net flow total (USD)\": -174.5, \"20_MA\": 47.605000000000004, \"Type\": \"Net Flow\", \"20_MA_Type\": \"Moving Average\"}, {\"Date\": \"2024-06-25T00:00:00\", \"Net flow total (USD)\": 30.999999999999996, \"20_MA\": 36.559999999999995, \"Type\": \"Net Flow\", \"20_MA_Type\": \"Moving Average\"}, {\"Date\": \"2024-06-26T00:00:00\", \"Net flow total (USD)\": 21.4, \"20_MA\": 35.38000000000001, \"Type\": \"Net Flow\", \"20_MA_Type\": \"Moving Average\"}, {\"Date\": \"2024-06-27T00:00:00\", \"Net flow total (USD)\": 11.799999999999999, \"20_MA\": 34.555, \"Type\": \"Net Flow\", \"20_MA_Type\": \"Moving Average\"}, {\"Date\": \"2024-06-28T00:00:00\", \"Net flow total (USD)\": 73.0, \"20_MA\": 35.765, \"Type\": \"Net Flow\", \"20_MA_Type\": \"Moving Average\"}, {\"Date\": \"2024-07-01T00:00:00\", \"Net flow total (USD)\": 129.5, \"20_MA\": 39.8, \"Type\": \"Net Flow\", \"20_MA_Type\": \"Moving Average\"}, {\"Date\": \"2024-07-02T00:00:00\", \"Net flow total (USD)\": -13.699999999999996, \"20_MA\": 33.86, \"Type\": \"Net Flow\", \"20_MA_Type\": \"Moving Average\"}, {\"Date\": \"2024-07-03T00:00:00\", \"Net flow total (USD)\": -20.5, \"20_MA\": -11.494999999999996, \"Type\": \"Net Flow\", \"20_MA_Type\": \"Moving Average\"}, {\"Date\": \"2024-07-05T00:00:00\", \"Net flow total (USD)\": 143.10000000000002, \"20_MA\": -28.744999999999997, \"Type\": \"Net Flow\", \"20_MA_Type\": \"Moving Average\"}, {\"Date\": \"2024-07-08T00:00:00\", \"Net flow total (USD)\": 294.79999999999995, \"20_MA\": -24.889999999999997, \"Type\": \"Net Flow\", \"20_MA_Type\": \"Moving Average\"}, {\"Date\": \"2024-07-09T00:00:00\", \"Net flow total (USD)\": 216.40000000000003, \"20_MA\": -20.619999999999997, \"Type\": \"Net Flow\", \"20_MA_Type\": \"Moving Average\"}, {\"Date\": \"2024-07-10T00:00:00\", \"Net flow total (USD)\": 147.4, \"20_MA\": -10.004999999999994, \"Type\": \"Net Flow\", \"20_MA_Type\": \"Moving Average\"}, {\"Date\": \"2024-07-11T00:00:00\", \"Net flow total (USD)\": 78.89999999999999, \"20_MA\": 3.9600000000000044, \"Type\": \"Net Flow\", \"20_MA_Type\": \"Moving Average\"}, {\"Date\": \"2024-07-12T00:00:00\", \"Net flow total (USD)\": 310.1, \"20_MA\": 14.425000000000006, \"Type\": \"Net Flow\", \"20_MA_Type\": \"Moving Average\"}, {\"Date\": \"2024-07-15T00:00:00\", \"Net flow total (USD)\": 300.9, \"20_MA\": 40.78, \"Type\": \"Net Flow\", \"20_MA_Type\": \"Moving Average\"}, {\"Date\": \"2024-07-16T00:00:00\", \"Net flow total (USD)\": 422.5, \"20_MA\": 71.4, \"Type\": \"Net Flow\", \"20_MA_Type\": \"Moving Average\"}, {\"Date\": \"2024-07-17T00:00:00\", \"Net flow total (USD)\": 53.300000000000004, \"20_MA\": 81.36, \"Type\": \"Net Flow\", \"20_MA_Type\": \"Moving Average\"}, {\"Date\": \"2024-07-18T00:00:00\", \"Net flow total (USD)\": 37.199999999999996, \"20_MA\": 90.84, \"Type\": \"Net Flow\", \"20_MA_Type\": \"Moving Average\"}, {\"Date\": \"2024-07-19T00:00:00\", \"Net flow total (USD)\": 427.20000000000005, \"20_MA\": 119.19500000000001, \"Type\": \"Net Flow\", \"20_MA_Type\": \"Moving Average\"}, {\"Date\": \"2024-07-22T00:00:00\", \"Net flow total (USD)\": 485.9000000000001, \"20_MA\": 148.78500000000003, \"Type\": \"Net Flow\", \"20_MA_Type\": \"Moving Average\"}, {\"Date\": \"2024-07-23T00:00:00\", \"Net flow total (USD)\": -77.99999999999999, \"20_MA\": 153.61, \"Type\": \"Net Flow\", \"20_MA_Type\": \"Moving Average\"}, {\"Date\": \"2024-07-24T00:00:00\", \"Net flow total (USD)\": 44.49999999999999, \"20_MA\": 154.28500000000003, \"Type\": \"Net Flow\", \"20_MA_Type\": \"Moving Average\"}, {\"Date\": \"2024-07-25T00:00:00\", \"Net flow total (USD)\": 31.1, \"20_MA\": 154.77, \"Type\": \"Net Flow\", \"20_MA_Type\": \"Moving Average\"}, {\"Date\": \"2024-07-26T00:00:00\", \"Net flow total (USD)\": 51.8, \"20_MA\": 156.77, \"Type\": \"Net Flow\", \"20_MA_Type\": \"Moving Average\"}, {\"Date\": \"2024-07-29T00:00:00\", \"Net flow total (USD)\": 124.10000000000001, \"20_MA\": 159.325, \"Type\": \"Net Flow\", \"20_MA_Type\": \"Moving Average\"}]}}, {\"mode\": \"vega-lite\"});\n",
       "</script>"
      ],
      "text/plain": [
       "alt.LayerChart(...)"
      ]
     },
     "metadata": {},
     "output_type": "display_data"
    }
   ],
   "source": [
    "window = 20\n",
    "net_flow[str(window) + \"_MA\"] = net_flow['Net flow total (USD)'].rolling(window=window).mean()\n",
    "\n",
    "# Create the bar chart\n",
    "bar_chart = alt.Chart(net_flow).mark_bar(opacity=0.8).encode(\n",
    "    x=alt.X('Date:T', axis=alt.Axis(title='Date')),\n",
    "    y=alt.Y('Net flow total (USD):Q', axis=alt.Axis(title='USD (millions)')),\n",
    "    color=alt.value('skyblue')\n",
    ").properties(\n",
    "    title='Net Flow and Moving Average'\n",
    ")\n",
    "\n",
    "# Create the bar chart\n",
    "line_chart = alt.Chart(net_flow).mark_line().encode(\n",
    "    x=alt.X('Date:T', axis=alt.Axis(title='Date')),\n",
    "    y=alt.Y(str(window) + \"_MA:Q\", axis=alt.Axis(title='USD (millions)')),\n",
    "    color=alt.value('red')\n",
    ").properties(\n",
    "    title='Net Flow and Moving Average'\n",
    ")\n",
    "\n",
    "\n",
    "# Combine the charts\n",
    "combined_chart = alt.layer(bar_chart, line_chart)\n",
    "\n",
    "combined_chart.show()"
   ]
  },
  {
   "cell_type": "code",
   "execution_count": 50,
   "metadata": {},
   "outputs": [
    {
     "data": {
      "text/html": [
       "\n",
       "<style>\n",
       "  #altair-viz-3ad5fd7e92de4c0682fff041cf6ab20a.vega-embed {\n",
       "    width: 100%;\n",
       "    display: flex;\n",
       "  }\n",
       "\n",
       "  #altair-viz-3ad5fd7e92de4c0682fff041cf6ab20a.vega-embed details,\n",
       "  #altair-viz-3ad5fd7e92de4c0682fff041cf6ab20a.vega-embed details summary {\n",
       "    position: relative;\n",
       "  }\n",
       "</style>\n",
       "<div id=\"altair-viz-3ad5fd7e92de4c0682fff041cf6ab20a\"></div>\n",
       "<script type=\"text/javascript\">\n",
       "  var VEGA_DEBUG = (typeof VEGA_DEBUG == \"undefined\") ? {} : VEGA_DEBUG;\n",
       "  (function(spec, embedOpt){\n",
       "    let outputDiv = document.currentScript.previousElementSibling;\n",
       "    if (outputDiv.id !== \"altair-viz-3ad5fd7e92de4c0682fff041cf6ab20a\") {\n",
       "      outputDiv = document.getElementById(\"altair-viz-3ad5fd7e92de4c0682fff041cf6ab20a\");\n",
       "    }\n",
       "    const paths = {\n",
       "      \"vega\": \"https://cdn.jsdelivr.net/npm/vega@5?noext\",\n",
       "      \"vega-lib\": \"https://cdn.jsdelivr.net/npm/vega-lib?noext\",\n",
       "      \"vega-lite\": \"https://cdn.jsdelivr.net/npm/vega-lite@5.17.0?noext\",\n",
       "      \"vega-embed\": \"https://cdn.jsdelivr.net/npm/vega-embed@6?noext\",\n",
       "    };\n",
       "\n",
       "    function maybeLoadScript(lib, version) {\n",
       "      var key = `${lib.replace(\"-\", \"\")}_version`;\n",
       "      return (VEGA_DEBUG[key] == version) ?\n",
       "        Promise.resolve(paths[lib]) :\n",
       "        new Promise(function(resolve, reject) {\n",
       "          var s = document.createElement('script');\n",
       "          document.getElementsByTagName(\"head\")[0].appendChild(s);\n",
       "          s.async = true;\n",
       "          s.onload = () => {\n",
       "            VEGA_DEBUG[key] = version;\n",
       "            return resolve(paths[lib]);\n",
       "          };\n",
       "          s.onerror = () => reject(`Error loading script: ${paths[lib]}`);\n",
       "          s.src = paths[lib];\n",
       "        });\n",
       "    }\n",
       "\n",
       "    function showError(err) {\n",
       "      outputDiv.innerHTML = `<div class=\"error\" style=\"color:red;\">${err}</div>`;\n",
       "      throw err;\n",
       "    }\n",
       "\n",
       "    function displayChart(vegaEmbed) {\n",
       "      vegaEmbed(outputDiv, spec, embedOpt)\n",
       "        .catch(err => showError(`Javascript Error: ${err.message}<br>This usually means there's a typo in your chart specification. See the javascript console for the full traceback.`));\n",
       "    }\n",
       "\n",
       "    if(typeof define === \"function\" && define.amd) {\n",
       "      requirejs.config({paths});\n",
       "      require([\"vega-embed\"], displayChart, err => showError(`Error loading script: ${err.message}`));\n",
       "    } else {\n",
       "      maybeLoadScript(\"vega\", \"5\")\n",
       "        .then(() => maybeLoadScript(\"vega-lite\", \"5.17.0\"))\n",
       "        .then(() => maybeLoadScript(\"vega-embed\", \"6\"))\n",
       "        .catch(showError)\n",
       "        .then(() => displayChart(vegaEmbed));\n",
       "    }\n",
       "  })({\"config\": {\"view\": {\"continuousWidth\": 300, \"continuousHeight\": 300}}, \"layer\": [{\"mark\": {\"type\": \"bar\"}, \"encoding\": {\"x\": {\"field\": \"date\", \"timeUnit\": \"year\", \"type\": \"nominal\"}, \"y\": {\"field\": \"price\", \"type\": \"quantitative\"}}, \"title\": \"Google stock prices\", \"transform\": [{\"filter\": \"(datum.company === 'goog')\"}]}, {\"mark\": {\"type\": \"line\", \"color\": \"red\"}, \"encoding\": {\"color\": {\"field\": \"company\", \"scale\": {\"range\": [\"red\"]}, \"type\": \"nominal\"}, \"x\": {\"field\": \"date\", \"timeUnit\": \"year\", \"type\": \"nominal\"}, \"y\": {\"aggregate\": \"average\", \"field\": \"price\", \"type\": \"quantitative\"}}, \"transform\": [{\"filter\": \"(datum.company === 'competitors')\"}]}], \"data\": {\"name\": \"data-b0fe595546d47c5085f225c35730172c\"}, \"transform\": [{\"calculate\": \"datum.symbol == \\\"GOOG\\\" ? \\\"goog\\\" : \\\"competitors\\\"\", \"as\": \"company\"}], \"$schema\": \"https://vega.github.io/schema/vega-lite/v5.17.0.json\", \"datasets\": {\"data-b0fe595546d47c5085f225c35730172c\": [{\"symbol\": \"MSFT\", \"date\": \"2000-01-01T00:00:00\", \"price\": 39.81}, {\"symbol\": \"MSFT\", \"date\": \"2000-02-01T00:00:00\", \"price\": 36.35}, {\"symbol\": \"MSFT\", \"date\": \"2000-03-01T00:00:00\", \"price\": 43.22}, {\"symbol\": \"MSFT\", \"date\": \"2000-04-01T00:00:00\", \"price\": 28.37}, {\"symbol\": \"MSFT\", \"date\": \"2000-05-01T00:00:00\", \"price\": 25.45}, {\"symbol\": \"MSFT\", \"date\": \"2000-06-01T00:00:00\", \"price\": 32.54}, {\"symbol\": \"MSFT\", \"date\": \"2000-07-01T00:00:00\", \"price\": 28.4}, {\"symbol\": \"MSFT\", \"date\": \"2000-08-01T00:00:00\", \"price\": 28.4}, {\"symbol\": \"MSFT\", \"date\": \"2000-09-01T00:00:00\", \"price\": 24.53}, {\"symbol\": \"MSFT\", \"date\": \"2000-10-01T00:00:00\", \"price\": 28.02}, {\"symbol\": \"MSFT\", \"date\": \"2000-11-01T00:00:00\", \"price\": 23.34}, {\"symbol\": \"MSFT\", \"date\": \"2000-12-01T00:00:00\", \"price\": 17.65}, {\"symbol\": \"MSFT\", \"date\": \"2001-01-01T00:00:00\", \"price\": 24.84}, {\"symbol\": \"MSFT\", \"date\": \"2001-02-01T00:00:00\", \"price\": 24.0}, {\"symbol\": \"MSFT\", \"date\": \"2001-03-01T00:00:00\", \"price\": 22.25}, {\"symbol\": \"MSFT\", \"date\": \"2001-04-01T00:00:00\", \"price\": 27.56}, {\"symbol\": \"MSFT\", \"date\": \"2001-05-01T00:00:00\", \"price\": 28.14}, {\"symbol\": \"MSFT\", \"date\": \"2001-06-01T00:00:00\", \"price\": 29.7}, {\"symbol\": \"MSFT\", \"date\": \"2001-07-01T00:00:00\", \"price\": 26.93}, {\"symbol\": \"MSFT\", \"date\": \"2001-08-01T00:00:00\", \"price\": 23.21}, {\"symbol\": \"MSFT\", \"date\": \"2001-09-01T00:00:00\", \"price\": 20.82}, {\"symbol\": \"MSFT\", \"date\": \"2001-10-01T00:00:00\", \"price\": 23.65}, {\"symbol\": \"MSFT\", \"date\": \"2001-11-01T00:00:00\", \"price\": 26.12}, {\"symbol\": \"MSFT\", \"date\": \"2001-12-01T00:00:00\", \"price\": 26.95}, {\"symbol\": \"MSFT\", \"date\": \"2002-01-01T00:00:00\", \"price\": 25.92}, {\"symbol\": \"MSFT\", \"date\": \"2002-02-01T00:00:00\", \"price\": 23.73}, {\"symbol\": \"MSFT\", \"date\": \"2002-03-01T00:00:00\", \"price\": 24.53}, {\"symbol\": \"MSFT\", \"date\": \"2002-04-01T00:00:00\", \"price\": 21.26}, {\"symbol\": \"MSFT\", \"date\": \"2002-05-01T00:00:00\", \"price\": 20.71}, {\"symbol\": \"MSFT\", \"date\": \"2002-06-01T00:00:00\", \"price\": 22.25}, {\"symbol\": \"MSFT\", \"date\": \"2002-07-01T00:00:00\", \"price\": 19.52}, {\"symbol\": \"MSFT\", \"date\": \"2002-08-01T00:00:00\", \"price\": 19.97}, {\"symbol\": \"MSFT\", \"date\": \"2002-09-01T00:00:00\", \"price\": 17.79}, {\"symbol\": \"MSFT\", \"date\": \"2002-10-01T00:00:00\", \"price\": 21.75}, {\"symbol\": \"MSFT\", \"date\": \"2002-11-01T00:00:00\", \"price\": 23.46}, {\"symbol\": \"MSFT\", \"date\": \"2002-12-01T00:00:00\", \"price\": 21.03}, {\"symbol\": \"MSFT\", \"date\": \"2003-01-01T00:00:00\", \"price\": 19.31}, {\"symbol\": \"MSFT\", \"date\": \"2003-02-01T00:00:00\", \"price\": 19.34}, {\"symbol\": \"MSFT\", \"date\": \"2003-03-01T00:00:00\", \"price\": 19.76}, {\"symbol\": \"MSFT\", \"date\": \"2003-04-01T00:00:00\", \"price\": 20.87}, {\"symbol\": \"MSFT\", \"date\": \"2003-05-01T00:00:00\", \"price\": 20.09}, {\"symbol\": \"MSFT\", \"date\": \"2003-06-01T00:00:00\", \"price\": 20.93}, {\"symbol\": \"MSFT\", \"date\": \"2003-07-01T00:00:00\", \"price\": 21.56}, {\"symbol\": \"MSFT\", \"date\": \"2003-08-01T00:00:00\", \"price\": 21.65}, {\"symbol\": \"MSFT\", \"date\": \"2003-09-01T00:00:00\", \"price\": 22.69}, {\"symbol\": \"MSFT\", \"date\": \"2003-10-01T00:00:00\", \"price\": 21.45}, {\"symbol\": \"MSFT\", \"date\": \"2003-11-01T00:00:00\", \"price\": 21.1}, {\"symbol\": \"MSFT\", \"date\": \"2003-12-01T00:00:00\", \"price\": 22.46}, {\"symbol\": \"MSFT\", \"date\": \"2004-01-01T00:00:00\", \"price\": 22.69}, {\"symbol\": \"MSFT\", \"date\": \"2004-02-01T00:00:00\", \"price\": 21.77}, {\"symbol\": \"MSFT\", \"date\": \"2004-03-01T00:00:00\", \"price\": 20.46}, {\"symbol\": \"MSFT\", \"date\": \"2004-04-01T00:00:00\", \"price\": 21.45}, {\"symbol\": \"MSFT\", \"date\": \"2004-05-01T00:00:00\", \"price\": 21.53}, {\"symbol\": \"MSFT\", \"date\": \"2004-06-01T00:00:00\", \"price\": 23.44}, {\"symbol\": \"MSFT\", \"date\": \"2004-07-01T00:00:00\", \"price\": 23.38}, {\"symbol\": \"MSFT\", \"date\": \"2004-08-01T00:00:00\", \"price\": 22.47}, {\"symbol\": \"MSFT\", \"date\": \"2004-09-01T00:00:00\", \"price\": 22.76}, {\"symbol\": \"MSFT\", \"date\": \"2004-10-01T00:00:00\", \"price\": 23.02}, {\"symbol\": \"MSFT\", \"date\": \"2004-11-01T00:00:00\", \"price\": 24.6}, {\"symbol\": \"MSFT\", \"date\": \"2004-12-01T00:00:00\", \"price\": 24.52}, {\"symbol\": \"MSFT\", \"date\": \"2005-01-01T00:00:00\", \"price\": 24.11}, {\"symbol\": \"MSFT\", \"date\": \"2005-02-01T00:00:00\", \"price\": 23.15}, {\"symbol\": \"MSFT\", \"date\": \"2005-03-01T00:00:00\", \"price\": 22.24}, {\"symbol\": \"MSFT\", \"date\": \"2005-04-01T00:00:00\", \"price\": 23.28}, {\"symbol\": \"MSFT\", \"date\": \"2005-05-01T00:00:00\", \"price\": 23.82}, {\"symbol\": \"MSFT\", \"date\": \"2005-06-01T00:00:00\", \"price\": 22.93}, {\"symbol\": \"MSFT\", \"date\": \"2005-07-01T00:00:00\", \"price\": 23.64}, {\"symbol\": \"MSFT\", \"date\": \"2005-08-01T00:00:00\", \"price\": 25.35}, {\"symbol\": \"MSFT\", \"date\": \"2005-09-01T00:00:00\", \"price\": 23.83}, {\"symbol\": \"MSFT\", \"date\": \"2005-10-01T00:00:00\", \"price\": 23.8}, {\"symbol\": \"MSFT\", \"date\": \"2005-11-01T00:00:00\", \"price\": 25.71}, {\"symbol\": \"MSFT\", \"date\": \"2005-12-01T00:00:00\", \"price\": 24.29}, {\"symbol\": \"MSFT\", \"date\": \"2006-01-01T00:00:00\", \"price\": 26.14}, {\"symbol\": \"MSFT\", \"date\": \"2006-02-01T00:00:00\", \"price\": 25.04}, {\"symbol\": \"MSFT\", \"date\": \"2006-03-01T00:00:00\", \"price\": 25.36}, {\"symbol\": \"MSFT\", \"date\": \"2006-04-01T00:00:00\", \"price\": 22.5}, {\"symbol\": \"MSFT\", \"date\": \"2006-05-01T00:00:00\", \"price\": 21.19}, {\"symbol\": \"MSFT\", \"date\": \"2006-06-01T00:00:00\", \"price\": 21.8}, {\"symbol\": \"MSFT\", \"date\": \"2006-07-01T00:00:00\", \"price\": 22.51}, {\"symbol\": \"MSFT\", \"date\": \"2006-08-01T00:00:00\", \"price\": 24.13}, {\"symbol\": \"MSFT\", \"date\": \"2006-09-01T00:00:00\", \"price\": 25.68}, {\"symbol\": \"MSFT\", \"date\": \"2006-10-01T00:00:00\", \"price\": 26.96}, {\"symbol\": \"MSFT\", \"date\": \"2006-11-01T00:00:00\", \"price\": 27.66}, {\"symbol\": \"MSFT\", \"date\": \"2006-12-01T00:00:00\", \"price\": 28.13}, {\"symbol\": \"MSFT\", \"date\": \"2007-01-01T00:00:00\", \"price\": 29.07}, {\"symbol\": \"MSFT\", \"date\": \"2007-02-01T00:00:00\", \"price\": 26.63}, {\"symbol\": \"MSFT\", \"date\": \"2007-03-01T00:00:00\", \"price\": 26.35}, {\"symbol\": \"MSFT\", \"date\": \"2007-04-01T00:00:00\", \"price\": 28.3}, {\"symbol\": \"MSFT\", \"date\": \"2007-05-01T00:00:00\", \"price\": 29.11}, {\"symbol\": \"MSFT\", \"date\": \"2007-06-01T00:00:00\", \"price\": 27.95}, {\"symbol\": \"MSFT\", \"date\": \"2007-07-01T00:00:00\", \"price\": 27.5}, {\"symbol\": \"MSFT\", \"date\": \"2007-08-01T00:00:00\", \"price\": 27.34}, {\"symbol\": \"MSFT\", \"date\": \"2007-09-01T00:00:00\", \"price\": 28.04}, {\"symbol\": \"MSFT\", \"date\": \"2007-10-01T00:00:00\", \"price\": 35.03}, {\"symbol\": \"MSFT\", \"date\": \"2007-11-01T00:00:00\", \"price\": 32.09}, {\"symbol\": \"MSFT\", \"date\": \"2007-12-01T00:00:00\", \"price\": 34.0}, {\"symbol\": \"MSFT\", \"date\": \"2008-01-01T00:00:00\", \"price\": 31.13}, {\"symbol\": \"MSFT\", \"date\": \"2008-02-01T00:00:00\", \"price\": 26.07}, {\"symbol\": \"MSFT\", \"date\": \"2008-03-01T00:00:00\", \"price\": 27.21}, {\"symbol\": \"MSFT\", \"date\": \"2008-04-01T00:00:00\", \"price\": 27.34}, {\"symbol\": \"MSFT\", \"date\": \"2008-05-01T00:00:00\", \"price\": 27.25}, {\"symbol\": \"MSFT\", \"date\": \"2008-06-01T00:00:00\", \"price\": 26.47}, {\"symbol\": \"MSFT\", \"date\": \"2008-07-01T00:00:00\", \"price\": 24.75}, {\"symbol\": \"MSFT\", \"date\": \"2008-08-01T00:00:00\", \"price\": 26.36}, {\"symbol\": \"MSFT\", \"date\": \"2008-09-01T00:00:00\", \"price\": 25.78}, {\"symbol\": \"MSFT\", \"date\": \"2008-10-01T00:00:00\", \"price\": 21.57}, {\"symbol\": \"MSFT\", \"date\": \"2008-11-01T00:00:00\", \"price\": 19.66}, {\"symbol\": \"MSFT\", \"date\": \"2008-12-01T00:00:00\", \"price\": 18.91}, {\"symbol\": \"MSFT\", \"date\": \"2009-01-01T00:00:00\", \"price\": 16.63}, {\"symbol\": \"MSFT\", \"date\": \"2009-02-01T00:00:00\", \"price\": 15.81}, {\"symbol\": \"MSFT\", \"date\": \"2009-03-01T00:00:00\", \"price\": 17.99}, {\"symbol\": \"MSFT\", \"date\": \"2009-04-01T00:00:00\", \"price\": 19.84}, {\"symbol\": \"MSFT\", \"date\": \"2009-05-01T00:00:00\", \"price\": 20.59}, {\"symbol\": \"MSFT\", \"date\": \"2009-06-01T00:00:00\", \"price\": 23.42}, {\"symbol\": \"MSFT\", \"date\": \"2009-07-01T00:00:00\", \"price\": 23.18}, {\"symbol\": \"MSFT\", \"date\": \"2009-08-01T00:00:00\", \"price\": 24.43}, {\"symbol\": \"MSFT\", \"date\": \"2009-09-01T00:00:00\", \"price\": 25.49}, {\"symbol\": \"MSFT\", \"date\": \"2009-10-01T00:00:00\", \"price\": 27.48}, {\"symbol\": \"MSFT\", \"date\": \"2009-11-01T00:00:00\", \"price\": 29.27}, {\"symbol\": \"MSFT\", \"date\": \"2009-12-01T00:00:00\", \"price\": 30.34}, {\"symbol\": \"MSFT\", \"date\": \"2010-01-01T00:00:00\", \"price\": 28.05}, {\"symbol\": \"MSFT\", \"date\": \"2010-02-01T00:00:00\", \"price\": 28.67}, {\"symbol\": \"MSFT\", \"date\": \"2010-03-01T00:00:00\", \"price\": 28.8}, {\"symbol\": \"AMZN\", \"date\": \"2000-01-01T00:00:00\", \"price\": 64.56}, {\"symbol\": \"AMZN\", \"date\": \"2000-02-01T00:00:00\", \"price\": 68.87}, {\"symbol\": \"AMZN\", \"date\": \"2000-03-01T00:00:00\", \"price\": 67.0}, {\"symbol\": \"AMZN\", \"date\": \"2000-04-01T00:00:00\", \"price\": 55.19}, {\"symbol\": \"AMZN\", \"date\": \"2000-05-01T00:00:00\", \"price\": 48.31}, {\"symbol\": \"AMZN\", \"date\": \"2000-06-01T00:00:00\", \"price\": 36.31}, {\"symbol\": \"AMZN\", \"date\": \"2000-07-01T00:00:00\", \"price\": 30.12}, {\"symbol\": \"AMZN\", \"date\": \"2000-08-01T00:00:00\", \"price\": 41.5}, {\"symbol\": \"AMZN\", \"date\": \"2000-09-01T00:00:00\", \"price\": 38.44}, {\"symbol\": \"AMZN\", \"date\": \"2000-10-01T00:00:00\", \"price\": 36.62}, {\"symbol\": \"AMZN\", \"date\": \"2000-11-01T00:00:00\", \"price\": 24.69}, {\"symbol\": \"AMZN\", \"date\": \"2000-12-01T00:00:00\", \"price\": 15.56}, {\"symbol\": \"AMZN\", \"date\": \"2001-01-01T00:00:00\", \"price\": 17.31}, {\"symbol\": \"AMZN\", \"date\": \"2001-02-01T00:00:00\", \"price\": 10.19}, {\"symbol\": \"AMZN\", \"date\": \"2001-03-01T00:00:00\", \"price\": 10.23}, {\"symbol\": \"AMZN\", \"date\": \"2001-04-01T00:00:00\", \"price\": 15.78}, {\"symbol\": \"AMZN\", \"date\": \"2001-05-01T00:00:00\", \"price\": 16.69}, {\"symbol\": \"AMZN\", \"date\": \"2001-06-01T00:00:00\", \"price\": 14.15}, {\"symbol\": \"AMZN\", \"date\": \"2001-07-01T00:00:00\", \"price\": 12.49}, {\"symbol\": \"AMZN\", \"date\": \"2001-08-01T00:00:00\", \"price\": 8.94}, {\"symbol\": \"AMZN\", \"date\": \"2001-09-01T00:00:00\", \"price\": 5.97}, {\"symbol\": \"AMZN\", \"date\": \"2001-10-01T00:00:00\", \"price\": 6.98}, {\"symbol\": \"AMZN\", \"date\": \"2001-11-01T00:00:00\", \"price\": 11.32}, {\"symbol\": \"AMZN\", \"date\": \"2001-12-01T00:00:00\", \"price\": 10.82}, {\"symbol\": \"AMZN\", \"date\": \"2002-01-01T00:00:00\", \"price\": 14.19}, {\"symbol\": \"AMZN\", \"date\": \"2002-02-01T00:00:00\", \"price\": 14.1}, {\"symbol\": \"AMZN\", \"date\": \"2002-03-01T00:00:00\", \"price\": 14.3}, {\"symbol\": \"AMZN\", \"date\": \"2002-04-01T00:00:00\", \"price\": 16.69}, {\"symbol\": \"AMZN\", \"date\": \"2002-05-01T00:00:00\", \"price\": 18.23}, {\"symbol\": \"AMZN\", \"date\": \"2002-06-01T00:00:00\", \"price\": 16.25}, {\"symbol\": \"AMZN\", \"date\": \"2002-07-01T00:00:00\", \"price\": 14.45}, {\"symbol\": \"AMZN\", \"date\": \"2002-08-01T00:00:00\", \"price\": 14.94}, {\"symbol\": \"AMZN\", \"date\": \"2002-09-01T00:00:00\", \"price\": 15.93}, {\"symbol\": \"AMZN\", \"date\": \"2002-10-01T00:00:00\", \"price\": 19.36}, {\"symbol\": \"AMZN\", \"date\": \"2002-11-01T00:00:00\", \"price\": 23.35}, {\"symbol\": \"AMZN\", \"date\": \"2002-12-01T00:00:00\", \"price\": 18.89}, {\"symbol\": \"AMZN\", \"date\": \"2003-01-01T00:00:00\", \"price\": 21.85}, {\"symbol\": \"AMZN\", \"date\": \"2003-02-01T00:00:00\", \"price\": 22.01}, {\"symbol\": \"AMZN\", \"date\": \"2003-03-01T00:00:00\", \"price\": 26.03}, {\"symbol\": \"AMZN\", \"date\": \"2003-04-01T00:00:00\", \"price\": 28.69}, {\"symbol\": \"AMZN\", \"date\": \"2003-05-01T00:00:00\", \"price\": 35.89}, {\"symbol\": \"AMZN\", \"date\": \"2003-06-01T00:00:00\", \"price\": 36.32}, {\"symbol\": \"AMZN\", \"date\": \"2003-07-01T00:00:00\", \"price\": 41.64}, {\"symbol\": \"AMZN\", \"date\": \"2003-08-01T00:00:00\", \"price\": 46.32}, {\"symbol\": \"AMZN\", \"date\": \"2003-09-01T00:00:00\", \"price\": 48.43}, {\"symbol\": \"AMZN\", \"date\": \"2003-10-01T00:00:00\", \"price\": 54.43}, {\"symbol\": \"AMZN\", \"date\": \"2003-11-01T00:00:00\", \"price\": 53.97}, {\"symbol\": \"AMZN\", \"date\": \"2003-12-01T00:00:00\", \"price\": 52.62}, {\"symbol\": \"AMZN\", \"date\": \"2004-01-01T00:00:00\", \"price\": 50.4}, {\"symbol\": \"AMZN\", \"date\": \"2004-02-01T00:00:00\", \"price\": 43.01}, {\"symbol\": \"AMZN\", \"date\": \"2004-03-01T00:00:00\", \"price\": 43.28}, {\"symbol\": \"AMZN\", \"date\": \"2004-04-01T00:00:00\", \"price\": 43.6}, {\"symbol\": \"AMZN\", \"date\": \"2004-05-01T00:00:00\", \"price\": 48.5}, {\"symbol\": \"AMZN\", \"date\": \"2004-06-01T00:00:00\", \"price\": 54.4}, {\"symbol\": \"AMZN\", \"date\": \"2004-07-01T00:00:00\", \"price\": 38.92}, {\"symbol\": \"AMZN\", \"date\": \"2004-08-01T00:00:00\", \"price\": 38.14}, {\"symbol\": \"AMZN\", \"date\": \"2004-09-01T00:00:00\", \"price\": 40.86}, {\"symbol\": \"AMZN\", \"date\": \"2004-10-01T00:00:00\", \"price\": 34.13}, {\"symbol\": \"AMZN\", \"date\": \"2004-11-01T00:00:00\", \"price\": 39.68}, {\"symbol\": \"AMZN\", \"date\": \"2004-12-01T00:00:00\", \"price\": 44.29}, {\"symbol\": \"AMZN\", \"date\": \"2005-01-01T00:00:00\", \"price\": 43.22}, {\"symbol\": \"AMZN\", \"date\": \"2005-02-01T00:00:00\", \"price\": 35.18}, {\"symbol\": \"AMZN\", \"date\": \"2005-03-01T00:00:00\", \"price\": 34.27}, {\"symbol\": \"AMZN\", \"date\": \"2005-04-01T00:00:00\", \"price\": 32.36}, {\"symbol\": \"AMZN\", \"date\": \"2005-05-01T00:00:00\", \"price\": 35.51}, {\"symbol\": \"AMZN\", \"date\": \"2005-06-01T00:00:00\", \"price\": 33.09}, {\"symbol\": \"AMZN\", \"date\": \"2005-07-01T00:00:00\", \"price\": 45.15}, {\"symbol\": \"AMZN\", \"date\": \"2005-08-01T00:00:00\", \"price\": 42.7}, {\"symbol\": \"AMZN\", \"date\": \"2005-09-01T00:00:00\", \"price\": 45.3}, {\"symbol\": \"AMZN\", \"date\": \"2005-10-01T00:00:00\", \"price\": 39.86}, {\"symbol\": \"AMZN\", \"date\": \"2005-11-01T00:00:00\", \"price\": 48.46}, {\"symbol\": \"AMZN\", \"date\": \"2005-12-01T00:00:00\", \"price\": 47.15}, {\"symbol\": \"AMZN\", \"date\": \"2006-01-01T00:00:00\", \"price\": 44.82}, {\"symbol\": \"AMZN\", \"date\": \"2006-02-01T00:00:00\", \"price\": 37.44}, {\"symbol\": \"AMZN\", \"date\": \"2006-03-01T00:00:00\", \"price\": 36.53}, {\"symbol\": \"AMZN\", \"date\": \"2006-04-01T00:00:00\", \"price\": 35.21}, {\"symbol\": \"AMZN\", \"date\": \"2006-05-01T00:00:00\", \"price\": 34.61}, {\"symbol\": \"AMZN\", \"date\": \"2006-06-01T00:00:00\", \"price\": 38.68}, {\"symbol\": \"AMZN\", \"date\": \"2006-07-01T00:00:00\", \"price\": 26.89}, {\"symbol\": \"AMZN\", \"date\": \"2006-08-01T00:00:00\", \"price\": 30.83}, {\"symbol\": \"AMZN\", \"date\": \"2006-09-01T00:00:00\", \"price\": 32.12}, {\"symbol\": \"AMZN\", \"date\": \"2006-10-01T00:00:00\", \"price\": 38.09}, {\"symbol\": \"AMZN\", \"date\": \"2006-11-01T00:00:00\", \"price\": 40.34}, {\"symbol\": \"AMZN\", \"date\": \"2006-12-01T00:00:00\", \"price\": 39.46}, {\"symbol\": \"AMZN\", \"date\": \"2007-01-01T00:00:00\", \"price\": 37.67}, {\"symbol\": \"AMZN\", \"date\": \"2007-02-01T00:00:00\", \"price\": 39.14}, {\"symbol\": \"AMZN\", \"date\": \"2007-03-01T00:00:00\", \"price\": 39.79}, {\"symbol\": \"AMZN\", \"date\": \"2007-04-01T00:00:00\", \"price\": 61.33}, {\"symbol\": \"AMZN\", \"date\": \"2007-05-01T00:00:00\", \"price\": 69.14}, {\"symbol\": \"AMZN\", \"date\": \"2007-06-01T00:00:00\", \"price\": 68.41}, {\"symbol\": \"AMZN\", \"date\": \"2007-07-01T00:00:00\", \"price\": 78.54}, {\"symbol\": \"AMZN\", \"date\": \"2007-08-01T00:00:00\", \"price\": 79.91}, {\"symbol\": \"AMZN\", \"date\": \"2007-09-01T00:00:00\", \"price\": 93.15}, {\"symbol\": \"AMZN\", \"date\": \"2007-10-01T00:00:00\", \"price\": 89.15}, {\"symbol\": \"AMZN\", \"date\": \"2007-11-01T00:00:00\", \"price\": 90.56}, {\"symbol\": \"AMZN\", \"date\": \"2007-12-01T00:00:00\", \"price\": 92.64}, {\"symbol\": \"AMZN\", \"date\": \"2008-01-01T00:00:00\", \"price\": 77.7}, {\"symbol\": \"AMZN\", \"date\": \"2008-02-01T00:00:00\", \"price\": 64.47}, {\"symbol\": \"AMZN\", \"date\": \"2008-03-01T00:00:00\", \"price\": 71.3}, {\"symbol\": \"AMZN\", \"date\": \"2008-04-01T00:00:00\", \"price\": 78.63}, {\"symbol\": \"AMZN\", \"date\": \"2008-05-01T00:00:00\", \"price\": 81.62}, {\"symbol\": \"AMZN\", \"date\": \"2008-06-01T00:00:00\", \"price\": 73.33}, {\"symbol\": \"AMZN\", \"date\": \"2008-07-01T00:00:00\", \"price\": 76.34}, {\"symbol\": \"AMZN\", \"date\": \"2008-08-01T00:00:00\", \"price\": 80.81}, {\"symbol\": \"AMZN\", \"date\": \"2008-09-01T00:00:00\", \"price\": 72.76}, {\"symbol\": \"AMZN\", \"date\": \"2008-10-01T00:00:00\", \"price\": 57.24}, {\"symbol\": \"AMZN\", \"date\": \"2008-11-01T00:00:00\", \"price\": 42.7}, {\"symbol\": \"AMZN\", \"date\": \"2008-12-01T00:00:00\", \"price\": 51.28}, {\"symbol\": \"AMZN\", \"date\": \"2009-01-01T00:00:00\", \"price\": 58.82}, {\"symbol\": \"AMZN\", \"date\": \"2009-02-01T00:00:00\", \"price\": 64.79}, {\"symbol\": \"AMZN\", \"date\": \"2009-03-01T00:00:00\", \"price\": 73.44}, {\"symbol\": \"AMZN\", \"date\": \"2009-04-01T00:00:00\", \"price\": 80.52}, {\"symbol\": \"AMZN\", \"date\": \"2009-05-01T00:00:00\", \"price\": 77.99}, {\"symbol\": \"AMZN\", \"date\": \"2009-06-01T00:00:00\", \"price\": 83.66}, {\"symbol\": \"AMZN\", \"date\": \"2009-07-01T00:00:00\", \"price\": 85.76}, {\"symbol\": \"AMZN\", \"date\": \"2009-08-01T00:00:00\", \"price\": 81.19}, {\"symbol\": \"AMZN\", \"date\": \"2009-09-01T00:00:00\", \"price\": 93.36}, {\"symbol\": \"AMZN\", \"date\": \"2009-10-01T00:00:00\", \"price\": 118.81}, {\"symbol\": \"AMZN\", \"date\": \"2009-11-01T00:00:00\", \"price\": 135.91}, {\"symbol\": \"AMZN\", \"date\": \"2009-12-01T00:00:00\", \"price\": 134.52}, {\"symbol\": \"AMZN\", \"date\": \"2010-01-01T00:00:00\", \"price\": 125.41}, {\"symbol\": \"AMZN\", \"date\": \"2010-02-01T00:00:00\", \"price\": 118.4}, {\"symbol\": \"AMZN\", \"date\": \"2010-03-01T00:00:00\", \"price\": 128.82}, {\"symbol\": \"IBM\", \"date\": \"2000-01-01T00:00:00\", \"price\": 100.52}, {\"symbol\": \"IBM\", \"date\": \"2000-02-01T00:00:00\", \"price\": 92.11}, {\"symbol\": \"IBM\", \"date\": \"2000-03-01T00:00:00\", \"price\": 106.11}, {\"symbol\": \"IBM\", \"date\": \"2000-04-01T00:00:00\", \"price\": 99.95}, {\"symbol\": \"IBM\", \"date\": \"2000-05-01T00:00:00\", \"price\": 96.31}, {\"symbol\": \"IBM\", \"date\": \"2000-06-01T00:00:00\", \"price\": 98.33}, {\"symbol\": \"IBM\", \"date\": \"2000-07-01T00:00:00\", \"price\": 100.74}, {\"symbol\": \"IBM\", \"date\": \"2000-08-01T00:00:00\", \"price\": 118.62}, {\"symbol\": \"IBM\", \"date\": \"2000-09-01T00:00:00\", \"price\": 101.19}, {\"symbol\": \"IBM\", \"date\": \"2000-10-01T00:00:00\", \"price\": 88.5}, {\"symbol\": \"IBM\", \"date\": \"2000-11-01T00:00:00\", \"price\": 84.12}, {\"symbol\": \"IBM\", \"date\": \"2000-12-01T00:00:00\", \"price\": 76.47}, {\"symbol\": \"IBM\", \"date\": \"2001-01-01T00:00:00\", \"price\": 100.76}, {\"symbol\": \"IBM\", \"date\": \"2001-02-01T00:00:00\", \"price\": 89.98}, {\"symbol\": \"IBM\", \"date\": \"2001-03-01T00:00:00\", \"price\": 86.63}, {\"symbol\": \"IBM\", \"date\": \"2001-04-01T00:00:00\", \"price\": 103.7}, {\"symbol\": \"IBM\", \"date\": \"2001-05-01T00:00:00\", \"price\": 100.82}, {\"symbol\": \"IBM\", \"date\": \"2001-06-01T00:00:00\", \"price\": 102.35}, {\"symbol\": \"IBM\", \"date\": \"2001-07-01T00:00:00\", \"price\": 94.87}, {\"symbol\": \"IBM\", \"date\": \"2001-08-01T00:00:00\", \"price\": 90.25}, {\"symbol\": \"IBM\", \"date\": \"2001-09-01T00:00:00\", \"price\": 82.82}, {\"symbol\": \"IBM\", \"date\": \"2001-10-01T00:00:00\", \"price\": 97.58}, {\"symbol\": \"IBM\", \"date\": \"2001-11-01T00:00:00\", \"price\": 104.5}, {\"symbol\": \"IBM\", \"date\": \"2001-12-01T00:00:00\", \"price\": 109.36}, {\"symbol\": \"IBM\", \"date\": \"2002-01-01T00:00:00\", \"price\": 97.54}, {\"symbol\": \"IBM\", \"date\": \"2002-02-01T00:00:00\", \"price\": 88.82}, {\"symbol\": \"IBM\", \"date\": \"2002-03-01T00:00:00\", \"price\": 94.15}, {\"symbol\": \"IBM\", \"date\": \"2002-04-01T00:00:00\", \"price\": 75.82}, {\"symbol\": \"IBM\", \"date\": \"2002-05-01T00:00:00\", \"price\": 72.97}, {\"symbol\": \"IBM\", \"date\": \"2002-06-01T00:00:00\", \"price\": 65.31}, {\"symbol\": \"IBM\", \"date\": \"2002-07-01T00:00:00\", \"price\": 63.86}, {\"symbol\": \"IBM\", \"date\": \"2002-08-01T00:00:00\", \"price\": 68.52}, {\"symbol\": \"IBM\", \"date\": \"2002-09-01T00:00:00\", \"price\": 53.01}, {\"symbol\": \"IBM\", \"date\": \"2002-10-01T00:00:00\", \"price\": 71.76}, {\"symbol\": \"IBM\", \"date\": \"2002-11-01T00:00:00\", \"price\": 79.16}, {\"symbol\": \"IBM\", \"date\": \"2002-12-01T00:00:00\", \"price\": 70.58}, {\"symbol\": \"IBM\", \"date\": \"2003-01-01T00:00:00\", \"price\": 71.22}, {\"symbol\": \"IBM\", \"date\": \"2003-02-01T00:00:00\", \"price\": 71.13}, {\"symbol\": \"IBM\", \"date\": \"2003-03-01T00:00:00\", \"price\": 71.57}, {\"symbol\": \"IBM\", \"date\": \"2003-04-01T00:00:00\", \"price\": 77.47}, {\"symbol\": \"IBM\", \"date\": \"2003-05-01T00:00:00\", \"price\": 80.48}, {\"symbol\": \"IBM\", \"date\": \"2003-06-01T00:00:00\", \"price\": 75.42}, {\"symbol\": \"IBM\", \"date\": \"2003-07-01T00:00:00\", \"price\": 74.28}, {\"symbol\": \"IBM\", \"date\": \"2003-08-01T00:00:00\", \"price\": 75.12}, {\"symbol\": \"IBM\", \"date\": \"2003-09-01T00:00:00\", \"price\": 80.91}, {\"symbol\": \"IBM\", \"date\": \"2003-10-01T00:00:00\", \"price\": 81.96}, {\"symbol\": \"IBM\", \"date\": \"2003-11-01T00:00:00\", \"price\": 83.08}, {\"symbol\": \"IBM\", \"date\": \"2003-12-01T00:00:00\", \"price\": 85.05}, {\"symbol\": \"IBM\", \"date\": \"2004-01-01T00:00:00\", \"price\": 91.06}, {\"symbol\": \"IBM\", \"date\": \"2004-02-01T00:00:00\", \"price\": 88.7}, {\"symbol\": \"IBM\", \"date\": \"2004-03-01T00:00:00\", \"price\": 84.41}, {\"symbol\": \"IBM\", \"date\": \"2004-04-01T00:00:00\", \"price\": 81.04}, {\"symbol\": \"IBM\", \"date\": \"2004-05-01T00:00:00\", \"price\": 81.59}, {\"symbol\": \"IBM\", \"date\": \"2004-06-01T00:00:00\", \"price\": 81.19}, {\"symbol\": \"IBM\", \"date\": \"2004-07-01T00:00:00\", \"price\": 80.19}, {\"symbol\": \"IBM\", \"date\": \"2004-08-01T00:00:00\", \"price\": 78.17}, {\"symbol\": \"IBM\", \"date\": \"2004-09-01T00:00:00\", \"price\": 79.13}, {\"symbol\": \"IBM\", \"date\": \"2004-10-01T00:00:00\", \"price\": 82.84}, {\"symbol\": \"IBM\", \"date\": \"2004-11-01T00:00:00\", \"price\": 87.15}, {\"symbol\": \"IBM\", \"date\": \"2004-12-01T00:00:00\", \"price\": 91.16}, {\"symbol\": \"IBM\", \"date\": \"2005-01-01T00:00:00\", \"price\": 86.39}, {\"symbol\": \"IBM\", \"date\": \"2005-02-01T00:00:00\", \"price\": 85.78}, {\"symbol\": \"IBM\", \"date\": \"2005-03-01T00:00:00\", \"price\": 84.66}, {\"symbol\": \"IBM\", \"date\": \"2005-04-01T00:00:00\", \"price\": 70.77}, {\"symbol\": \"IBM\", \"date\": \"2005-05-01T00:00:00\", \"price\": 70.18}, {\"symbol\": \"IBM\", \"date\": \"2005-06-01T00:00:00\", \"price\": 68.93}, {\"symbol\": \"IBM\", \"date\": \"2005-07-01T00:00:00\", \"price\": 77.53}, {\"symbol\": \"IBM\", \"date\": \"2005-08-01T00:00:00\", \"price\": 75.07}, {\"symbol\": \"IBM\", \"date\": \"2005-09-01T00:00:00\", \"price\": 74.7}, {\"symbol\": \"IBM\", \"date\": \"2005-10-01T00:00:00\", \"price\": 76.25}, {\"symbol\": \"IBM\", \"date\": \"2005-11-01T00:00:00\", \"price\": 82.98}, {\"symbol\": \"IBM\", \"date\": \"2005-12-01T00:00:00\", \"price\": 76.73}, {\"symbol\": \"IBM\", \"date\": \"2006-01-01T00:00:00\", \"price\": 75.89}, {\"symbol\": \"IBM\", \"date\": \"2006-02-01T00:00:00\", \"price\": 75.09}, {\"symbol\": \"IBM\", \"date\": \"2006-03-01T00:00:00\", \"price\": 77.17}, {\"symbol\": \"IBM\", \"date\": \"2006-04-01T00:00:00\", \"price\": 77.05}, {\"symbol\": \"IBM\", \"date\": \"2006-05-01T00:00:00\", \"price\": 75.04}, {\"symbol\": \"IBM\", \"date\": \"2006-06-01T00:00:00\", \"price\": 72.15}, {\"symbol\": \"IBM\", \"date\": \"2006-07-01T00:00:00\", \"price\": 72.7}, {\"symbol\": \"IBM\", \"date\": \"2006-08-01T00:00:00\", \"price\": 76.35}, {\"symbol\": \"IBM\", \"date\": \"2006-09-01T00:00:00\", \"price\": 77.26}, {\"symbol\": \"IBM\", \"date\": \"2006-10-01T00:00:00\", \"price\": 87.06}, {\"symbol\": \"IBM\", \"date\": \"2006-11-01T00:00:00\", \"price\": 86.95}, {\"symbol\": \"IBM\", \"date\": \"2006-12-01T00:00:00\", \"price\": 91.9}, {\"symbol\": \"IBM\", \"date\": \"2007-01-01T00:00:00\", \"price\": 93.79}, {\"symbol\": \"IBM\", \"date\": \"2007-02-01T00:00:00\", \"price\": 88.18}, {\"symbol\": \"IBM\", \"date\": \"2007-03-01T00:00:00\", \"price\": 89.44}, {\"symbol\": \"IBM\", \"date\": \"2007-04-01T00:00:00\", \"price\": 96.98}, {\"symbol\": \"IBM\", \"date\": \"2007-05-01T00:00:00\", \"price\": 101.54}, {\"symbol\": \"IBM\", \"date\": \"2007-06-01T00:00:00\", \"price\": 100.25}, {\"symbol\": \"IBM\", \"date\": \"2007-07-01T00:00:00\", \"price\": 105.4}, {\"symbol\": \"IBM\", \"date\": \"2007-08-01T00:00:00\", \"price\": 111.54}, {\"symbol\": \"IBM\", \"date\": \"2007-09-01T00:00:00\", \"price\": 112.6}, {\"symbol\": \"IBM\", \"date\": \"2007-10-01T00:00:00\", \"price\": 111.0}, {\"symbol\": \"IBM\", \"date\": \"2007-11-01T00:00:00\", \"price\": 100.9}, {\"symbol\": \"IBM\", \"date\": \"2007-12-01T00:00:00\", \"price\": 103.7}, {\"symbol\": \"IBM\", \"date\": \"2008-01-01T00:00:00\", \"price\": 102.75}, {\"symbol\": \"IBM\", \"date\": \"2008-02-01T00:00:00\", \"price\": 109.64}, {\"symbol\": \"IBM\", \"date\": \"2008-03-01T00:00:00\", \"price\": 110.87}, {\"symbol\": \"IBM\", \"date\": \"2008-04-01T00:00:00\", \"price\": 116.23}, {\"symbol\": \"IBM\", \"date\": \"2008-05-01T00:00:00\", \"price\": 125.14}, {\"symbol\": \"IBM\", \"date\": \"2008-06-01T00:00:00\", \"price\": 114.6}, {\"symbol\": \"IBM\", \"date\": \"2008-07-01T00:00:00\", \"price\": 123.74}, {\"symbol\": \"IBM\", \"date\": \"2008-08-01T00:00:00\", \"price\": 118.16}, {\"symbol\": \"IBM\", \"date\": \"2008-09-01T00:00:00\", \"price\": 113.53}, {\"symbol\": \"IBM\", \"date\": \"2008-10-01T00:00:00\", \"price\": 90.24}, {\"symbol\": \"IBM\", \"date\": \"2008-11-01T00:00:00\", \"price\": 79.65}, {\"symbol\": \"IBM\", \"date\": \"2008-12-01T00:00:00\", \"price\": 82.15}, {\"symbol\": \"IBM\", \"date\": \"2009-01-01T00:00:00\", \"price\": 89.46}, {\"symbol\": \"IBM\", \"date\": \"2009-02-01T00:00:00\", \"price\": 90.32}, {\"symbol\": \"IBM\", \"date\": \"2009-03-01T00:00:00\", \"price\": 95.09}, {\"symbol\": \"IBM\", \"date\": \"2009-04-01T00:00:00\", \"price\": 101.29}, {\"symbol\": \"IBM\", \"date\": \"2009-05-01T00:00:00\", \"price\": 104.85}, {\"symbol\": \"IBM\", \"date\": \"2009-06-01T00:00:00\", \"price\": 103.01}, {\"symbol\": \"IBM\", \"date\": \"2009-07-01T00:00:00\", \"price\": 116.34}, {\"symbol\": \"IBM\", \"date\": \"2009-08-01T00:00:00\", \"price\": 117.0}, {\"symbol\": \"IBM\", \"date\": \"2009-09-01T00:00:00\", \"price\": 118.55}, {\"symbol\": \"IBM\", \"date\": \"2009-10-01T00:00:00\", \"price\": 119.54}, {\"symbol\": \"IBM\", \"date\": \"2009-11-01T00:00:00\", \"price\": 125.79}, {\"symbol\": \"IBM\", \"date\": \"2009-12-01T00:00:00\", \"price\": 130.32}, {\"symbol\": \"IBM\", \"date\": \"2010-01-01T00:00:00\", \"price\": 121.85}, {\"symbol\": \"IBM\", \"date\": \"2010-02-01T00:00:00\", \"price\": 127.16}, {\"symbol\": \"IBM\", \"date\": \"2010-03-01T00:00:00\", \"price\": 125.55}, {\"symbol\": \"GOOG\", \"date\": \"2004-08-01T00:00:00\", \"price\": 102.37}, {\"symbol\": \"GOOG\", \"date\": \"2004-09-01T00:00:00\", \"price\": 129.6}, {\"symbol\": \"GOOG\", \"date\": \"2004-10-01T00:00:00\", \"price\": 190.64}, {\"symbol\": \"GOOG\", \"date\": \"2004-11-01T00:00:00\", \"price\": 181.98}, {\"symbol\": \"GOOG\", \"date\": \"2004-12-01T00:00:00\", \"price\": 192.79}, {\"symbol\": \"GOOG\", \"date\": \"2005-01-01T00:00:00\", \"price\": 195.62}, {\"symbol\": \"GOOG\", \"date\": \"2005-02-01T00:00:00\", \"price\": 187.99}, {\"symbol\": \"GOOG\", \"date\": \"2005-03-01T00:00:00\", \"price\": 180.51}, {\"symbol\": \"GOOG\", \"date\": \"2005-04-01T00:00:00\", \"price\": 220.0}, {\"symbol\": \"GOOG\", \"date\": \"2005-05-01T00:00:00\", \"price\": 277.27}, {\"symbol\": \"GOOG\", \"date\": \"2005-06-01T00:00:00\", \"price\": 294.15}, {\"symbol\": \"GOOG\", \"date\": \"2005-07-01T00:00:00\", \"price\": 287.76}, {\"symbol\": \"GOOG\", \"date\": \"2005-08-01T00:00:00\", \"price\": 286.0}, {\"symbol\": \"GOOG\", \"date\": \"2005-09-01T00:00:00\", \"price\": 316.46}, {\"symbol\": \"GOOG\", \"date\": \"2005-10-01T00:00:00\", \"price\": 372.14}, {\"symbol\": \"GOOG\", \"date\": \"2005-11-01T00:00:00\", \"price\": 404.91}, {\"symbol\": \"GOOG\", \"date\": \"2005-12-01T00:00:00\", \"price\": 414.86}, {\"symbol\": \"GOOG\", \"date\": \"2006-01-01T00:00:00\", \"price\": 432.66}, {\"symbol\": \"GOOG\", \"date\": \"2006-02-01T00:00:00\", \"price\": 362.62}, {\"symbol\": \"GOOG\", \"date\": \"2006-03-01T00:00:00\", \"price\": 390.0}, {\"symbol\": \"GOOG\", \"date\": \"2006-04-01T00:00:00\", \"price\": 417.94}, {\"symbol\": \"GOOG\", \"date\": \"2006-05-01T00:00:00\", \"price\": 371.82}, {\"symbol\": \"GOOG\", \"date\": \"2006-06-01T00:00:00\", \"price\": 419.33}, {\"symbol\": \"GOOG\", \"date\": \"2006-07-01T00:00:00\", \"price\": 386.6}, {\"symbol\": \"GOOG\", \"date\": \"2006-08-01T00:00:00\", \"price\": 378.53}, {\"symbol\": \"GOOG\", \"date\": \"2006-09-01T00:00:00\", \"price\": 401.9}, {\"symbol\": \"GOOG\", \"date\": \"2006-10-01T00:00:00\", \"price\": 476.39}, {\"symbol\": \"GOOG\", \"date\": \"2006-11-01T00:00:00\", \"price\": 484.81}, {\"symbol\": \"GOOG\", \"date\": \"2006-12-01T00:00:00\", \"price\": 460.48}, {\"symbol\": \"GOOG\", \"date\": \"2007-01-01T00:00:00\", \"price\": 501.5}, {\"symbol\": \"GOOG\", \"date\": \"2007-02-01T00:00:00\", \"price\": 449.45}, {\"symbol\": \"GOOG\", \"date\": \"2007-03-01T00:00:00\", \"price\": 458.16}, {\"symbol\": \"GOOG\", \"date\": \"2007-04-01T00:00:00\", \"price\": 471.38}, {\"symbol\": \"GOOG\", \"date\": \"2007-05-01T00:00:00\", \"price\": 497.91}, {\"symbol\": \"GOOG\", \"date\": \"2007-06-01T00:00:00\", \"price\": 522.7}, {\"symbol\": \"GOOG\", \"date\": \"2007-07-01T00:00:00\", \"price\": 510.0}, {\"symbol\": \"GOOG\", \"date\": \"2007-08-01T00:00:00\", \"price\": 515.25}, {\"symbol\": \"GOOG\", \"date\": \"2007-09-01T00:00:00\", \"price\": 567.27}, {\"symbol\": \"GOOG\", \"date\": \"2007-10-01T00:00:00\", \"price\": 707.0}, {\"symbol\": \"GOOG\", \"date\": \"2007-11-01T00:00:00\", \"price\": 693.0}, {\"symbol\": \"GOOG\", \"date\": \"2007-12-01T00:00:00\", \"price\": 691.48}, {\"symbol\": \"GOOG\", \"date\": \"2008-01-01T00:00:00\", \"price\": 564.3}, {\"symbol\": \"GOOG\", \"date\": \"2008-02-01T00:00:00\", \"price\": 471.18}, {\"symbol\": \"GOOG\", \"date\": \"2008-03-01T00:00:00\", \"price\": 440.47}, {\"symbol\": \"GOOG\", \"date\": \"2008-04-01T00:00:00\", \"price\": 574.29}, {\"symbol\": \"GOOG\", \"date\": \"2008-05-01T00:00:00\", \"price\": 585.8}, {\"symbol\": \"GOOG\", \"date\": \"2008-06-01T00:00:00\", \"price\": 526.42}, {\"symbol\": \"GOOG\", \"date\": \"2008-07-01T00:00:00\", \"price\": 473.75}, {\"symbol\": \"GOOG\", \"date\": \"2008-08-01T00:00:00\", \"price\": 463.29}, {\"symbol\": \"GOOG\", \"date\": \"2008-09-01T00:00:00\", \"price\": 400.52}, {\"symbol\": \"GOOG\", \"date\": \"2008-10-01T00:00:00\", \"price\": 359.36}, {\"symbol\": \"GOOG\", \"date\": \"2008-11-01T00:00:00\", \"price\": 292.96}, {\"symbol\": \"GOOG\", \"date\": \"2008-12-01T00:00:00\", \"price\": 307.65}, {\"symbol\": \"GOOG\", \"date\": \"2009-01-01T00:00:00\", \"price\": 338.53}, {\"symbol\": \"GOOG\", \"date\": \"2009-02-01T00:00:00\", \"price\": 337.99}, {\"symbol\": \"GOOG\", \"date\": \"2009-03-01T00:00:00\", \"price\": 348.06}, {\"symbol\": \"GOOG\", \"date\": \"2009-04-01T00:00:00\", \"price\": 395.97}, {\"symbol\": \"GOOG\", \"date\": \"2009-05-01T00:00:00\", \"price\": 417.23}, {\"symbol\": \"GOOG\", \"date\": \"2009-06-01T00:00:00\", \"price\": 421.59}, {\"symbol\": \"GOOG\", \"date\": \"2009-07-01T00:00:00\", \"price\": 443.05}, {\"symbol\": \"GOOG\", \"date\": \"2009-08-01T00:00:00\", \"price\": 461.67}, {\"symbol\": \"GOOG\", \"date\": \"2009-09-01T00:00:00\", \"price\": 495.85}, {\"symbol\": \"GOOG\", \"date\": \"2009-10-01T00:00:00\", \"price\": 536.12}, {\"symbol\": \"GOOG\", \"date\": \"2009-11-01T00:00:00\", \"price\": 583.0}, {\"symbol\": \"GOOG\", \"date\": \"2009-12-01T00:00:00\", \"price\": 619.98}, {\"symbol\": \"GOOG\", \"date\": \"2010-01-01T00:00:00\", \"price\": 529.94}, {\"symbol\": \"GOOG\", \"date\": \"2010-02-01T00:00:00\", \"price\": 526.8}, {\"symbol\": \"GOOG\", \"date\": \"2010-03-01T00:00:00\", \"price\": 560.19}, {\"symbol\": \"AAPL\", \"date\": \"2000-01-01T00:00:00\", \"price\": 25.94}, {\"symbol\": \"AAPL\", \"date\": \"2000-02-01T00:00:00\", \"price\": 28.66}, {\"symbol\": \"AAPL\", \"date\": \"2000-03-01T00:00:00\", \"price\": 33.95}, {\"symbol\": \"AAPL\", \"date\": \"2000-04-01T00:00:00\", \"price\": 31.01}, {\"symbol\": \"AAPL\", \"date\": \"2000-05-01T00:00:00\", \"price\": 21.0}, {\"symbol\": \"AAPL\", \"date\": \"2000-06-01T00:00:00\", \"price\": 26.19}, {\"symbol\": \"AAPL\", \"date\": \"2000-07-01T00:00:00\", \"price\": 25.41}, {\"symbol\": \"AAPL\", \"date\": \"2000-08-01T00:00:00\", \"price\": 30.47}, {\"symbol\": \"AAPL\", \"date\": \"2000-09-01T00:00:00\", \"price\": 12.88}, {\"symbol\": \"AAPL\", \"date\": \"2000-10-01T00:00:00\", \"price\": 9.78}, {\"symbol\": \"AAPL\", \"date\": \"2000-11-01T00:00:00\", \"price\": 8.25}, {\"symbol\": \"AAPL\", \"date\": \"2000-12-01T00:00:00\", \"price\": 7.44}, {\"symbol\": \"AAPL\", \"date\": \"2001-01-01T00:00:00\", \"price\": 10.81}, {\"symbol\": \"AAPL\", \"date\": \"2001-02-01T00:00:00\", \"price\": 9.12}, {\"symbol\": \"AAPL\", \"date\": \"2001-03-01T00:00:00\", \"price\": 11.03}, {\"symbol\": \"AAPL\", \"date\": \"2001-04-01T00:00:00\", \"price\": 12.74}, {\"symbol\": \"AAPL\", \"date\": \"2001-05-01T00:00:00\", \"price\": 9.98}, {\"symbol\": \"AAPL\", \"date\": \"2001-06-01T00:00:00\", \"price\": 11.62}, {\"symbol\": \"AAPL\", \"date\": \"2001-07-01T00:00:00\", \"price\": 9.4}, {\"symbol\": \"AAPL\", \"date\": \"2001-08-01T00:00:00\", \"price\": 9.27}, {\"symbol\": \"AAPL\", \"date\": \"2001-09-01T00:00:00\", \"price\": 7.76}, {\"symbol\": \"AAPL\", \"date\": \"2001-10-01T00:00:00\", \"price\": 8.78}, {\"symbol\": \"AAPL\", \"date\": \"2001-11-01T00:00:00\", \"price\": 10.65}, {\"symbol\": \"AAPL\", \"date\": \"2001-12-01T00:00:00\", \"price\": 10.95}, {\"symbol\": \"AAPL\", \"date\": \"2002-01-01T00:00:00\", \"price\": 12.36}, {\"symbol\": \"AAPL\", \"date\": \"2002-02-01T00:00:00\", \"price\": 10.85}, {\"symbol\": \"AAPL\", \"date\": \"2002-03-01T00:00:00\", \"price\": 11.84}, {\"symbol\": \"AAPL\", \"date\": \"2002-04-01T00:00:00\", \"price\": 12.14}, {\"symbol\": \"AAPL\", \"date\": \"2002-05-01T00:00:00\", \"price\": 11.65}, {\"symbol\": \"AAPL\", \"date\": \"2002-06-01T00:00:00\", \"price\": 8.86}, {\"symbol\": \"AAPL\", \"date\": \"2002-07-01T00:00:00\", \"price\": 7.63}, {\"symbol\": \"AAPL\", \"date\": \"2002-08-01T00:00:00\", \"price\": 7.38}, {\"symbol\": \"AAPL\", \"date\": \"2002-09-01T00:00:00\", \"price\": 7.25}, {\"symbol\": \"AAPL\", \"date\": \"2002-10-01T00:00:00\", \"price\": 8.03}, {\"symbol\": \"AAPL\", \"date\": \"2002-11-01T00:00:00\", \"price\": 7.75}, {\"symbol\": \"AAPL\", \"date\": \"2002-12-01T00:00:00\", \"price\": 7.16}, {\"symbol\": \"AAPL\", \"date\": \"2003-01-01T00:00:00\", \"price\": 7.18}, {\"symbol\": \"AAPL\", \"date\": \"2003-02-01T00:00:00\", \"price\": 7.51}, {\"symbol\": \"AAPL\", \"date\": \"2003-03-01T00:00:00\", \"price\": 7.07}, {\"symbol\": \"AAPL\", \"date\": \"2003-04-01T00:00:00\", \"price\": 7.11}, {\"symbol\": \"AAPL\", \"date\": \"2003-05-01T00:00:00\", \"price\": 8.98}, {\"symbol\": \"AAPL\", \"date\": \"2003-06-01T00:00:00\", \"price\": 9.53}, {\"symbol\": \"AAPL\", \"date\": \"2003-07-01T00:00:00\", \"price\": 10.54}, {\"symbol\": \"AAPL\", \"date\": \"2003-08-01T00:00:00\", \"price\": 11.31}, {\"symbol\": \"AAPL\", \"date\": \"2003-09-01T00:00:00\", \"price\": 10.36}, {\"symbol\": \"AAPL\", \"date\": \"2003-10-01T00:00:00\", \"price\": 11.44}, {\"symbol\": \"AAPL\", \"date\": \"2003-11-01T00:00:00\", \"price\": 10.45}, {\"symbol\": \"AAPL\", \"date\": \"2003-12-01T00:00:00\", \"price\": 10.69}, {\"symbol\": \"AAPL\", \"date\": \"2004-01-01T00:00:00\", \"price\": 11.28}, {\"symbol\": \"AAPL\", \"date\": \"2004-02-01T00:00:00\", \"price\": 11.96}, {\"symbol\": \"AAPL\", \"date\": \"2004-03-01T00:00:00\", \"price\": 13.52}, {\"symbol\": \"AAPL\", \"date\": \"2004-04-01T00:00:00\", \"price\": 12.89}, {\"symbol\": \"AAPL\", \"date\": \"2004-05-01T00:00:00\", \"price\": 14.03}, {\"symbol\": \"AAPL\", \"date\": \"2004-06-01T00:00:00\", \"price\": 16.27}, {\"symbol\": \"AAPL\", \"date\": \"2004-07-01T00:00:00\", \"price\": 16.17}, {\"symbol\": \"AAPL\", \"date\": \"2004-08-01T00:00:00\", \"price\": 17.25}, {\"symbol\": \"AAPL\", \"date\": \"2004-09-01T00:00:00\", \"price\": 19.38}, {\"symbol\": \"AAPL\", \"date\": \"2004-10-01T00:00:00\", \"price\": 26.2}, {\"symbol\": \"AAPL\", \"date\": \"2004-11-01T00:00:00\", \"price\": 33.53}, {\"symbol\": \"AAPL\", \"date\": \"2004-12-01T00:00:00\", \"price\": 32.2}, {\"symbol\": \"AAPL\", \"date\": \"2005-01-01T00:00:00\", \"price\": 38.45}, {\"symbol\": \"AAPL\", \"date\": \"2005-02-01T00:00:00\", \"price\": 44.86}, {\"symbol\": \"AAPL\", \"date\": \"2005-03-01T00:00:00\", \"price\": 41.67}, {\"symbol\": \"AAPL\", \"date\": \"2005-04-01T00:00:00\", \"price\": 36.06}, {\"symbol\": \"AAPL\", \"date\": \"2005-05-01T00:00:00\", \"price\": 39.76}, {\"symbol\": \"AAPL\", \"date\": \"2005-06-01T00:00:00\", \"price\": 36.81}, {\"symbol\": \"AAPL\", \"date\": \"2005-07-01T00:00:00\", \"price\": 42.65}, {\"symbol\": \"AAPL\", \"date\": \"2005-08-01T00:00:00\", \"price\": 46.89}, {\"symbol\": \"AAPL\", \"date\": \"2005-09-01T00:00:00\", \"price\": 53.61}, {\"symbol\": \"AAPL\", \"date\": \"2005-10-01T00:00:00\", \"price\": 57.59}, {\"symbol\": \"AAPL\", \"date\": \"2005-11-01T00:00:00\", \"price\": 67.82}, {\"symbol\": \"AAPL\", \"date\": \"2005-12-01T00:00:00\", \"price\": 71.89}, {\"symbol\": \"AAPL\", \"date\": \"2006-01-01T00:00:00\", \"price\": 75.51}, {\"symbol\": \"AAPL\", \"date\": \"2006-02-01T00:00:00\", \"price\": 68.49}, {\"symbol\": \"AAPL\", \"date\": \"2006-03-01T00:00:00\", \"price\": 62.72}, {\"symbol\": \"AAPL\", \"date\": \"2006-04-01T00:00:00\", \"price\": 70.39}, {\"symbol\": \"AAPL\", \"date\": \"2006-05-01T00:00:00\", \"price\": 59.77}, {\"symbol\": \"AAPL\", \"date\": \"2006-06-01T00:00:00\", \"price\": 57.27}, {\"symbol\": \"AAPL\", \"date\": \"2006-07-01T00:00:00\", \"price\": 67.96}, {\"symbol\": \"AAPL\", \"date\": \"2006-08-01T00:00:00\", \"price\": 67.85}, {\"symbol\": \"AAPL\", \"date\": \"2006-09-01T00:00:00\", \"price\": 76.98}, {\"symbol\": \"AAPL\", \"date\": \"2006-10-01T00:00:00\", \"price\": 81.08}, {\"symbol\": \"AAPL\", \"date\": \"2006-11-01T00:00:00\", \"price\": 91.66}, {\"symbol\": \"AAPL\", \"date\": \"2006-12-01T00:00:00\", \"price\": 84.84}, {\"symbol\": \"AAPL\", \"date\": \"2007-01-01T00:00:00\", \"price\": 85.73}, {\"symbol\": \"AAPL\", \"date\": \"2007-02-01T00:00:00\", \"price\": 84.61}, {\"symbol\": \"AAPL\", \"date\": \"2007-03-01T00:00:00\", \"price\": 92.91}, {\"symbol\": \"AAPL\", \"date\": \"2007-04-01T00:00:00\", \"price\": 99.8}, {\"symbol\": \"AAPL\", \"date\": \"2007-05-01T00:00:00\", \"price\": 121.19}, {\"symbol\": \"AAPL\", \"date\": \"2007-06-01T00:00:00\", \"price\": 122.04}, {\"symbol\": \"AAPL\", \"date\": \"2007-07-01T00:00:00\", \"price\": 131.76}, {\"symbol\": \"AAPL\", \"date\": \"2007-08-01T00:00:00\", \"price\": 138.48}, {\"symbol\": \"AAPL\", \"date\": \"2007-09-01T00:00:00\", \"price\": 153.47}, {\"symbol\": \"AAPL\", \"date\": \"2007-10-01T00:00:00\", \"price\": 189.95}, {\"symbol\": \"AAPL\", \"date\": \"2007-11-01T00:00:00\", \"price\": 182.22}, {\"symbol\": \"AAPL\", \"date\": \"2007-12-01T00:00:00\", \"price\": 198.08}, {\"symbol\": \"AAPL\", \"date\": \"2008-01-01T00:00:00\", \"price\": 135.36}, {\"symbol\": \"AAPL\", \"date\": \"2008-02-01T00:00:00\", \"price\": 125.02}, {\"symbol\": \"AAPL\", \"date\": \"2008-03-01T00:00:00\", \"price\": 143.5}, {\"symbol\": \"AAPL\", \"date\": \"2008-04-01T00:00:00\", \"price\": 173.95}, {\"symbol\": \"AAPL\", \"date\": \"2008-05-01T00:00:00\", \"price\": 188.75}, {\"symbol\": \"AAPL\", \"date\": \"2008-06-01T00:00:00\", \"price\": 167.44}, {\"symbol\": \"AAPL\", \"date\": \"2008-07-01T00:00:00\", \"price\": 158.95}, {\"symbol\": \"AAPL\", \"date\": \"2008-08-01T00:00:00\", \"price\": 169.53}, {\"symbol\": \"AAPL\", \"date\": \"2008-09-01T00:00:00\", \"price\": 113.66}, {\"symbol\": \"AAPL\", \"date\": \"2008-10-01T00:00:00\", \"price\": 107.59}, {\"symbol\": \"AAPL\", \"date\": \"2008-11-01T00:00:00\", \"price\": 92.67}, {\"symbol\": \"AAPL\", \"date\": \"2008-12-01T00:00:00\", \"price\": 85.35}, {\"symbol\": \"AAPL\", \"date\": \"2009-01-01T00:00:00\", \"price\": 90.13}, {\"symbol\": \"AAPL\", \"date\": \"2009-02-01T00:00:00\", \"price\": 89.31}, {\"symbol\": \"AAPL\", \"date\": \"2009-03-01T00:00:00\", \"price\": 105.12}, {\"symbol\": \"AAPL\", \"date\": \"2009-04-01T00:00:00\", \"price\": 125.83}, {\"symbol\": \"AAPL\", \"date\": \"2009-05-01T00:00:00\", \"price\": 135.81}, {\"symbol\": \"AAPL\", \"date\": \"2009-06-01T00:00:00\", \"price\": 142.43}, {\"symbol\": \"AAPL\", \"date\": \"2009-07-01T00:00:00\", \"price\": 163.39}, {\"symbol\": \"AAPL\", \"date\": \"2009-08-01T00:00:00\", \"price\": 168.21}, {\"symbol\": \"AAPL\", \"date\": \"2009-09-01T00:00:00\", \"price\": 185.35}, {\"symbol\": \"AAPL\", \"date\": \"2009-10-01T00:00:00\", \"price\": 188.5}, {\"symbol\": \"AAPL\", \"date\": \"2009-11-01T00:00:00\", \"price\": 199.91}, {\"symbol\": \"AAPL\", \"date\": \"2009-12-01T00:00:00\", \"price\": 210.73}, {\"symbol\": \"AAPL\", \"date\": \"2010-01-01T00:00:00\", \"price\": 192.06}, {\"symbol\": \"AAPL\", \"date\": \"2010-02-01T00:00:00\", \"price\": 204.62}, {\"symbol\": \"AAPL\", \"date\": \"2010-03-01T00:00:00\", \"price\": 223.02}]}}, {\"mode\": \"vega-lite\"});\n",
       "</script>"
      ],
      "text/plain": [
       "alt.LayerChart(...)"
      ]
     },
     "execution_count": 50,
     "metadata": {},
     "output_type": "execute_result"
    }
   ],
   "source": [
    "from vega_datasets import data\n",
    "\n",
    "stocks = data.stocks()\n",
    "google = stocks.query(\"symbol=='GOOG'\")\n",
    "others = stocks.query(\"symbol!='GOOG'\")\n",
    "\n",
    "chart = alt.LayerChart(stocks).transform_calculate(\n",
    "    company = 'datum.symbol == \"GOOG\" ? \"goog\" : \"competitors\"'\n",
    ")\n",
    "\n",
    "google = alt.Chart().transform_filter(\n",
    "    alt.datum.company == \"goog\"\n",
    ").mark_bar().encode(\n",
    "    x='year(date):N',\n",
    "    y='price:Q',\n",
    ").properties(title='Google stock prices')\n",
    "\n",
    "others = alt.Chart().transform_filter(\n",
    "    alt.datum.company == \"competitors\"\n",
    ").mark_line(color='red').encode(\n",
    "    x='year(date):N',\n",
    "    y='average(price):Q',\n",
    "    color=alt.Color('company:N',\n",
    "                    scale=alt.Scale(range=['red']))\n",
    ")\n",
    "chart + google + others\n",
    "# chart.show()"
   ]
  },
  {
   "cell_type": "code",
   "execution_count": 39,
   "metadata": {},
   "outputs": [
    {
     "data": {
      "application/vnd.plotly.v1+json": {
       "config": {
        "plotlyServerURL": "https://plot.ly"
       },
       "data": [
        {
         "hovertemplate": "variable=Net flow total (USD)<br>Date=%{x}<br>value=%{y}<extra></extra>",
         "legendgroup": "Net flow total (USD)",
         "line": {
          "color": "#000001",
          "dash": "solid"
         },
         "marker": {
          "symbol": "circle"
         },
         "mode": "lines",
         "name": "Net flow total (USD)",
         "orientation": "v",
         "showlegend": true,
         "type": "scatter",
         "x": [
          "2024-01-11T00:00:00",
          "2024-01-12T00:00:00",
          "2024-01-16T00:00:00",
          "2024-01-17T00:00:00",
          "2024-01-18T00:00:00",
          "2024-01-19T00:00:00",
          "2024-01-22T00:00:00",
          "2024-01-23T00:00:00",
          "2024-01-24T00:00:00",
          "2024-01-25T00:00:00",
          "2024-01-26T00:00:00",
          "2024-01-29T00:00:00",
          "2024-01-30T00:00:00",
          "2024-01-31T00:00:00",
          "2024-02-01T00:00:00",
          "2024-02-02T00:00:00",
          "2024-02-05T00:00:00",
          "2024-02-06T00:00:00",
          "2024-02-07T00:00:00",
          "2024-02-08T00:00:00",
          "2024-02-09T00:00:00",
          "2024-02-12T00:00:00",
          "2024-02-13T00:00:00",
          "2024-02-14T00:00:00",
          "2024-02-15T00:00:00",
          "2024-02-16T00:00:00",
          "2024-02-20T00:00:00",
          "2024-02-21T00:00:00",
          "2024-02-22T00:00:00",
          "2024-02-23T00:00:00",
          "2024-02-26T00:00:00",
          "2024-02-27T00:00:00",
          "2024-02-28T00:00:00",
          "2024-02-29T00:00:00",
          "2024-03-01T00:00:00",
          "2024-03-04T00:00:00",
          "2024-03-05T00:00:00",
          "2024-03-06T00:00:00",
          "2024-03-07T00:00:00",
          "2024-03-08T00:00:00",
          "2024-03-11T00:00:00",
          "2024-03-12T00:00:00",
          "2024-03-13T00:00:00",
          "2024-03-14T00:00:00",
          "2024-03-15T00:00:00",
          "2024-03-18T00:00:00",
          "2024-03-19T00:00:00",
          "2024-03-20T00:00:00",
          "2024-03-21T00:00:00",
          "2024-03-22T00:00:00",
          "2024-03-25T00:00:00",
          "2024-03-26T00:00:00",
          "2024-03-27T00:00:00",
          "2024-03-28T00:00:00",
          "2024-04-01T00:00:00",
          "2024-04-02T00:00:00",
          "2024-04-03T00:00:00",
          "2024-04-04T00:00:00",
          "2024-04-05T00:00:00",
          "2024-04-08T00:00:00",
          "2024-04-09T00:00:00",
          "2024-04-10T00:00:00",
          "2024-04-11T00:00:00",
          "2024-04-12T00:00:00",
          "2024-04-15T00:00:00",
          "2024-04-16T00:00:00",
          "2024-04-17T00:00:00",
          "2024-04-18T00:00:00",
          "2024-04-19T00:00:00",
          "2024-04-22T00:00:00",
          "2024-04-23T00:00:00",
          "2024-04-24T00:00:00",
          "2024-04-25T00:00:00",
          "2024-04-26T00:00:00",
          "2024-04-29T00:00:00",
          "2024-04-30T00:00:00",
          "2024-05-01T00:00:00",
          "2024-05-02T00:00:00",
          "2024-05-03T00:00:00",
          "2024-05-06T00:00:00",
          "2024-05-07T00:00:00",
          "2024-05-08T00:00:00",
          "2024-05-09T00:00:00",
          "2024-05-10T00:00:00",
          "2024-05-13T00:00:00",
          "2024-05-14T00:00:00",
          "2024-05-15T00:00:00",
          "2024-05-16T00:00:00",
          "2024-05-17T00:00:00",
          "2024-05-20T00:00:00",
          "2024-05-21T00:00:00",
          "2024-05-22T00:00:00",
          "2024-05-23T00:00:00",
          "2024-05-24T00:00:00",
          "2024-05-28T00:00:00",
          "2024-05-29T00:00:00",
          "2024-05-30T00:00:00",
          "2024-05-31T00:00:00",
          "2024-06-03T00:00:00",
          "2024-06-04T00:00:00",
          "2024-06-05T00:00:00",
          "2024-06-06T00:00:00",
          "2024-06-07T00:00:00",
          "2024-06-10T00:00:00",
          "2024-06-11T00:00:00",
          "2024-06-12T00:00:00",
          "2024-06-13T00:00:00",
          "2024-06-14T00:00:00",
          "2024-06-17T00:00:00",
          "2024-06-18T00:00:00",
          "2024-06-20T00:00:00",
          "2024-06-21T00:00:00",
          "2024-06-24T00:00:00",
          "2024-06-25T00:00:00",
          "2024-06-26T00:00:00",
          "2024-06-27T00:00:00",
          "2024-06-28T00:00:00",
          "2024-07-01T00:00:00",
          "2024-07-02T00:00:00",
          "2024-07-03T00:00:00",
          "2024-07-05T00:00:00",
          "2024-07-08T00:00:00",
          "2024-07-09T00:00:00",
          "2024-07-10T00:00:00",
          "2024-07-11T00:00:00",
          "2024-07-12T00:00:00",
          "2024-07-15T00:00:00",
          "2024-07-16T00:00:00",
          "2024-07-17T00:00:00",
          "2024-07-18T00:00:00",
          "2024-07-19T00:00:00",
          "2024-07-22T00:00:00",
          "2024-07-23T00:00:00",
          "2024-07-24T00:00:00",
          "2024-07-25T00:00:00",
          "2024-07-26T00:00:00",
          "2024-07-29T00:00:00"
         ],
         "xaxis": "x",
         "y": [
          655.3000000000001,
          203,
          -52.69999999999998,
          453.8,
          -126.59999999999995,
          43.60000000000003,
          -87.39999999999999,
          -106.09999999999994,
          -158.30000000000004,
          -79.80000000000004,
          14.799999999999992,
          255.6,
          247.10000000000002,
          197.70000000000005,
          38.50000000000001,
          80.00000000000003,
          68.10000000000001,
          33.60000000000001,
          145.99999999999997,
          405,
          541.5,
          493.40000000000003,
          631.3,
          339.7,
          477.4,
          331.79999999999995,
          135.3,
          -35.60000000000001,
          251.4,
          232.5,
          519.9,
          576.9000000000001,
          673.4000000000001,
          92.3,
          -139.6,
          562.6999999999999,
          648.3000000000001,
          332,
          472.49999999999994,
          222.90000000000006,
          505.4,
          1045,
          683.7,
          132.69999999999996,
          198.8,
          -154.3,
          -326.2,
          -261.5,
          -93.9,
          -51.6,
          15.699999999999985,
          418,
          243.5,
          182.79999999999998,
          -85.70000000000002,
          39.49999999999999,
          113.5,
          213.4,
          203,
          -223.79999999999995,
          -19.400000000000016,
          123.69999999999999,
          91.29999999999998,
          -55.099999999999994,
          -36.69999999999999,
          -58.00000000000001,
          -165,
          -4.300000000000003,
          59.699999999999996,
          62.2,
          31.599999999999987,
          -120.60000000000001,
          -217.6,
          -83.6,
          -51.60000000000001,
          -161.6,
          -563.7,
          -34.4,
          378.29999999999995,
          217,
          -15.7,
          11.5,
          -11.3,
          -84.7,
          66,
          100.5,
          303,
          257.3,
          221.50000000000003,
          237.2,
          305.70000000000005,
          154,
          107.9,
          251.9,
          44.99999999999999,
          28.3,
          48.79999999999998,
          48.8,
          105.1,
          886.6,
          488.1,
          217.7,
          131,
          -64.9,
          -200.4,
          100.8,
          -226.2,
          -189.89999999999998,
          -145.9,
          -152.39999999999998,
          -139.89999999999998,
          -105.89999999999999,
          -174.5,
          30.999999999999996,
          21.4,
          11.799999999999999,
          73,
          129.5,
          -13.699999999999996,
          -20.5,
          143.10000000000002,
          294.79999999999995,
          216.40000000000003,
          147.4,
          78.89999999999999,
          310.1,
          300.9,
          422.5,
          53.300000000000004,
          37.199999999999996,
          427.20000000000005,
          485.9000000000001,
          -77.99999999999999,
          44.49999999999999,
          31.1,
          51.8,
          124.10000000000001
         ],
         "yaxis": "y"
        },
        {
         "hovertemplate": "variable=20_MA<br>Date=%{x}<br>value=%{y}<extra></extra>",
         "legendgroup": "20_MA",
         "line": {
          "color": "#000002",
          "dash": "solid"
         },
         "marker": {
          "symbol": "circle"
         },
         "mode": "lines",
         "name": "20_MA",
         "orientation": "v",
         "showlegend": true,
         "type": "scatter",
         "x": [
          "2024-01-11T00:00:00",
          "2024-01-12T00:00:00",
          "2024-01-16T00:00:00",
          "2024-01-17T00:00:00",
          "2024-01-18T00:00:00",
          "2024-01-19T00:00:00",
          "2024-01-22T00:00:00",
          "2024-01-23T00:00:00",
          "2024-01-24T00:00:00",
          "2024-01-25T00:00:00",
          "2024-01-26T00:00:00",
          "2024-01-29T00:00:00",
          "2024-01-30T00:00:00",
          "2024-01-31T00:00:00",
          "2024-02-01T00:00:00",
          "2024-02-02T00:00:00",
          "2024-02-05T00:00:00",
          "2024-02-06T00:00:00",
          "2024-02-07T00:00:00",
          "2024-02-08T00:00:00",
          "2024-02-09T00:00:00",
          "2024-02-12T00:00:00",
          "2024-02-13T00:00:00",
          "2024-02-14T00:00:00",
          "2024-02-15T00:00:00",
          "2024-02-16T00:00:00",
          "2024-02-20T00:00:00",
          "2024-02-21T00:00:00",
          "2024-02-22T00:00:00",
          "2024-02-23T00:00:00",
          "2024-02-26T00:00:00",
          "2024-02-27T00:00:00",
          "2024-02-28T00:00:00",
          "2024-02-29T00:00:00",
          "2024-03-01T00:00:00",
          "2024-03-04T00:00:00",
          "2024-03-05T00:00:00",
          "2024-03-06T00:00:00",
          "2024-03-07T00:00:00",
          "2024-03-08T00:00:00",
          "2024-03-11T00:00:00",
          "2024-03-12T00:00:00",
          "2024-03-13T00:00:00",
          "2024-03-14T00:00:00",
          "2024-03-15T00:00:00",
          "2024-03-18T00:00:00",
          "2024-03-19T00:00:00",
          "2024-03-20T00:00:00",
          "2024-03-21T00:00:00",
          "2024-03-22T00:00:00",
          "2024-03-25T00:00:00",
          "2024-03-26T00:00:00",
          "2024-03-27T00:00:00",
          "2024-03-28T00:00:00",
          "2024-04-01T00:00:00",
          "2024-04-02T00:00:00",
          "2024-04-03T00:00:00",
          "2024-04-04T00:00:00",
          "2024-04-05T00:00:00",
          "2024-04-08T00:00:00",
          "2024-04-09T00:00:00",
          "2024-04-10T00:00:00",
          "2024-04-11T00:00:00",
          "2024-04-12T00:00:00",
          "2024-04-15T00:00:00",
          "2024-04-16T00:00:00",
          "2024-04-17T00:00:00",
          "2024-04-18T00:00:00",
          "2024-04-19T00:00:00",
          "2024-04-22T00:00:00",
          "2024-04-23T00:00:00",
          "2024-04-24T00:00:00",
          "2024-04-25T00:00:00",
          "2024-04-26T00:00:00",
          "2024-04-29T00:00:00",
          "2024-04-30T00:00:00",
          "2024-05-01T00:00:00",
          "2024-05-02T00:00:00",
          "2024-05-03T00:00:00",
          "2024-05-06T00:00:00",
          "2024-05-07T00:00:00",
          "2024-05-08T00:00:00",
          "2024-05-09T00:00:00",
          "2024-05-10T00:00:00",
          "2024-05-13T00:00:00",
          "2024-05-14T00:00:00",
          "2024-05-15T00:00:00",
          "2024-05-16T00:00:00",
          "2024-05-17T00:00:00",
          "2024-05-20T00:00:00",
          "2024-05-21T00:00:00",
          "2024-05-22T00:00:00",
          "2024-05-23T00:00:00",
          "2024-05-24T00:00:00",
          "2024-05-28T00:00:00",
          "2024-05-29T00:00:00",
          "2024-05-30T00:00:00",
          "2024-05-31T00:00:00",
          "2024-06-03T00:00:00",
          "2024-06-04T00:00:00",
          "2024-06-05T00:00:00",
          "2024-06-06T00:00:00",
          "2024-06-07T00:00:00",
          "2024-06-10T00:00:00",
          "2024-06-11T00:00:00",
          "2024-06-12T00:00:00",
          "2024-06-13T00:00:00",
          "2024-06-14T00:00:00",
          "2024-06-17T00:00:00",
          "2024-06-18T00:00:00",
          "2024-06-20T00:00:00",
          "2024-06-21T00:00:00",
          "2024-06-24T00:00:00",
          "2024-06-25T00:00:00",
          "2024-06-26T00:00:00",
          "2024-06-27T00:00:00",
          "2024-06-28T00:00:00",
          "2024-07-01T00:00:00",
          "2024-07-02T00:00:00",
          "2024-07-03T00:00:00",
          "2024-07-05T00:00:00",
          "2024-07-08T00:00:00",
          "2024-07-09T00:00:00",
          "2024-07-10T00:00:00",
          "2024-07-11T00:00:00",
          "2024-07-12T00:00:00",
          "2024-07-15T00:00:00",
          "2024-07-16T00:00:00",
          "2024-07-17T00:00:00",
          "2024-07-18T00:00:00",
          "2024-07-19T00:00:00",
          "2024-07-22T00:00:00",
          "2024-07-23T00:00:00",
          "2024-07-24T00:00:00",
          "2024-07-25T00:00:00",
          "2024-07-26T00:00:00",
          "2024-07-29T00:00:00"
         ],
         "xaxis": "x",
         "y": [
          null,
          null,
          null,
          null,
          null,
          null,
          null,
          null,
          null,
          null,
          null,
          null,
          null,
          null,
          null,
          null,
          null,
          null,
          null,
          111.56000000000002,
          105.87,
          120.39000000000001,
          154.59,
          148.88500000000002,
          179.085,
          193.495,
          204.63000000000002,
          208.15499999999997,
          228.64000000000001,
          244.25500000000002,
          269.51,
          285.575,
          306.89,
          301.62,
          292.71500000000003,
          316.85,
          345.86,
          360.78000000000003,
          377.105,
          368.00000000000006,
          366.195,
          393.775,
          396.395,
          386.04499999999996,
          372.115,
          347.81,
          324.735,
          313.44,
          296.175,
          281.96999999999997,
          256.76,
          248.81499999999997,
          227.32,
          231.84499999999997,
          234.54000000000002,
          208.38000000000002,
          181.64000000000001,
          175.71,
          162.235,
          139.9,
          113.66,
          67.595,
          37.975,
          28.585,
          16.81,
          21.625,
          29.685000000000002,
          42.545,
          50.225,
          55.915000000000006,
          56.71,
          29.78,
          6.725,
          -6.594999999999999,
          -4.889999999999999,
          -14.944999999999999,
          -48.805,
          -61.19500000000001,
          -52.42999999999999,
          -30.390000000000004,
          -30.205000000000005,
          -35.815000000000005,
          -40.94500000000001,
          -42.425000000000004,
          -37.290000000000006,
          -29.365000000000002,
          -5.965000000000001,
          7.1149999999999975,
          15.205000000000002,
          23.955000000000002,
          37.660000000000004,
          51.39000000000001,
          67.66499999999999,
          84.44000000000001,
          89.27000000000001,
          98.765,
          129.39000000000001,
          133.55,
          119.88999999999999,
          153.37000000000003,
          178.56,
          188.87,
          195.98499999999999,
          196.975,
          183.65500000000003,
          183.67000000000002,
          157.21,
          134.85,
          116.47999999999999,
          97.00000000000001,
          74.72,
          61.72500000000001,
          47.605000000000004,
          36.559999999999995,
          35.38000000000001,
          34.555,
          35.765,
          39.8,
          33.86,
          -11.494999999999996,
          -28.744999999999997,
          -24.889999999999997,
          -20.619999999999997,
          -10.004999999999994,
          3.9600000000000044,
          14.425000000000006,
          40.78,
          71.4,
          81.36,
          90.84,
          119.19500000000001,
          148.78500000000003,
          153.61,
          154.28500000000003,
          154.77,
          156.77,
          159.325
         ],
         "yaxis": "y"
        }
       ],
       "layout": {
        "legend": {
         "title": {
          "text": "Column"
         },
         "tracegroupgap": 0
        },
        "template": {
         "data": {
          "candlestick": [
           {
            "decreasing": {
             "line": {
              "color": "#000033"
             }
            },
            "increasing": {
             "line": {
              "color": "#000032"
             }
            },
            "type": "candlestick"
           }
          ],
          "contour": [
           {
            "colorscale": [
             [
              0,
              "#000011"
             ],
             [
              0.1111111111111111,
              "#000012"
             ],
             [
              0.2222222222222222,
              "#000013"
             ],
             [
              0.3333333333333333,
              "#000014"
             ],
             [
              0.4444444444444444,
              "#000015"
             ],
             [
              0.5555555555555556,
              "#000016"
             ],
             [
              0.6666666666666666,
              "#000017"
             ],
             [
              0.7777777777777778,
              "#000018"
             ],
             [
              0.8888888888888888,
              "#000019"
             ],
             [
              1,
              "#000020"
             ]
            ],
            "type": "contour"
           }
          ],
          "contourcarpet": [
           {
            "colorscale": [
             [
              0,
              "#000011"
             ],
             [
              0.1111111111111111,
              "#000012"
             ],
             [
              0.2222222222222222,
              "#000013"
             ],
             [
              0.3333333333333333,
              "#000014"
             ],
             [
              0.4444444444444444,
              "#000015"
             ],
             [
              0.5555555555555556,
              "#000016"
             ],
             [
              0.6666666666666666,
              "#000017"
             ],
             [
              0.7777777777777778,
              "#000018"
             ],
             [
              0.8888888888888888,
              "#000019"
             ],
             [
              1,
              "#000020"
             ]
            ],
            "type": "contourcarpet"
           }
          ],
          "heatmap": [
           {
            "colorscale": [
             [
              0,
              "#000011"
             ],
             [
              0.1111111111111111,
              "#000012"
             ],
             [
              0.2222222222222222,
              "#000013"
             ],
             [
              0.3333333333333333,
              "#000014"
             ],
             [
              0.4444444444444444,
              "#000015"
             ],
             [
              0.5555555555555556,
              "#000016"
             ],
             [
              0.6666666666666666,
              "#000017"
             ],
             [
              0.7777777777777778,
              "#000018"
             ],
             [
              0.8888888888888888,
              "#000019"
             ],
             [
              1,
              "#000020"
             ]
            ],
            "type": "heatmap"
           }
          ],
          "histogram2d": [
           {
            "colorscale": [
             [
              0,
              "#000011"
             ],
             [
              0.1111111111111111,
              "#000012"
             ],
             [
              0.2222222222222222,
              "#000013"
             ],
             [
              0.3333333333333333,
              "#000014"
             ],
             [
              0.4444444444444444,
              "#000015"
             ],
             [
              0.5555555555555556,
              "#000016"
             ],
             [
              0.6666666666666666,
              "#000017"
             ],
             [
              0.7777777777777778,
              "#000018"
             ],
             [
              0.8888888888888888,
              "#000019"
             ],
             [
              1,
              "#000020"
             ]
            ],
            "type": "histogram2d"
           }
          ],
          "icicle": [
           {
            "textfont": {
             "color": "white"
            },
            "type": "icicle"
           }
          ],
          "sankey": [
           {
            "textfont": {
             "color": "#000036"
            },
            "type": "sankey"
           }
          ],
          "scatter": [
           {
            "marker": {
             "line": {
              "width": 0
             }
            },
            "type": "scatter"
           }
          ],
          "table": [
           {
            "cells": {
             "fill": {
              "color": "#000038"
             },
             "font": {
              "color": "#000037"
             },
             "line": {
              "color": "#000039"
             }
            },
            "header": {
             "fill": {
              "color": "#000040"
             },
             "font": {
              "color": "#000036"
             },
             "line": {
              "color": "#000039"
             }
            },
            "type": "table"
           }
          ],
          "waterfall": [
           {
            "connector": {
             "line": {
              "color": "#000036",
              "width": 2
             }
            },
            "decreasing": {
             "marker": {
              "color": "#000033"
             }
            },
            "increasing": {
             "marker": {
              "color": "#000032"
             }
            },
            "totals": {
             "marker": {
              "color": "#000034"
             }
            },
            "type": "waterfall"
           }
          ]
         },
         "layout": {
          "coloraxis": {
           "colorscale": [
            [
             0,
             "#000011"
            ],
            [
             0.1111111111111111,
             "#000012"
            ],
            [
             0.2222222222222222,
             "#000013"
            ],
            [
             0.3333333333333333,
             "#000014"
            ],
            [
             0.4444444444444444,
             "#000015"
            ],
            [
             0.5555555555555556,
             "#000016"
            ],
            [
             0.6666666666666666,
             "#000017"
            ],
            [
             0.7777777777777778,
             "#000018"
            ],
            [
             0.8888888888888888,
             "#000019"
            ],
            [
             1,
             "#000020"
            ]
           ]
          },
          "colorscale": {
           "diverging": [
            [
             0,
             "#000021"
            ],
            [
             0.1,
             "#000022"
            ],
            [
             0.2,
             "#000023"
            ],
            [
             0.3,
             "#000024"
            ],
            [
             0.4,
             "#000025"
            ],
            [
             0.5,
             "#000026"
            ],
            [
             0.6,
             "#000027"
            ],
            [
             0.7,
             "#000028"
            ],
            [
             0.8,
             "#000029"
            ],
            [
             0.9,
             "#000030"
            ],
            [
             1,
             "#000031"
            ]
           ],
           "sequential": [
            [
             0,
             "#000011"
            ],
            [
             0.1111111111111111,
             "#000012"
            ],
            [
             0.2222222222222222,
             "#000013"
            ],
            [
             0.3333333333333333,
             "#000014"
            ],
            [
             0.4444444444444444,
             "#000015"
            ],
            [
             0.5555555555555556,
             "#000016"
            ],
            [
             0.6666666666666666,
             "#000017"
            ],
            [
             0.7777777777777778,
             "#000018"
            ],
            [
             0.8888888888888888,
             "#000019"
            ],
            [
             1,
             "#000020"
            ]
           ],
           "sequentialminus": [
            [
             0,
             "#000011"
            ],
            [
             0.1111111111111111,
             "#000012"
            ],
            [
             0.2222222222222222,
             "#000013"
            ],
            [
             0.3333333333333333,
             "#000014"
            ],
            [
             0.4444444444444444,
             "#000015"
            ],
            [
             0.5555555555555556,
             "#000016"
            ],
            [
             0.6666666666666666,
             "#000017"
            ],
            [
             0.7777777777777778,
             "#000018"
            ],
            [
             0.8888888888888888,
             "#000019"
            ],
            [
             1,
             "#000020"
            ]
           ]
          },
          "colorway": [
           "#000001",
           "#000002",
           "#000003",
           "#000004",
           "#000005",
           "#000006",
           "#000007",
           "#000008",
           "#000009",
           "#000010"
          ]
         }
        },
        "title": {
         "text": "Net Flow and Moving Average"
        },
        "xaxis": {
         "anchor": "y",
         "domain": [
          0,
          1
         ],
         "rangeselector": {
          "buttons": [
           {
            "count": 1,
            "label": "1m",
            "step": "month",
            "stepmode": "backward"
           },
           {
            "count": 6,
            "label": "6m",
            "step": "month",
            "stepmode": "backward"
           },
           {
            "count": 1,
            "label": "YTD",
            "step": "year",
            "stepmode": "todate"
           },
           {
            "count": 1,
            "label": "1y",
            "step": "year",
            "stepmode": "backward"
           },
           {
            "step": "all"
           }
          ]
         },
         "rangeslider": {
          "visible": true
         },
         "title": {
          "text": "Date"
         },
         "type": "date"
        },
        "yaxis": {
         "anchor": "x",
         "domain": [
          0,
          1
         ],
         "title": {
          "text": "USD (millions)"
         }
        }
       }
      }
     },
     "metadata": {},
     "output_type": "display_data"
    }
   ],
   "source": [
    "import plotly.express as px\n",
    "\n",
    "# Melt the dataframe\n",
    "melted_df = net_flow.melt(id_vars='Date', value_vars=['Net flow total (USD)', '20_MA'])\n",
    "\n",
    "# Create the chart\n",
    "chart = px.line(melted_df, x='Date', y='value', color='variable', title='Net Flow and Moving Average')\n",
    "\n",
    "# Update layout\n",
    "chart.update_layout(\n",
    "    yaxis_title='USD (millions)',\n",
    "    legend_title='Column'\n",
    ")\n",
    "\n",
    "# Add range slider\n",
    "chart.update_layout(\n",
    "    xaxis=dict(\n",
    "        rangeselector=dict(\n",
    "            buttons=list([\n",
    "                dict(count=1, label=\"1m\", step=\"month\", stepmode=\"backward\"),\n",
    "                dict(count=6, label=\"6m\", step=\"month\", stepmode=\"backward\"),\n",
    "                dict(count=1, label=\"YTD\", step=\"year\", stepmode=\"todate\"),\n",
    "                dict(count=1, label=\"1y\", step=\"year\", stepmode=\"backward\"),\n",
    "                dict(step=\"all\")\n",
    "            ])\n",
    "        ),\n",
    "        rangeslider=dict(visible=True),\n",
    "        type=\"date\"\n",
    "    )\n",
    ")\n",
    "\n",
    "# # Add bar chart for 'Net flow total (USD)'\n",
    "# chart.add_bar(melted_df[melted_df['variable'] == 'Net flow total (USD)'], x='Date', y='value')\n",
    "\n",
    "chart.show()"
   ]
  }
 ],
 "metadata": {
  "kernelspec": {
   "display_name": "Financial",
   "language": "python",
   "name": "python3"
  },
  "language_info": {
   "codemirror_mode": {
    "name": "ipython",
    "version": 3
   },
   "file_extension": ".py",
   "mimetype": "text/x-python",
   "name": "python",
   "nbconvert_exporter": "python",
   "pygments_lexer": "ipython3",
   "version": "3.11.9"
  }
 },
 "nbformat": 4,
 "nbformat_minor": 2
}
