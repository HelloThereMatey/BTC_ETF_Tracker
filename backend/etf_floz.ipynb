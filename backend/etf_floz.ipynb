{
 "cells": [
  {
   "cell_type": "code",
   "execution_count": 1,
   "metadata": {},
   "outputs": [],
   "source": [
    "import os\n",
    "fdel = os.path.sep\n",
    "import sys\n",
    "wd = %pwd\n",
    "sys.path.append(wd)\n",
    "import altair as alt\n",
    "import pandas as pd\n",
    "\n",
    "# data = etf.btc_etf_data(metric = \"btc_etf_aum\", export_response = True)\n",
    "# data.df\n",
    "#data_2 = etf.btc_etf_data(metric = \"btc_etf_aum_hist\", export_response = True)\n",
    "# data = etf.json_file_io(filename= wd + fdel + \"backend\"+fdel+\"btc_etf_aum_hist_theblock.json\")\n",
    "# data[\"chart\"][\"jsonFile\"][\"Series\"]"
   ]
  },
  {
   "cell_type": "code",
   "execution_count": 8,
   "metadata": {},
   "outputs": [
    {
     "name": "stdout",
     "output_type": "stream",
     "text": [
      "['Date', 'IBIT', 'FBTC', 'BITB', 'ARKB', 'BTCO', 'EZBC', 'BRRR', 'HODL', 'BTCW', 'GBTC', 'Total', '11 Jan to 02 Feb', '3,058.0', '2,481.0', '663.0', '684.0', '293.0', '64.0', '113.0', '59.0', '10.0', '-5,968.0', '1,457.0', '05 Feb', '137.3', '38.0', '0.0', '0.0', '0.0', '0.0', '0.0', '0.0', '0.7', '-107.9', '68.1', '06 Feb', '45.2', '37.7', '11.3', '8.6', '0.0', '0.0', '0.0', '2.4', '0.9', '-72.7', '33.4', '07 Feb', '56.2', '130.1', '21.4', '3.3', '8.6', '5.1', '1.2', '0.0', '0.9', '-80.8', '146.0', '08 Feb', '204.1', '128.3', '60.5', '86.4', '13.4', '0.0', '1.9', '10.3', '1.7', '-101.6', '405.0', '09 Feb', '250.7', '188.4', '29.1', '136.5', '-17.4', '1.4', '1.4', '2.7', '0.5', '-51.8', '541.5', '12 Feb', '374.7', '151.9', '33.0', '40.0', '-20.8', '0.0', '1.1', '8.5', '0.0', '-95.0', '493.4', '13 Feb', '493.1', '163.6', '10.8', '35.0', '0.0', '0.0', '0.0', '0.0', '1.6', '-72.8', '631.3', '14 Feb', '224.3', '118.9', '47.2', '101.5', '-37.5', '9.0', '1.0', '2.9', '3.6', '-131.2', '339.7', '15 Feb', '330.9', '97.4', '120.2', '88.9', '1.3', '3.0', '7.4', '2.9', '0.0', '-174.6', '477.4', '16 Feb', '191.4', '116.7', '20.9', '140.0', '1.0', '1.5', '0.0', '0.0', '2.8', '-150.4', '323.9', '20 Feb', '154.3', '71.7', '11.1', '27.4', '0.0', '0.0', '0.0', '5.9', '2.2', '-137.0', '135.6', '21 Feb', '96.5', '52.5', '0.0', '10.7', '1.0', '3.0', '0.0', '0.0', '0.0', '-199.3', '-35.6', '22 Feb', '125.1', '158.9', '7.9', '6.7', '0.0', '0.0', '1.2', '2.9', '4.4', '-55.7', '251.4', 'Total', '5,741.8', '3,935.1', '1,036.4', '1,369.0', '242.6', '87.0', '128.2', '97.5', '29.3', '-7,398.8', '5,268.1', 'Average']\n"
     ]
    }
   ],
   "source": [
    "from bs4 import BeautifulSoup\n",
    "import requests\n",
    "\n",
    "def get_html_save(url: str, save_path: str = wd+fdel+'last_request.html', save: bool = True):\n",
    "    r = requests.get(url)\n",
    "    if save:\n",
    "        with open(save_path, 'w') as wp:\n",
    "            wp.write(r.text)\n",
    "    return r.text  \n",
    "\n",
    "#html = get_html_save(\"https://farside.co.uk/?p=997\", save=True)\n",
    "with open(wd+fdel+'last_request.html', 'r') as wp:\n",
    "    html = wp.read()\n",
    "soup = BeautifulSoup(html, features=\"html.parser\"); dumpstr = \"\"\n",
    "\n",
    "tag = soup.table \n",
    "for span in tag.find_all('span'):\n",
    "    dumpstr+=span.get_text().strip()+\"\\n\"\n",
    "liststr = dumpstr.split(\"\\n\")  \n",
    "dropafter = liststr.index(\"Average\")\n",
    "liststr = liststr[:dropafter]\n",
    "index = []; vals = []; colnames = []; notmatched = []; totalcount = 0\n",
    "print(liststr)"
   ]
  },
  {
   "cell_type": "code",
   "execution_count": 10,
   "metadata": {},
   "outputs": [
    {
     "data": {
      "text/html": [
       "\n",
       "<style>\n",
       "  #altair-viz-f951119309a449b894f02ca2a60f7eba.vega-embed {\n",
       "    width: 100%;\n",
       "    display: flex;\n",
       "  }\n",
       "\n",
       "  #altair-viz-f951119309a449b894f02ca2a60f7eba.vega-embed details,\n",
       "  #altair-viz-f951119309a449b894f02ca2a60f7eba.vega-embed details summary {\n",
       "    position: relative;\n",
       "  }\n",
       "</style>\n",
       "<div id=\"altair-viz-f951119309a449b894f02ca2a60f7eba\"></div>\n",
       "<script type=\"text/javascript\">\n",
       "  var VEGA_DEBUG = (typeof VEGA_DEBUG == \"undefined\") ? {} : VEGA_DEBUG;\n",
       "  (function(spec, embedOpt){\n",
       "    let outputDiv = document.currentScript.previousElementSibling;\n",
       "    if (outputDiv.id !== \"altair-viz-f951119309a449b894f02ca2a60f7eba\") {\n",
       "      outputDiv = document.getElementById(\"altair-viz-f951119309a449b894f02ca2a60f7eba\");\n",
       "    }\n",
       "    const paths = {\n",
       "      \"vega\": \"https://cdn.jsdelivr.net/npm/vega@5?noext\",\n",
       "      \"vega-lib\": \"https://cdn.jsdelivr.net/npm/vega-lib?noext\",\n",
       "      \"vega-lite\": \"https://cdn.jsdelivr.net/npm/vega-lite@5.16.3?noext\",\n",
       "      \"vega-embed\": \"https://cdn.jsdelivr.net/npm/vega-embed@6?noext\",\n",
       "    };\n",
       "\n",
       "    function maybeLoadScript(lib, version) {\n",
       "      var key = `${lib.replace(\"-\", \"\")}_version`;\n",
       "      return (VEGA_DEBUG[key] == version) ?\n",
       "        Promise.resolve(paths[lib]) :\n",
       "        new Promise(function(resolve, reject) {\n",
       "          var s = document.createElement('script');\n",
       "          document.getElementsByTagName(\"head\")[0].appendChild(s);\n",
       "          s.async = true;\n",
       "          s.onload = () => {\n",
       "            VEGA_DEBUG[key] = version;\n",
       "            return resolve(paths[lib]);\n",
       "          };\n",
       "          s.onerror = () => reject(`Error loading script: ${paths[lib]}`);\n",
       "          s.src = paths[lib];\n",
       "        });\n",
       "    }\n",
       "\n",
       "    function showError(err) {\n",
       "      outputDiv.innerHTML = `<div class=\"error\" style=\"color:red;\">${err}</div>`;\n",
       "      throw err;\n",
       "    }\n",
       "\n",
       "    function displayChart(vegaEmbed) {\n",
       "      vegaEmbed(outputDiv, spec, embedOpt)\n",
       "        .catch(err => showError(`Javascript Error: ${err.message}<br>This usually means there's a typo in your chart specification. See the javascript console for the full traceback.`));\n",
       "    }\n",
       "\n",
       "    if(typeof define === \"function\" && define.amd) {\n",
       "      requirejs.config({paths});\n",
       "      require([\"vega-embed\"], displayChart, err => showError(`Error loading script: ${err.message}`));\n",
       "    } else {\n",
       "      maybeLoadScript(\"vega\", \"5\")\n",
       "        .then(() => maybeLoadScript(\"vega-lite\", \"5.16.3\"))\n",
       "        .then(() => maybeLoadScript(\"vega-embed\", \"6\"))\n",
       "        .catch(showError)\n",
       "        .then(() => displayChart(vegaEmbed));\n",
       "    }\n",
       "  })({\"config\": {\"view\": {\"continuousWidth\": 300, \"continuousHeight\": 300}}, \"data\": {\"name\": \"data-a8ec5a12e98486291392ace8c584cbd7\"}, \"mark\": {\"type\": \"bar\"}, \"encoding\": {\"color\": {\"field\": \"Category\", \"type\": \"nominal\"}, \"x\": {\"axis\": {\"title\": \"Date\"}, \"field\": \"Timestamp\", \"type\": \"temporal\"}, \"y\": {\"field\": \"Values\", \"type\": \"quantitative\"}}, \"params\": [{\"name\": \"param_4\", \"select\": {\"type\": \"interval\", \"encodings\": [\"x\", \"y\"]}, \"bind\": \"scales\"}], \"$schema\": \"https://vega.github.io/schema/vega-lite/v5.16.3.json\", \"datasets\": {\"data-a8ec5a12e98486291392ace8c584cbd7\": [{\"Timestamp\": \"2024-01-11T00:00:00\", \"Category\": \"IBIT\", \"Values\": 122000000}, {\"Timestamp\": \"2024-01-12T00:00:00\", \"Category\": \"IBIT\", \"Values\": 500700000}, {\"Timestamp\": \"2024-01-16T00:00:00\", \"Category\": \"IBIT\", \"Values\": 707000000}, {\"Timestamp\": \"2024-01-17T00:00:00\", \"Category\": \"IBIT\", \"Values\": 1069600000}, {\"Timestamp\": \"2024-01-18T00:00:00\", \"Category\": \"IBIT\", \"Values\": 1171700000}, {\"Timestamp\": \"2024-01-19T00:00:00\", \"Category\": \"IBIT\", \"Values\": 1400800000}, {\"Timestamp\": \"2024-01-22T00:00:00\", \"Category\": \"IBIT\", \"Values\": 1601700000}, {\"Timestamp\": \"2024-01-23T00:00:00\", \"Category\": \"IBIT\", \"Values\": 1726700000}, {\"Timestamp\": \"2024-01-24T00:00:00\", \"Category\": \"IBIT\", \"Values\": 1816400000}, {\"Timestamp\": \"2024-01-25T00:00:00\", \"Category\": \"IBIT\", \"Values\": 1989800000}, {\"Timestamp\": \"2024-01-26T00:00:00\", \"Category\": \"IBIT\", \"Values\": 2185900000}, {\"Timestamp\": \"2024-01-29T00:00:00\", \"Category\": \"IBIT\", \"Values\": 2440400000}, {\"Timestamp\": \"2024-01-30T00:00:00\", \"Category\": \"IBIT\", \"Values\": 2769200000}, {\"Timestamp\": \"2024-01-31T00:00:00\", \"Category\": \"IBIT\", \"Values\": 2836700000}, {\"Timestamp\": \"2024-02-01T00:00:00\", \"Category\": \"IBIT\", \"Values\": 3014300000}, {\"Timestamp\": \"2024-02-02T00:00:00\", \"Category\": \"IBIT\", \"Values\": 3116100000}, {\"Timestamp\": \"2024-02-05T00:00:00\", \"Category\": \"IBIT\", \"Values\": 3212900000}, {\"Timestamp\": \"2024-02-06T00:00:00\", \"Category\": \"IBIT\", \"Values\": 3312000000}, {\"Timestamp\": \"2024-02-07T00:00:00\", \"Category\": \"IBIT\", \"Values\": 3435700000}, {\"Timestamp\": \"2024-02-08T00:00:00\", \"Category\": \"IBIT\", \"Values\": 3751700000}, {\"Timestamp\": \"2024-02-09T00:00:00\", \"Category\": \"IBIT\", \"Values\": 3930138000}, {\"Timestamp\": \"2024-02-12T00:00:00\", \"Category\": \"IBIT\", \"Values\": 4387484000}, {\"Timestamp\": \"2024-02-13T00:00:00\", \"Category\": \"IBIT\", \"Values\": 4696402000}, {\"Timestamp\": \"2024-02-14T00:00:00\", \"Category\": \"IBIT\", \"Values\": 5453917000}, {\"Timestamp\": \"2024-02-15T00:00:00\", \"Category\": \"IBIT\", \"Values\": 5683829000}, {\"Timestamp\": \"2024-02-16T00:00:00\", \"Category\": \"IBIT\", \"Values\": 6012870000}, {\"Timestamp\": \"2024-01-11T00:00:00\", \"Category\": \"BITB\", \"Values\": 240000000}, {\"Timestamp\": \"2024-01-12T00:00:00\", \"Category\": \"BITB\", \"Values\": 225500000}, {\"Timestamp\": \"2024-01-16T00:00:00\", \"Category\": \"BITB\", \"Values\": 239800000}, {\"Timestamp\": \"2024-01-17T00:00:00\", \"Category\": \"BITB\", \"Values\": 354500000}, {\"Timestamp\": \"2024-01-18T00:00:00\", \"Category\": \"BITB\", \"Values\": 360200000}, {\"Timestamp\": \"2024-01-19T00:00:00\", \"Category\": \"BITB\", \"Values\": 425400000}, {\"Timestamp\": \"2024-01-22T00:00:00\", \"Category\": \"BITB\", \"Values\": 448800000}, {\"Timestamp\": \"2024-01-23T00:00:00\", \"Category\": \"BITB\", \"Values\": 465300000}, {\"Timestamp\": \"2024-01-24T00:00:00\", \"Category\": \"BITB\", \"Values\": 490700000}, {\"Timestamp\": \"2024-01-25T00:00:00\", \"Category\": \"BITB\", \"Values\": 511500000}, {\"Timestamp\": \"2024-01-26T00:00:00\", \"Category\": \"BITB\", \"Values\": 570400000}, {\"Timestamp\": \"2024-01-29T00:00:00\", \"Category\": \"BITB\", \"Values\": 605000000}, {\"Timestamp\": \"2024-01-30T00:00:00\", \"Category\": \"BITB\", \"Values\": 634200000}, {\"Timestamp\": \"2024-01-31T00:00:00\", \"Category\": \"BITB\", \"Values\": 640800000}, {\"Timestamp\": \"2024-02-01T00:00:00\", \"Category\": \"BITB\", \"Values\": 648200000}, {\"Timestamp\": \"2024-02-02T00:00:00\", \"Category\": \"BITB\", \"Values\": 658800000}, {\"Timestamp\": \"2024-02-05T00:00:00\", \"Category\": \"BITB\", \"Values\": 650200000}, {\"Timestamp\": \"2024-02-06T00:00:00\", \"Category\": \"BITB\", \"Values\": 672400000}, {\"Timestamp\": \"2024-02-07T00:00:00\", \"Category\": \"BITB\", \"Values\": 707500000}, {\"Timestamp\": \"2024-02-08T00:00:00\", \"Category\": \"BITB\", \"Values\": 791000000}, {\"Timestamp\": \"2024-02-09T00:00:00\", \"Category\": \"BITB\", \"Values\": 857746000}, {\"Timestamp\": \"2024-02-12T00:00:00\", \"Category\": \"BITB\", \"Values\": 933119000}, {\"Timestamp\": \"2024-02-13T00:00:00\", \"Category\": \"BITB\", \"Values\": 930978000}, {\"Timestamp\": \"2024-02-14T00:00:00\", \"Category\": \"BITB\", \"Values\": 1025580000}, {\"Timestamp\": \"2024-02-15T00:00:00\", \"Category\": \"BITB\", \"Values\": 1167326636}, {\"Timestamp\": \"2024-02-16T00:00:00\", \"Category\": \"BITB\", \"Values\": 1167328000}, {\"Timestamp\": \"2024-01-11T00:00:00\", \"Category\": \"ARKB\", \"Values\": 76000000}, {\"Timestamp\": \"2024-01-12T00:00:00\", \"Category\": \"ARKB\", \"Values\": 111000000}, {\"Timestamp\": \"2024-01-16T00:00:00\", \"Category\": \"ARKB\", \"Values\": 231800000}, {\"Timestamp\": \"2024-01-17T00:00:00\", \"Category\": \"ARKB\", \"Values\": 279300000}, {\"Timestamp\": \"2024-01-18T00:00:00\", \"Category\": \"ARKB\", \"Values\": 309700000}, {\"Timestamp\": \"2024-01-19T00:00:00\", \"Category\": \"ARKB\", \"Values\": 379600000}, {\"Timestamp\": \"2024-01-22T00:00:00\", \"Category\": \"ARKB\", \"Values\": 428400000}, {\"Timestamp\": \"2024-01-23T00:00:00\", \"Category\": \"ARKB\", \"Values\": 480900000}, {\"Timestamp\": \"2024-01-24T00:00:00\", \"Category\": \"ARKB\", \"Values\": 512300000}, {\"Timestamp\": \"2024-01-25T00:00:00\", \"Category\": \"ARKB\", \"Values\": 529200000}, {\"Timestamp\": \"2024-01-26T00:00:00\", \"Category\": \"ARKB\", \"Values\": 604600000}, {\"Timestamp\": \"2024-01-29T00:00:00\", \"Category\": \"ARKB\", \"Values\": 637400000}, {\"Timestamp\": \"2024-01-30T00:00:00\", \"Category\": \"ARKB\", \"Values\": 661900000}, {\"Timestamp\": \"2024-01-31T00:00:00\", \"Category\": \"ARKB\", \"Values\": 665000000}, {\"Timestamp\": \"2024-02-01T00:00:00\", \"Category\": \"ARKB\", \"Values\": 684200000}, {\"Timestamp\": \"2024-02-02T00:00:00\", \"Category\": \"ARKB\", \"Values\": 705800000}, {\"Timestamp\": \"2024-02-05T00:00:00\", \"Category\": \"ARKB\", \"Values\": 696700000}, {\"Timestamp\": \"2024-02-06T00:00:00\", \"Category\": \"ARKB\", \"Values\": 717000000}, {\"Timestamp\": \"2024-02-07T00:00:00\", \"Category\": \"ARKB\", \"Values\": 734900000}, {\"Timestamp\": \"2024-02-08T00:00:00\", \"Category\": \"ARKB\", \"Values\": 845200000}, {\"Timestamp\": \"2024-02-09T00:00:00\", \"Category\": \"ARKB\", \"Values\": 1021887000}, {\"Timestamp\": \"2024-02-12T00:00:00\", \"Category\": \"ARKB\", \"Values\": 1112381000}, {\"Timestamp\": \"2024-02-13T00:00:00\", \"Category\": \"ARKB\", \"Values\": 1132000000}, {\"Timestamp\": \"2024-02-14T00:00:00\", \"Category\": \"ARKB\", \"Values\": 1291207000}, {\"Timestamp\": \"2024-02-15T00:00:00\", \"Category\": \"ARKB\", \"Values\": 1381379425}, {\"Timestamp\": \"2024-02-16T00:00:00\", \"Category\": \"ARKB\", \"Values\": 1520927000}, {\"Timestamp\": \"2024-01-11T00:00:00\", \"Category\": \"EZBC\", \"Values\": 53000000}, {\"Timestamp\": \"2024-01-12T00:00:00\", \"Category\": \"EZBC\", \"Values\": 49500000}, {\"Timestamp\": \"2024-01-16T00:00:00\", \"Category\": \"EZBC\", \"Values\": 48900000}, {\"Timestamp\": \"2024-01-17T00:00:00\", \"Category\": \"EZBC\", \"Values\": 49500000}, {\"Timestamp\": \"2024-01-18T00:00:00\", \"Category\": \"EZBC\", \"Values\": 47500000}, {\"Timestamp\": \"2024-01-19T00:00:00\", \"Category\": \"EZBC\", \"Values\": 48600000}, {\"Timestamp\": \"2024-01-22T00:00:00\", \"Category\": \"EZBC\", \"Values\": 51200000}, {\"Timestamp\": \"2024-01-23T00:00:00\", \"Category\": \"EZBC\", \"Values\": 51200000}, {\"Timestamp\": \"2024-01-24T00:00:00\", \"Category\": \"EZBC\", \"Values\": 53100000}, {\"Timestamp\": \"2024-01-25T00:00:00\", \"Category\": \"EZBC\", \"Values\": 53100000}, {\"Timestamp\": \"2024-01-26T00:00:00\", \"Category\": \"EZBC\", \"Values\": 57300000}, {\"Timestamp\": \"2024-01-29T00:00:00\", \"Category\": \"EZBC\", \"Values\": 58700000}, {\"Timestamp\": \"2024-01-30T00:00:00\", \"Category\": \"EZBC\", \"Values\": 62000000}, {\"Timestamp\": \"2024-01-31T00:00:00\", \"Category\": \"EZBC\", \"Values\": 60900000}, {\"Timestamp\": \"2024-02-01T00:00:00\", \"Category\": \"EZBC\", \"Values\": 61200000}, {\"Timestamp\": \"2024-02-02T00:00:00\", \"Category\": \"EZBC\", \"Values\": 63600000}, {\"Timestamp\": \"2024-02-05T00:00:00\", \"Category\": \"EZBC\", \"Values\": 62800000}, {\"Timestamp\": \"2024-02-06T00:00:00\", \"Category\": \"EZBC\", \"Values\": 63800000}, {\"Timestamp\": \"2024-02-07T00:00:00\", \"Category\": \"EZBC\", \"Values\": 70200000}, {\"Timestamp\": \"2024-02-08T00:00:00\", \"Category\": \"EZBC\", \"Values\": 69600000}, {\"Timestamp\": \"2024-02-09T00:00:00\", \"Category\": \"EZBC\", \"Values\": 63824000}, {\"Timestamp\": \"2024-02-12T00:00:00\", \"Category\": \"EZBC\", \"Values\": 74824000}, {\"Timestamp\": \"2024-02-13T00:00:00\", \"Category\": \"EZBC\", \"Values\": 80500000}, {\"Timestamp\": \"2024-02-14T00:00:00\", \"Category\": \"EZBC\", \"Values\": 84130000}, {\"Timestamp\": \"2024-02-15T00:00:00\", \"Category\": \"EZBC\", \"Values\": 96245000}, {\"Timestamp\": \"2024-02-16T00:00:00\", \"Category\": \"EZBC\", \"Values\": 96224000}, {\"Timestamp\": \"2024-01-11T00:00:00\", \"Category\": \"BTCW\", \"Values\": 3000000}, {\"Timestamp\": \"2024-01-12T00:00:00\", \"Category\": \"BTCW\", \"Values\": 3300000}, {\"Timestamp\": \"2024-01-16T00:00:00\", \"Category\": \"BTCW\", \"Values\": 3200000}, {\"Timestamp\": \"2024-01-17T00:00:00\", \"Category\": \"BTCW\", \"Values\": 4800000}, {\"Timestamp\": \"2024-01-18T00:00:00\", \"Category\": \"BTCW\", \"Values\": 4600000}, {\"Timestamp\": \"2024-01-19T00:00:00\", \"Category\": \"BTCW\", \"Values\": 7600000}, {\"Timestamp\": \"2024-01-22T00:00:00\", \"Category\": \"BTCW\", \"Values\": 7700000}, {\"Timestamp\": \"2024-01-23T00:00:00\", \"Category\": \"BTCW\", \"Values\": 7500000}, {\"Timestamp\": \"2024-01-24T00:00:00\", \"Category\": \"BTCW\", \"Values\": 8000000}, {\"Timestamp\": \"2024-01-25T00:00:00\", \"Category\": \"BTCW\", \"Values\": 8000000}, {\"Timestamp\": \"2024-01-26T00:00:00\", \"Category\": \"BTCW\", \"Values\": 8500000}, {\"Timestamp\": \"2024-01-29T00:00:00\", \"Category\": \"BTCW\", \"Values\": 9200000}, {\"Timestamp\": \"2024-01-30T00:00:00\", \"Category\": \"BTCW\", \"Values\": 11300000}, {\"Timestamp\": \"2024-01-31T00:00:00\", \"Category\": \"BTCW\", \"Values\": 11200000}, {\"Timestamp\": \"2024-02-01T00:00:00\", \"Category\": \"BTCW\", \"Values\": 11900000}, {\"Timestamp\": \"2024-02-02T00:00:00\", \"Category\": \"BTCW\", \"Values\": 12800000}, {\"Timestamp\": \"2024-02-05T00:00:00\", \"Category\": \"BTCW\", \"Values\": 13300000}, {\"Timestamp\": \"2024-02-06T00:00:00\", \"Category\": \"BTCW\", \"Values\": 14700000}, {\"Timestamp\": \"2024-02-07T00:00:00\", \"Category\": \"BTCW\", \"Values\": 15900000}, {\"Timestamp\": \"2024-02-08T00:00:00\", \"Category\": \"BTCW\", \"Values\": 14900000}, {\"Timestamp\": \"2024-02-09T00:00:00\", \"Category\": \"BTCW\", \"Values\": 18970000}, {\"Timestamp\": \"2024-02-12T00:00:00\", \"Category\": \"BTCW\", \"Values\": 20439000}, {\"Timestamp\": \"2024-02-13T00:00:00\", \"Category\": \"BTCW\", \"Values\": 20156000}, {\"Timestamp\": \"2024-02-14T00:00:00\", \"Category\": \"BTCW\", \"Values\": 22834000}, {\"Timestamp\": \"2024-02-15T00:00:00\", \"Category\": \"BTCW\", \"Values\": 26436000}, {\"Timestamp\": \"2024-02-16T00:00:00\", \"Category\": \"BTCW\", \"Values\": 26429000}, {\"Timestamp\": \"2024-01-11T00:00:00\", \"Category\": \"BTCO\", \"Values\": 22000000}, {\"Timestamp\": \"2024-01-12T00:00:00\", \"Category\": \"BTCO\", \"Values\": 22500000}, {\"Timestamp\": \"2024-01-16T00:00:00\", \"Category\": \"BTCO\", \"Values\": 80900000}, {\"Timestamp\": \"2024-01-17T00:00:00\", \"Category\": \"BTCO\", \"Values\": 137500000}, {\"Timestamp\": \"2024-01-18T00:00:00\", \"Category\": \"BTCO\", \"Values\": 190000000}, {\"Timestamp\": \"2024-01-19T00:00:00\", \"Category\": \"BTCO\", \"Values\": 257400000}, {\"Timestamp\": \"2024-01-22T00:00:00\", \"Category\": \"BTCO\", \"Values\": 254300000}, {\"Timestamp\": \"2024-01-23T00:00:00\", \"Category\": \"BTCO\", \"Values\": 247800000}, {\"Timestamp\": \"2024-01-24T00:00:00\", \"Category\": \"BTCO\", \"Values\": 270000000}, {\"Timestamp\": \"2024-01-25T00:00:00\", \"Category\": \"BTCO\", \"Values\": 272200000}, {\"Timestamp\": \"2024-01-26T00:00:00\", \"Category\": \"BTCO\", \"Values\": 287100000}, {\"Timestamp\": \"2024-01-29T00:00:00\", \"Category\": \"BTCO\", \"Values\": 298200000}, {\"Timestamp\": \"2024-01-30T00:00:00\", \"Category\": \"BTCO\", \"Values\": 307300000}, {\"Timestamp\": \"2024-01-31T00:00:00\", \"Category\": \"BTCO\", \"Values\": 301500000}, {\"Timestamp\": \"2024-02-01T00:00:00\", \"Category\": \"BTCO\", \"Values\": 304900000}, {\"Timestamp\": \"2024-02-02T00:00:00\", \"Category\": \"BTCO\", \"Values\": 304400000}, {\"Timestamp\": \"2024-02-05T00:00:00\", \"Category\": \"BTCO\", \"Values\": 300400000}, {\"Timestamp\": \"2024-02-06T00:00:00\", \"Category\": \"BTCO\", \"Values\": 305500000}, {\"Timestamp\": \"2024-02-07T00:00:00\", \"Category\": \"BTCO\", \"Values\": 321500000}, {\"Timestamp\": \"2024-02-08T00:00:00\", \"Category\": \"BTCO\", \"Values\": 345100000}, {\"Timestamp\": \"2024-02-09T00:00:00\", \"Category\": \"BTCO\", \"Values\": 343106000}, {\"Timestamp\": \"2024-02-12T00:00:00\", \"Category\": \"BTCO\", \"Values\": 341448000}, {\"Timestamp\": \"2024-02-13T00:00:00\", \"Category\": \"BTCO\", \"Values\": 336237000}, {\"Timestamp\": \"2024-02-14T00:00:00\", \"Category\": \"BTCO\", \"Values\": 314349000}, {\"Timestamp\": \"2024-02-15T00:00:00\", \"Category\": \"BTCO\", \"Values\": 315479000}, {\"Timestamp\": \"2024-02-16T00:00:00\", \"Category\": \"BTCO\", \"Values\": 317397000}, {\"Timestamp\": \"2024-01-11T00:00:00\", \"Category\": \"FBTC\", \"Values\": 247000000}, {\"Timestamp\": \"2024-01-12T00:00:00\", \"Category\": \"FBTC\", \"Values\": 427000000}, {\"Timestamp\": \"2024-01-16T00:00:00\", \"Category\": \"FBTC\", \"Values\": 523200000}, {\"Timestamp\": \"2024-01-17T00:00:00\", \"Category\": \"FBTC\", \"Values\": 874600000}, {\"Timestamp\": \"2024-01-18T00:00:00\", \"Category\": \"FBTC\", \"Values\": 1016700000}, {\"Timestamp\": \"2024-01-19T00:00:00\", \"Category\": \"FBTC\", \"Values\": 1262700000}, {\"Timestamp\": \"2024-01-22T00:00:00\", \"Category\": \"FBTC\", \"Values\": 1368900000}, {\"Timestamp\": \"2024-01-23T00:00:00\", \"Category\": \"FBTC\", \"Values\": 1495400000}, {\"Timestamp\": \"2024-01-24T00:00:00\", \"Category\": \"FBTC\", \"Values\": 1638100000}, {\"Timestamp\": \"2024-01-25T00:00:00\", \"Category\": \"FBTC\", \"Values\": 1746700000}, {\"Timestamp\": \"2024-01-26T00:00:00\", \"Category\": \"FBTC\", \"Values\": 1941600000}, {\"Timestamp\": \"2024-01-29T00:00:00\", \"Category\": \"FBTC\", \"Values\": 2201200000}, {\"Timestamp\": \"2024-01-30T00:00:00\", \"Category\": \"FBTC\", \"Values\": 2346600000}, {\"Timestamp\": \"2024-01-31T00:00:00\", \"Category\": \"FBTC\", \"Values\": 2535400000}, {\"Timestamp\": \"2024-02-01T00:00:00\", \"Category\": \"FBTC\", \"Values\": 2585800000}, {\"Timestamp\": \"2024-02-02T00:00:00\", \"Category\": \"FBTC\", \"Values\": 2660700000}, {\"Timestamp\": \"2024-02-05T00:00:00\", \"Category\": \"FBTC\", \"Values\": 2660800000}, {\"Timestamp\": \"2024-02-06T00:00:00\", \"Category\": \"FBTC\", \"Values\": 2745600000}, {\"Timestamp\": \"2024-02-07T00:00:00\", \"Category\": \"FBTC\", \"Values\": 2937100000}, {\"Timestamp\": \"2024-02-08T00:00:00\", \"Category\": \"FBTC\", \"Values\": 3159500000}, {\"Timestamp\": \"2024-02-09T00:00:00\", \"Category\": \"FBTC\", \"Values\": 3306362000}, {\"Timestamp\": \"2024-02-12T00:00:00\", \"Category\": \"FBTC\", \"Values\": 3668692000}, {\"Timestamp\": \"2024-02-13T00:00:00\", \"Category\": \"FBTC\", \"Values\": 3763275000}, {\"Timestamp\": \"2024-02-14T00:00:00\", \"Category\": \"FBTC\", \"Values\": 4131883000}, {\"Timestamp\": \"2024-02-15T00:00:00\", \"Category\": \"FBTC\", \"Values\": 4251655000}, {\"Timestamp\": \"2024-02-16T00:00:00\", \"Category\": \"FBTC\", \"Values\": 4350417000}, {\"Timestamp\": \"2024-01-11T00:00:00\", \"Category\": \"BRRR\", \"Values\": 1000000}, {\"Timestamp\": \"2024-01-12T00:00:00\", \"Category\": \"BRRR\", \"Values\": 500000}, {\"Timestamp\": \"2024-01-16T00:00:00\", \"Category\": \"BRRR\", \"Values\": 47700000}, {\"Timestamp\": \"2024-01-17T00:00:00\", \"Category\": \"BRRR\", \"Values\": 62200000}, {\"Timestamp\": \"2024-01-18T00:00:00\", \"Category\": \"BRRR\", \"Values\": 60800000}, {\"Timestamp\": \"2024-01-19T00:00:00\", \"Category\": \"BRRR\", \"Values\": 71700000}, {\"Timestamp\": \"2024-01-22T00:00:00\", \"Category\": \"BRRR\", \"Values\": 88300000}, {\"Timestamp\": \"2024-01-23T00:00:00\", \"Category\": \"BRRR\", \"Values\": 86400000}, {\"Timestamp\": \"2024-01-24T00:00:00\", \"Category\": \"BRRR\", \"Values\": 96600000}, {\"Timestamp\": \"2024-01-25T00:00:00\", \"Category\": \"BRRR\", \"Values\": 103300000}, {\"Timestamp\": \"2024-01-26T00:00:00\", \"Category\": \"BRRR\", \"Values\": 110700000}, {\"Timestamp\": \"2024-01-29T00:00:00\", \"Category\": \"BRRR\", \"Values\": 113600000}, {\"Timestamp\": \"2024-01-30T00:00:00\", \"Category\": \"BRRR\", \"Values\": 114900000}, {\"Timestamp\": \"2024-01-31T00:00:00\", \"Category\": \"BRRR\", \"Values\": 113500000}, {\"Timestamp\": \"2024-02-01T00:00:00\", \"Category\": \"BRRR\", \"Values\": 114100000}, {\"Timestamp\": \"2024-02-02T00:00:00\", \"Category\": \"BRRR\", \"Values\": 113900000}, {\"Timestamp\": \"2024-02-05T00:00:00\", \"Category\": \"BRRR\", \"Values\": 112400000}, {\"Timestamp\": \"2024-02-06T00:00:00\", \"Category\": \"BRRR\", \"Values\": 114300000}, {\"Timestamp\": \"2024-02-07T00:00:00\", \"Category\": \"BRRR\", \"Values\": 117900000}, {\"Timestamp\": \"2024-02-08T00:00:00\", \"Category\": \"BRRR\", \"Values\": 123700000}, {\"Timestamp\": \"2024-02-09T00:00:00\", \"Category\": \"BRRR\", \"Values\": 129568000}, {\"Timestamp\": \"2024-02-12T00:00:00\", \"Category\": \"BRRR\", \"Values\": 137390000}, {\"Timestamp\": \"2024-02-13T00:00:00\", \"Category\": \"BRRR\", \"Values\": 136540000}, {\"Timestamp\": \"2024-02-14T00:00:00\", \"Category\": \"BRRR\", \"Values\": 143497000}, {\"Timestamp\": \"2024-02-15T00:00:00\", \"Category\": \"BRRR\", \"Values\": 144668000}, {\"Timestamp\": \"2024-02-16T00:00:00\", \"Category\": \"BRRR\", \"Values\": 151973000}, {\"Timestamp\": \"2024-01-11T00:00:00\", \"Category\": \"HODL\", \"Values\": 87000000}, {\"Timestamp\": \"2024-01-12T00:00:00\", \"Category\": \"HODL\", \"Values\": 81700000}, {\"Timestamp\": \"2024-01-16T00:00:00\", \"Category\": \"HODL\", \"Values\": 88000000}, {\"Timestamp\": \"2024-01-17T00:00:00\", \"Category\": \"HODL\", \"Values\": 91700000}, {\"Timestamp\": \"2024-01-18T00:00:00\", \"Category\": \"HODL\", \"Values\": 90300000}, {\"Timestamp\": \"2024-01-19T00:00:00\", \"Category\": \"HODL\", \"Values\": 106700000}, {\"Timestamp\": \"2024-01-22T00:00:00\", \"Category\": \"HODL\", \"Values\": 109000000}, {\"Timestamp\": \"2024-01-23T00:00:00\", \"Category\": \"HODL\", \"Values\": 108800000}, {\"Timestamp\": \"2024-01-24T00:00:00\", \"Category\": \"HODL\", \"Values\": 114800000}, {\"Timestamp\": \"2024-01-25T00:00:00\", \"Category\": \"HODL\", \"Values\": 114900000}, {\"Timestamp\": \"2024-01-26T00:00:00\", \"Category\": \"HODL\", \"Values\": 123600000}, {\"Timestamp\": \"2024-01-29T00:00:00\", \"Category\": \"HODL\", \"Values\": 126800000}, {\"Timestamp\": \"2024-01-30T00:00:00\", \"Category\": \"HODL\", \"Values\": 128300000}, {\"Timestamp\": \"2024-01-31T00:00:00\", \"Category\": \"HODL\", \"Values\": 128500000}, {\"Timestamp\": \"2024-02-01T00:00:00\", \"Category\": \"HODL\", \"Values\": 129100000}, {\"Timestamp\": \"2024-02-02T00:00:00\", \"Category\": \"HODL\", \"Values\": 131400000}, {\"Timestamp\": \"2024-02-05T00:00:00\", \"Category\": \"HODL\", \"Values\": 129700000}, {\"Timestamp\": \"2024-02-06T00:00:00\", \"Category\": \"HODL\", \"Values\": 134300000}, {\"Timestamp\": \"2024-02-07T00:00:00\", \"Category\": \"HODL\", \"Values\": 137000000}, {\"Timestamp\": \"2024-02-08T00:00:00\", \"Category\": \"HODL\", \"Values\": 151800000}, {\"Timestamp\": \"2024-02-09T00:00:00\", \"Category\": \"HODL\", \"Values\": 158960000}, {\"Timestamp\": \"2024-02-12T00:00:00\", \"Category\": \"HODL\", \"Values\": 169633000}, {\"Timestamp\": \"2024-02-13T00:00:00\", \"Category\": \"HODL\", \"Values\": 175676000}, {\"Timestamp\": \"2024-02-14T00:00:00\", \"Category\": \"HODL\", \"Values\": 184621000}, {\"Timestamp\": \"2024-02-15T00:00:00\", \"Category\": \"HODL\", \"Values\": 187735000}, {\"Timestamp\": \"2024-02-16T00:00:00\", \"Category\": \"HODL\", \"Values\": 190609000}]}}, {\"mode\": \"vega-lite\"});\n",
       "</script>"
      ],
      "text/plain": [
       "alt.Chart(...)"
      ]
     },
     "execution_count": 10,
     "metadata": {},
     "output_type": "execute_result"
    }
   ],
   "source": [
    "\n",
    "# data_melted = data.reset_index(drop=False).melt('Timestamp', var_name='Fund', value_name='Net Flow (USD)')\n",
    "# data_melted\n",
    "# Create a bar chart for each column and layer them on top of each other\n",
    "data_melted = aum_data.reset_index().melt('Timestamp', var_name='Category', value_name='Values') \n",
    "data_melted\n",
    "chart = alt.Chart(data_melted).mark_bar().encode(\n",
    "    x=alt.X('Timestamp:T', axis=alt.Axis(title='Date')),\n",
    "    y=alt.Y('Values:Q'),\n",
    "    color='Category:N',\n",
    "    # tooltip=['Category']\n",
    ").interactive()\n",
    "chart\n",
    "# chart = alt.Chart(data).mark_bar().encode(x = 'Timestamp', y = 'GBTC').interactive()\n",
    "# chart"
   ]
  },
  {
   "cell_type": "code",
   "execution_count": null,
   "metadata": {},
   "outputs": [],
   "source": [
    "import btc_etfs\n",
    "aum_dollars = btc_etfs.btc_etf_data(metric=\"etf_aum_daily\").df\n",
    "aum_dollarshybrid_flows_table\n",
    "aum_dollars.to_excel(wd+fdel+\"hybrid_flows_table.xlsx\")"
   ]
  },
  {
   "cell_type": "code",
   "execution_count": null,
   "metadata": {},
   "outputs": [],
   "source": [
    "from bs4 import BeautifulSoup\n",
    "soup = BeautifulSoup(\"<p>Some<b>bad<i>HTML\")\n",
    "print(soup.prettify())"
   ]
  },
  {
   "cell_type": "code",
   "execution_count": null,
   "metadata": {},
   "outputs": [],
   "source": [
    "import altair as alt \n",
    "import charts\n",
    "hybrid_df = pd.read_excel(wd+fdel+\"Hybrid_flowz_table.xlsx\", index_col = 0)\n",
    "fig = charts.altair_line(hybrid_df, right_columns = ['GBTC'])\n",
    "fig"
   ]
  },
  {
   "cell_type": "code",
   "execution_count": null,
   "metadata": {},
   "outputs": [],
   "source": []
  }
 ],
 "metadata": {
  "kernelspec": {
   "display_name": "Financial",
   "language": "python",
   "name": "python3"
  },
  "language_info": {
   "codemirror_mode": {
    "name": "ipython",
    "version": 3
   },
   "file_extension": ".py",
   "mimetype": "text/x-python",
   "name": "python",
   "nbconvert_exporter": "python",
   "pygments_lexer": "ipython3",
   "version": "3.11.8"
  }
 },
 "nbformat": 4,
 "nbformat_minor": 2
}
